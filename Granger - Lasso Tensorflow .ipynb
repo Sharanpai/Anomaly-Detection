{
 "cells": [
  {
   "cell_type": "code",
   "execution_count": 3,
   "metadata": {
    "collapsed": false
   },
   "outputs": [
    {
     "name": "stdout",
     "output_type": "stream",
     "text": [
      "pandas: 0.18.1\n",
      "numpy: 1.13.1\n",
      "tensorflow: 1.2.0\n",
      "matplotlib: 2.0.0\n",
      "scipy: 0.18.1\n"
     ]
    }
   ],
   "source": [
    "import pandas as pd\n",
    "import numpy as np\n",
    "#import statsmodels as stats\n",
    "import tensorflow as tf\n",
    "import matplotlib\n",
    "import matplotlib.pyplot as plt\n",
    "import scipy \n",
    "#from statsmodels.tsa.stattools  import   grangercausalitytests\n",
    "\n",
    "print('pandas: %s' % pd.__version__)\n",
    "print('numpy: %s' % np.__version__)\n",
    "#print('statsmodels: %s' % stats.__version__)\n",
    "print('tensorflow: %s' % tf.__version__)\n",
    "print('matplotlib: %s' % matplotlib.__version__)\n",
    "print('scipy: %s' % scipy.__version__)"
   ]
  },
  {
   "cell_type": "code",
   "execution_count": 4,
   "metadata": {
    "collapsed": false
   },
   "outputs": [],
   "source": [
    "# input the data\n",
    "amb_temp = pd.read_csv(\"amb_temp.csv\")\n",
    "comp_temp = pd.read_csv(\"comp_temp.csv\")\n",
    "mcu_temp = pd.read_csv(\"mcu_temp.csv\")\n",
    "current = pd.read_csv(\"current.csv\")\n",
    "power = pd.read_csv(\"power.csv\")\n",
    "#---\n",
    "door = pd.read_csv(\"door.csv\")\n",
    "energy = pd.read_csv(\"energy.csv\")\n",
    "power_factor = pd.read_csv(\"power_factor.csv\")\n",
    "voltage = pd.read_csv(\"voltage.csv\")\n",
    "zcontrol = pd.read_csv(\"zcontrol.csv\")\n",
    "\n",
    "#mearging the data and a bit cleaning.\n",
    "data = pd.concat([amb_temp, comp_temp, mcu_temp ,current ,door,energy ,power ,power_factor ,voltage ,zcontrol], axis = 1)\n",
    "data.columns = [\"date\",'amb_temp', \"date\",'comp_temp', \"date\",'mcu_temp' ,\"date\",'current' ,\"date\",'door',\"date\",'energy' ,\"date\",'power' ,\"date\",'power_factor' ,\"date\",'voltage' ,\"date\",'zcontrol']\n",
    "data = data[['amb_temp','comp_temp','mcu_temp' ,'current' ,'power' ]]\n",
    "#data.fillna(data.mean, inplace=True)\n",
    "currentarray = np.array(data[\"current\"].values)\n",
    "amb_temparray = np.array(data[\"amb_temp\"].values)\n",
    "comp_temparray = np.array(data[\"comp_temp\"].values)\n",
    "mcu_temparray = np.array(data[\"mcu_temp\"].values)\n",
    "powerarray = np.array(data[\"power\"].values)\n",
    "\n",
    "#---\n",
    "#doorarray = np.array(data[\"door\"].values)\n",
    "#energyarray = np.array(data[\"energy\"].values)\n",
    "#power_factorarray = np.array(data[\"power_factor\"].values)\n",
    "#voltagearray = np.array(data[\"voltage\"].values)\n",
    "#zcontrolarray = np.array(data[\"zcontrol\"].values)"
   ]
  },
  {
   "cell_type": "code",
   "execution_count": 5,
   "metadata": {
    "collapsed": true
   },
   "outputs": [],
   "source": [
    "amb0 = amb_temparray[0:100]\n",
    "mcu0 = mcu_temparray[0:100]\n",
    "comp0 = comp_temparray[0:100]\n",
    "power0 = powerarray[0:100]\n",
    "current0 = currentarray[0:100]"
   ]
  },
  {
   "cell_type": "code",
   "execution_count": 6,
   "metadata": {
    "collapsed": false
   },
   "outputs": [],
   "source": [
    "amb1 = amb_temparray[1:101]\n",
    "mcu1 = mcu_temparray[1:101]\n",
    "comp1 = comp_temparray[1:101]\n",
    "power1 = powerarray[1:101]\n",
    "current1 = currentarray[1:101]"
   ]
  },
  {
   "cell_type": "code",
   "execution_count": 7,
   "metadata": {
    "collapsed": true
   },
   "outputs": [],
   "source": [
    "amb2 = amb_temparray[2:102]\n",
    "mcu2 = mcu_temparray[2:102]\n",
    "comp2 = comp_temparray[2:102]\n",
    "power2 = powerarray[2:102]\n",
    "current2 = currentarray[2:102]"
   ]
  },
  {
   "cell_type": "code",
   "execution_count": 8,
   "metadata": {
    "collapsed": false
   },
   "outputs": [],
   "source": [
    "#PlaceHolders \n",
    "amblag0 = tf.placeholder(shape=[100,], dtype=tf.float32, name = \"amblag0\")\n",
    "amblag1 = tf.placeholder(shape=[100,], dtype=tf.float32, name = \"amblag0\")\n",
    "mculag0 = tf.placeholder(shape=[100,], dtype=tf.float32, name = \"amblag0\")\n",
    "mculag1 = tf.placeholder(shape=[100,], dtype=tf.float32, name = \"amblag0\")\n",
    "complag0 = tf.placeholder(shape=[100,], dtype=tf.float32, name = \"xprev\")\n",
    "complag1 = tf.placeholder(shape=[100,], dtype=tf.float32, name = \"xprev\")\n",
    "powerlag0 = tf.placeholder(shape=[100,], dtype=tf.float32, name = \"xprev\")\n",
    "powerlag1 = tf.placeholder(shape=[100,], dtype=tf.float32, name = \"xprev\")\n",
    "currentlag0 = tf.placeholder(shape=[100,], dtype=tf.float32, name = \"xprev\")\n",
    "currentlag1 = tf.placeholder(shape=[100,], dtype=tf.float32, name = \"xprev\")\n",
    "\n",
    "amblag2 = tf.placeholder(shape=[100,], dtype=tf.float32, name = \"amblag2\")\n",
    "mculag2 = tf.placeholder(shape=[100,], dtype=tf.float32, name = \"amblag0\")\n",
    "complag2 = tf.placeholder(shape=[100,], dtype=tf.float32, name = \"xprev\")\n",
    "powerlag2 = tf.placeholder(shape=[100,], dtype=tf.float32, name = \"xprev\")\n",
    "currentlag2 = tf.placeholder(shape=[100,], dtype=tf.float32, name = \"xprev\")\n",
    "\n",
    "# variable for Granger-Lasso coeffiecients \n",
    "A1 = tf.Variable(1,dtype=tf.float32)\n",
    "A2= tf.Variable(1,dtype=tf.float32)\n",
    "A3 = tf.Variable(1,dtype=tf.float32)\n",
    "A4 = tf.Variable(1,dtype=tf.float32)\n",
    "A5 = tf.Variable(1,dtype=tf.float32)\n",
    "A6 = tf.Variable(1,dtype=tf.float32)\n",
    "A7 = tf.Variable(1,dtype=tf.float32)\n",
    "A8 = tf.Variable(1,dtype=tf.float32)\n",
    "A9 = tf.Variable(1,dtype=tf.float32)\n",
    "A10 = tf.Variable(1,dtype=tf.float32)\n",
    "\n",
    "#Output \n",
    "one = tf.add(tf.multiply(A1,amblag0),tf.multiply(A2,amblag1))\n",
    "two = tf.add(tf.multiply(A3,complag0),tf.multiply(A4,complag1))\n",
    "three = tf.add(tf.multiply(A5,mculag0),tf.multiply(A6,mculag1))\n",
    "four = tf.add(tf.multiply(A7,currentlag0),tf.multiply(A8,currentlag1))\n",
    "five = tf.add(tf.multiply(A9,powerlag0),tf.multiply(A10,powerlag1))\n",
    "next1 = tf.add(one,two)\n",
    "next2 = tf.add(three,four)\n",
    "end = tf.add(next1,next2)\n",
    "\n",
    "model_output = tf.add(end,five)"
   ]
  },
  {
   "cell_type": "code",
   "execution_count": 9,
   "metadata": {
    "collapsed": false
   },
   "outputs": [],
   "source": [
    "loss_amb = tf.square(tf.subtract(amblag2,tf.multiply(amblag1,model_output)))"
   ]
  },
  {
   "cell_type": "code",
   "execution_count": 10,
   "metadata": {
    "collapsed": false
   },
   "outputs": [],
   "source": [
    "alpha = 0.0001\n",
    "my_opt = tf.train.GradientDescentOptimizer(alpha)\n",
    "train_step = my_opt.minimize(loss_amb)\n",
    "sess = tf.Session()\n",
    "init = tf.global_variables_initializer()\n",
    "sess.run(init)"
   ]
  },
  {
   "cell_type": "code",
   "execution_count": 11,
   "metadata": {
    "collapsed": false
   },
   "outputs": [],
   "source": [
    "sess = tf.Session()\n",
    "init = tf.global_variables_initializer()\n",
    "sess.run(init)"
   ]
  },
  {
   "cell_type": "code",
   "execution_count": 12,
   "metadata": {
    "collapsed": false
   },
   "outputs": [
    {
     "name": "stdout",
     "output_type": "stream",
     "text": [
      "A1 is -1.08662e+06\n",
      "A2 is -1.08692e+06\n",
      "A3 is -1.11825e+06\n",
      "A4 is -1.17308e+06\n",
      "A5 is -350708.0\n",
      "A6 is -346147.0\n",
      "A7 is -325818.0\n",
      "A8 is -325870.0\n",
      "A9 is -7.20694e+07\n",
      "A10 is -7.20022e+07\n"
     ]
    }
   ],
   "source": [
    "storeamb = []\n",
    "\n",
    "sess.run(train_step, feed_dict={amblag0 :amb0, amblag1:amb1, mculag0 : mcu0 ,mculag1 : mcu1 ,complag0 :comp0, complag1 :comp1 ,powerlag0 : power0 ,powerlag1 : power1 ,currentlag0 :current0 ,currentlag1 : current1,amblag2 : amb2}) \n",
    "print(\"A1 is\", sess.run(A1))\n",
    "print(\"A2 is\", sess.run(A2))\n",
    "print(\"A3 is\", sess.run(A3))\n",
    "print(\"A4 is\", sess.run(A4))\n",
    "print(\"A5 is\", sess.run(A5))\n",
    "print(\"A6 is\", sess.run(A6))\n",
    "print(\"A7 is\", sess.run(A7))\n",
    "print(\"A8 is\", sess.run(A8))\n",
    "print(\"A9 is\", sess.run(A9))\n",
    "print(\"A10 is\", sess.run(A10))\n",
    "storeamb.append(sess.run(A1))\n",
    "storeamb.append(sess.run(A2))\n",
    "storeamb.append(sess.run(A3))\n",
    "storeamb.append(sess.run(A4))\n",
    "storeamb.append(sess.run(A5))\n",
    "storeamb.append(sess.run(A6))\n",
    "storeamb.append(sess.run(A7))\n",
    "storeamb.append(sess.run(A8))\n",
    "storeamb.append(sess.run(A9))\n",
    "storeamb.append(sess.run(A10))"
   ]
  },
  {
   "cell_type": "code",
   "execution_count": 13,
   "metadata": {
    "collapsed": false
   },
   "outputs": [
    {
     "data": {
      "text/plain": [
       "[-1086615.1,\n",
       " -1086924.9,\n",
       " -1118251.0,\n",
       " -1173084.3,\n",
       " -350708.16,\n",
       " -346146.91,\n",
       " -325817.72,\n",
       " -325870.16,\n",
       " -72069360.0,\n",
       " -72002216.0]"
      ]
     },
     "execution_count": 13,
     "metadata": {},
     "output_type": "execute_result"
    }
   ],
   "source": [
    "storeamb"
   ]
  },
  {
   "cell_type": "code",
   "execution_count": 14,
   "metadata": {
    "collapsed": true
   },
   "outputs": [],
   "source": [
    "loss_comp = tf.square(tf.subtract(complag2,tf.multiply(complag1,model_output)))"
   ]
  },
  {
   "cell_type": "code",
   "execution_count": 15,
   "metadata": {
    "collapsed": true
   },
   "outputs": [],
   "source": [
    "alpha = 0.0001\n",
    "my_opt = tf.train.GradientDescentOptimizer(alpha)\n",
    "train_step = my_opt.minimize(loss_comp)\n",
    "sess = tf.Session()\n",
    "init = tf.global_variables_initializer()\n",
    "sess.run(init)"
   ]
  },
  {
   "cell_type": "code",
   "execution_count": 16,
   "metadata": {
    "collapsed": false
   },
   "outputs": [
    {
     "name": "stdout",
     "output_type": "stream",
     "text": [
      "A1 is -1.27573e+06\n",
      "A2 is -1.27608e+06\n",
      "A3 is -1.33323e+06\n",
      "A4 is -1.39803e+06\n",
      "A5 is -411223.0\n",
      "A6 is -404698.0\n",
      "A7 is -404531.0\n",
      "A8 is -381677.0\n",
      "A9 is -8.9477e+07\n",
      "A10 is -8.43112e+07\n"
     ]
    }
   ],
   "source": [
    "storecomp = []\n",
    "\n",
    "sess.run(train_step, feed_dict={amblag0 :amb0, amblag1:amb1, mculag0 : mcu0 ,mculag1 : mcu1 ,complag0 :comp0, complag1 :comp1 ,powerlag0 : power0 ,powerlag1 : power1 ,currentlag0 :current0 ,currentlag1 : current1, complag2 : comp2}) \n",
    "print(\"A1 is\", sess.run(A1))\n",
    "print(\"A2 is\", sess.run(A2))\n",
    "print(\"A3 is\", sess.run(A3))\n",
    "print(\"A4 is\", sess.run(A4))\n",
    "print(\"A5 is\", sess.run(A5))\n",
    "print(\"A6 is\", sess.run(A6))\n",
    "print(\"A7 is\", sess.run(A7))\n",
    "print(\"A8 is\", sess.run(A8))\n",
    "print(\"A9 is\", sess.run(A9))\n",
    "print(\"A10 is\", sess.run(A10))\n",
    "storecomp.append(sess.run(A1))\n",
    "storecomp.append(sess.run(A2))\n",
    "storecomp.append(sess.run(A3))\n",
    "storecomp.append(sess.run(A4))\n",
    "storecomp.append(sess.run(A5))\n",
    "storecomp.append(sess.run(A6))\n",
    "storecomp.append(sess.run(A7))\n",
    "storecomp.append(sess.run(A8))\n",
    "storecomp.append(sess.run(A9))\n",
    "storecomp.append(sess.run(A10))"
   ]
  },
  {
   "cell_type": "code",
   "execution_count": 17,
   "metadata": {
    "collapsed": true
   },
   "outputs": [],
   "source": [
    "loss_power = tf.square(tf.subtract(powerlag2,tf.multiply(powerlag1,model_output)))"
   ]
  },
  {
   "cell_type": "code",
   "execution_count": 18,
   "metadata": {
    "collapsed": true
   },
   "outputs": [],
   "source": [
    "alpha = 0.0001\n",
    "my_opt = tf.train.GradientDescentOptimizer(alpha)\n",
    "train_step = my_opt.minimize(loss_power)\n",
    "sess = tf.Session()\n",
    "init = tf.global_variables_initializer()\n",
    "sess.run(init)"
   ]
  },
  {
   "cell_type": "code",
   "execution_count": 19,
   "metadata": {
    "collapsed": false
   },
   "outputs": [
    {
     "name": "stdout",
     "output_type": "stream",
     "text": [
      "A1 is -5.82196e+09\n",
      "A2 is -5.82356e+09\n",
      "A3 is -5.85922e+09\n",
      "A4 is -6.27658e+09\n",
      "A5 is -1.90214e+09\n",
      "A6 is -1.87488e+09\n",
      "A7 is -1.89602e+09\n",
      "A8 is -2.1768e+09\n",
      "A9 is -4.1935e+11\n",
      "A10 is -4.81533e+11\n"
     ]
    }
   ],
   "source": [
    "storepower = []\n",
    "\n",
    "sess.run(train_step, feed_dict={amblag0 :amb0, amblag1:amb1, mculag0 : mcu0 ,mculag1 : mcu1 ,complag0 :comp0, complag1 :comp1 ,powerlag0 : power0 ,powerlag1 : power1 ,currentlag0 :current0 ,currentlag1 : current1, powerlag2 : power2}) \n",
    "print(\"A1 is\", sess.run(A1))\n",
    "print(\"A2 is\", sess.run(A2))\n",
    "print(\"A3 is\", sess.run(A3))\n",
    "print(\"A4 is\", sess.run(A4))\n",
    "print(\"A5 is\", sess.run(A5))\n",
    "print(\"A6 is\", sess.run(A6))\n",
    "print(\"A7 is\", sess.run(A7))\n",
    "print(\"A8 is\", sess.run(A8))\n",
    "print(\"A9 is\", sess.run(A9))\n",
    "print(\"A10 is\", sess.run(A10))\n",
    "storepower.append(sess.run(A1))\n",
    "storepower.append(sess.run(A2))\n",
    "storepower.append(sess.run(A3))\n",
    "storepower.append(sess.run(A4))\n",
    "storepower.append(sess.run(A5))\n",
    "storepower.append(sess.run(A6))\n",
    "storepower.append(sess.run(A7))\n",
    "storepower.append(sess.run(A8))\n",
    "storepower.append(sess.run(A9))\n",
    "storepower.append(sess.run(A10))"
   ]
  },
  {
   "cell_type": "code",
   "execution_count": 20,
   "metadata": {
    "collapsed": true
   },
   "outputs": [],
   "source": [
    "loss_mcu = tf.square(tf.subtract(mculag2,tf.multiply(mculag1,model_output)))"
   ]
  },
  {
   "cell_type": "code",
   "execution_count": 21,
   "metadata": {
    "collapsed": true
   },
   "outputs": [],
   "source": [
    "alpha = 0.0001\n",
    "my_opt = tf.train.GradientDescentOptimizer(alpha)\n",
    "train_step = my_opt.minimize(loss_mcu)\n",
    "sess = tf.Session()\n",
    "init = tf.global_variables_initializer()\n",
    "sess.run(init)"
   ]
  },
  {
   "cell_type": "code",
   "execution_count": 22,
   "metadata": {
    "collapsed": false
   },
   "outputs": [
    {
     "name": "stdout",
     "output_type": "stream",
     "text": [
      "A1 is -110340.0\n",
      "A2 is -110372.0\n",
      "A3 is -112797.0\n",
      "A4 is -118616.0\n",
      "A5 is -35675.7\n",
      "A6 is -35235.3\n",
      "A7 is -32914.1\n",
      "A8 is -33707.0\n",
      "A9 is -7.28119e+06\n",
      "A10 is -7.44896e+06\n"
     ]
    }
   ],
   "source": [
    "storemcu = []\n",
    "\n",
    "sess.run(train_step, feed_dict={amblag0 :amb0, amblag1:amb1, mculag0 : mcu0 ,mculag1 : mcu1 ,complag0 :comp0, complag1 :comp1 ,powerlag0 : power0 ,powerlag1 : power1 ,currentlag0 :current0 ,currentlag1 : current1, mculag2 : mcu2}) \n",
    "print(\"A1 is\", sess.run(A1))\n",
    "print(\"A2 is\", sess.run(A2))\n",
    "print(\"A3 is\", sess.run(A3))\n",
    "print(\"A4 is\", sess.run(A4))\n",
    "print(\"A5 is\", sess.run(A5))\n",
    "print(\"A6 is\", sess.run(A6))\n",
    "print(\"A7 is\", sess.run(A7))\n",
    "print(\"A8 is\", sess.run(A8))\n",
    "print(\"A9 is\", sess.run(A9))\n",
    "print(\"A10 is\", sess.run(A10))\n",
    "storemcu.append(sess.run(A1))\n",
    "storemcu.append(sess.run(A2))\n",
    "storemcu.append(sess.run(A3))\n",
    "storemcu.append(sess.run(A4))\n",
    "storemcu.append(sess.run(A5))\n",
    "storemcu.append(sess.run(A6))\n",
    "storemcu.append(sess.run(A7))\n",
    "storemcu.append(sess.run(A8))\n",
    "storemcu.append(sess.run(A9))\n",
    "storemcu.append(sess.run(A10))"
   ]
  },
  {
   "cell_type": "code",
   "execution_count": 23,
   "metadata": {
    "collapsed": true
   },
   "outputs": [],
   "source": [
    "loss_current = tf.square(tf.subtract(currentlag2,tf.multiply(currentlag1,model_output)))"
   ]
  },
  {
   "cell_type": "code",
   "execution_count": 24,
   "metadata": {
    "collapsed": true
   },
   "outputs": [],
   "source": [
    "alpha = 0.0001\n",
    "my_opt = tf.train.GradientDescentOptimizer(alpha)\n",
    "train_step = my_opt.minimize(loss_current)\n",
    "sess = tf.Session()\n",
    "init = tf.global_variables_initializer()\n",
    "sess.run(init)"
   ]
  },
  {
   "cell_type": "code",
   "execution_count": 25,
   "metadata": {
    "collapsed": false
   },
   "outputs": [
    {
     "name": "stdout",
     "output_type": "stream",
     "text": [
      "A1 is -119179.0\n",
      "A2 is -119211.0\n",
      "A3 is -119958.0\n",
      "A4 is -128464.0\n",
      "A5 is -38932.3\n",
      "A6 is -38375.1\n",
      "A7 is -38748.8\n",
      "A8 is -44522.1\n",
      "A9 is -8.57075e+06\n",
      "A10 is -9.84288e+06\n"
     ]
    }
   ],
   "source": [
    "storecurrent = []\n",
    "\n",
    "sess.run(train_step, feed_dict={amblag0 :amb0, amblag1:amb1, mculag0 : mcu0 ,mculag1 : mcu1 ,complag0 :comp0, complag1 :comp1 ,powerlag0 : power0 ,powerlag1 : power1 ,currentlag0 :current0 ,currentlag1 : current1, currentlag2 : current2}) \n",
    "print(\"A1 is\", sess.run(A1))\n",
    "print(\"A2 is\", sess.run(A2))\n",
    "print(\"A3 is\", sess.run(A3))\n",
    "print(\"A4 is\", sess.run(A4))\n",
    "print(\"A5 is\", sess.run(A5))\n",
    "print(\"A6 is\", sess.run(A6))\n",
    "print(\"A7 is\", sess.run(A7))\n",
    "print(\"A8 is\", sess.run(A8))\n",
    "print(\"A9 is\", sess.run(A9))\n",
    "print(\"A10 is\", sess.run(A10))\n",
    "storecurrent.append(sess.run(A1))\n",
    "storecurrent.append(sess.run(A2))\n",
    "storecurrent.append(sess.run(A3))\n",
    "storecurrent.append(sess.run(A4))\n",
    "storecurrent.append(sess.run(A5))\n",
    "storecurrent.append(sess.run(A6))\n",
    "storecurrent.append(sess.run(A7))\n",
    "storecurrent.append(sess.run(A8))\n",
    "storecurrent.append(sess.run(A9))\n",
    "storecurrent.append(sess.run(A10))"
   ]
  },
  {
   "cell_type": "code",
   "execution_count": 22,
   "metadata": {
    "collapsed": false
   },
   "outputs": [
    {
     "name": "stderr",
     "output_type": "stream",
     "text": [
      "C:\\Users\\sharan\\Anaconda3\\lib\\site-packages\\numpy\\lib\\function_base.py:4269: RuntimeWarning: Invalid value encountered in percentile\n",
      "  interpolation=interpolation)\n"
     ]
    },
    {
     "data": {
      "text/html": [
       "<div>\n",
       "<table border=\"1\" class=\"dataframe\">\n",
       "  <thead>\n",
       "    <tr style=\"text-align: right;\">\n",
       "      <th></th>\n",
       "      <th>amb_temp</th>\n",
       "      <th>comp_temp</th>\n",
       "      <th>mcu_temp</th>\n",
       "      <th>current</th>\n",
       "      <th>door</th>\n",
       "      <th>energy</th>\n",
       "      <th>power</th>\n",
       "      <th>power_factor</th>\n",
       "      <th>voltage</th>\n",
       "      <th>zcontrol</th>\n",
       "    </tr>\n",
       "  </thead>\n",
       "  <tbody>\n",
       "    <tr>\n",
       "      <th>count</th>\n",
       "      <td>23020.000000</td>\n",
       "      <td>23020.000000</td>\n",
       "      <td>23020.000000</td>\n",
       "      <td>23017.000000</td>\n",
       "      <td>23020.000000</td>\n",
       "      <td>22694.000000</td>\n",
       "      <td>23017.000000</td>\n",
       "      <td>23017.000000</td>\n",
       "      <td>23017.000000</td>\n",
       "      <td>23020.0</td>\n",
       "    </tr>\n",
       "    <tr>\n",
       "      <th>mean</th>\n",
       "      <td>29.888196</td>\n",
       "      <td>31.885758</td>\n",
       "      <td>9.059751</td>\n",
       "      <td>6.261266</td>\n",
       "      <td>0.909861</td>\n",
       "      <td>262060.419847</td>\n",
       "      <td>1389.522483</td>\n",
       "      <td>0.933945</td>\n",
       "      <td>246.338398</td>\n",
       "      <td>1.0</td>\n",
       "    </tr>\n",
       "    <tr>\n",
       "      <th>std</th>\n",
       "      <td>2.930325</td>\n",
       "      <td>4.706552</td>\n",
       "      <td>0.740041</td>\n",
       "      <td>4.976801</td>\n",
       "      <td>0.286387</td>\n",
       "      <td>77652.080031</td>\n",
       "      <td>1090.411178</td>\n",
       "      <td>0.034697</td>\n",
       "      <td>5.024132</td>\n",
       "      <td>0.0</td>\n",
       "    </tr>\n",
       "    <tr>\n",
       "      <th>min</th>\n",
       "      <td>23.812000</td>\n",
       "      <td>19.687000</td>\n",
       "      <td>7.625000</td>\n",
       "      <td>0.819000</td>\n",
       "      <td>0.000000</td>\n",
       "      <td>132556.000000</td>\n",
       "      <td>187.000000</td>\n",
       "      <td>0.840000</td>\n",
       "      <td>232.699997</td>\n",
       "      <td>1.0</td>\n",
       "    </tr>\n",
       "    <tr>\n",
       "      <th>25%</th>\n",
       "      <td>27.750000</td>\n",
       "      <td>28.062000</td>\n",
       "      <td>8.562000</td>\n",
       "      <td>NaN</td>\n",
       "      <td>1.000000</td>\n",
       "      <td>NaN</td>\n",
       "      <td>NaN</td>\n",
       "      <td>NaN</td>\n",
       "      <td>NaN</td>\n",
       "      <td>1.0</td>\n",
       "    </tr>\n",
       "    <tr>\n",
       "      <th>50%</th>\n",
       "      <td>29.437000</td>\n",
       "      <td>32.000000</td>\n",
       "      <td>8.937000</td>\n",
       "      <td>NaN</td>\n",
       "      <td>1.000000</td>\n",
       "      <td>NaN</td>\n",
       "      <td>NaN</td>\n",
       "      <td>NaN</td>\n",
       "      <td>NaN</td>\n",
       "      <td>1.0</td>\n",
       "    </tr>\n",
       "    <tr>\n",
       "      <th>75%</th>\n",
       "      <td>31.687000</td>\n",
       "      <td>35.375000</td>\n",
       "      <td>9.312000</td>\n",
       "      <td>NaN</td>\n",
       "      <td>1.000000</td>\n",
       "      <td>NaN</td>\n",
       "      <td>NaN</td>\n",
       "      <td>NaN</td>\n",
       "      <td>NaN</td>\n",
       "      <td>1.0</td>\n",
       "    </tr>\n",
       "    <tr>\n",
       "      <th>max</th>\n",
       "      <td>37.750000</td>\n",
       "      <td>44.062000</td>\n",
       "      <td>14.375000</td>\n",
       "      <td>19.261000</td>\n",
       "      <td>1.000000</td>\n",
       "      <td>399124.000000</td>\n",
       "      <td>2792.000000</td>\n",
       "      <td>0.980000</td>\n",
       "      <td>260.299988</td>\n",
       "      <td>1.0</td>\n",
       "    </tr>\n",
       "  </tbody>\n",
       "</table>\n",
       "</div>"
      ],
      "text/plain": [
       "           amb_temp     comp_temp      mcu_temp       current          door  \\\n",
       "count  23020.000000  23020.000000  23020.000000  23017.000000  23020.000000   \n",
       "mean      29.888196     31.885758      9.059751      6.261266      0.909861   \n",
       "std        2.930325      4.706552      0.740041      4.976801      0.286387   \n",
       "min       23.812000     19.687000      7.625000      0.819000      0.000000   \n",
       "25%       27.750000     28.062000      8.562000           NaN      1.000000   \n",
       "50%       29.437000     32.000000      8.937000           NaN      1.000000   \n",
       "75%       31.687000     35.375000      9.312000           NaN      1.000000   \n",
       "max       37.750000     44.062000     14.375000     19.261000      1.000000   \n",
       "\n",
       "              energy         power  power_factor       voltage  zcontrol  \n",
       "count   22694.000000  23017.000000  23017.000000  23017.000000   23020.0  \n",
       "mean   262060.419847   1389.522483      0.933945    246.338398       1.0  \n",
       "std     77652.080031   1090.411178      0.034697      5.024132       0.0  \n",
       "min    132556.000000    187.000000      0.840000    232.699997       1.0  \n",
       "25%              NaN           NaN           NaN           NaN       1.0  \n",
       "50%              NaN           NaN           NaN           NaN       1.0  \n",
       "75%              NaN           NaN           NaN           NaN       1.0  \n",
       "max    399124.000000   2792.000000      0.980000    260.299988       1.0  "
      ]
     },
     "execution_count": 22,
     "metadata": {},
     "output_type": "execute_result"
    }
   ],
   "source": [
    "data.describe()"
   ]
  },
  {
   "cell_type": "code",
   "execution_count": 23,
   "metadata": {
    "collapsed": false
   },
   "outputs": [
    {
     "data": {
      "text/plain": [
       "array([1], dtype=int64)"
      ]
     },
     "execution_count": 23,
     "metadata": {},
     "output_type": "execute_result"
    }
   ],
   "source": [
    "# I have not used zcontrol because there is only one value in it, hence making it pointless.\n",
    "data.zcontrol.unique()"
   ]
  },
  {
   "cell_type": "code",
   "execution_count": 26,
   "metadata": {
    "collapsed": false
   },
   "outputs": [],
   "source": [
    "matrix = np.matrix([storemcu,storeamb,storecomp, storepower, storecurrent])"
   ]
  },
  {
   "cell_type": "code",
   "execution_count": 27,
   "metadata": {
    "collapsed": true
   },
   "outputs": [],
   "source": [
    "referancedata = pd.DataFrame(data = matrix.T)"
   ]
  },
  {
   "cell_type": "code",
   "execution_count": 28,
   "metadata": {
    "collapsed": false
   },
   "outputs": [
    {
     "data": {
      "text/plain": [
       "(10, 5)"
      ]
     },
     "execution_count": 28,
     "metadata": {},
     "output_type": "execute_result"
    }
   ],
   "source": [
    "referancedata.shape"
   ]
  },
  {
   "cell_type": "code",
   "execution_count": 29,
   "metadata": {
    "collapsed": false
   },
   "outputs": [],
   "source": [
    "referancedata.columns = [\"mcu_tempref\",\"amb_tempref\",\"comp_tempref\",\"powerref\",\"currentref\"]"
   ]
  },
  {
   "cell_type": "code",
   "execution_count": 30,
   "metadata": {
    "collapsed": false
   },
   "outputs": [
    {
     "data": {
      "text/html": [
       "<div>\n",
       "<table border=\"1\" class=\"dataframe\">\n",
       "  <thead>\n",
       "    <tr style=\"text-align: right;\">\n",
       "      <th></th>\n",
       "      <th>mcu_tempref</th>\n",
       "      <th>amb_tempref</th>\n",
       "      <th>comp_tempref</th>\n",
       "      <th>powerref</th>\n",
       "      <th>currentref</th>\n",
       "    </tr>\n",
       "  </thead>\n",
       "  <tbody>\n",
       "    <tr>\n",
       "      <th>0</th>\n",
       "      <td>-1.103402e+05</td>\n",
       "      <td>-1.086615e+06</td>\n",
       "      <td>-1.275731e+06</td>\n",
       "      <td>-5.821957e+09</td>\n",
       "      <td>-1.191786e+05</td>\n",
       "    </tr>\n",
       "    <tr>\n",
       "      <th>1</th>\n",
       "      <td>-1.103716e+05</td>\n",
       "      <td>-1.086925e+06</td>\n",
       "      <td>-1.276079e+06</td>\n",
       "      <td>-5.823561e+09</td>\n",
       "      <td>-1.192111e+05</td>\n",
       "    </tr>\n",
       "    <tr>\n",
       "      <th>2</th>\n",
       "      <td>-1.127968e+05</td>\n",
       "      <td>-1.118251e+06</td>\n",
       "      <td>-1.333230e+06</td>\n",
       "      <td>-5.859223e+09</td>\n",
       "      <td>-1.199581e+05</td>\n",
       "    </tr>\n",
       "    <tr>\n",
       "      <th>3</th>\n",
       "      <td>-1.186158e+05</td>\n",
       "      <td>-1.173084e+06</td>\n",
       "      <td>-1.398028e+06</td>\n",
       "      <td>-6.276581e+09</td>\n",
       "      <td>-1.284641e+05</td>\n",
       "    </tr>\n",
       "    <tr>\n",
       "      <th>4</th>\n",
       "      <td>-3.567566e+04</td>\n",
       "      <td>-3.507082e+05</td>\n",
       "      <td>-4.112232e+05</td>\n",
       "      <td>-1.902138e+09</td>\n",
       "      <td>-3.893228e+04</td>\n",
       "    </tr>\n",
       "    <tr>\n",
       "      <th>5</th>\n",
       "      <td>-3.523527e+04</td>\n",
       "      <td>-3.461469e+05</td>\n",
       "      <td>-4.046979e+05</td>\n",
       "      <td>-1.874879e+09</td>\n",
       "      <td>-3.837513e+04</td>\n",
       "    </tr>\n",
       "    <tr>\n",
       "      <th>6</th>\n",
       "      <td>-3.291414e+04</td>\n",
       "      <td>-3.258177e+05</td>\n",
       "      <td>-4.045308e+05</td>\n",
       "      <td>-1.896023e+09</td>\n",
       "      <td>-3.874881e+04</td>\n",
       "    </tr>\n",
       "    <tr>\n",
       "      <th>7</th>\n",
       "      <td>-3.370704e+04</td>\n",
       "      <td>-3.258702e+05</td>\n",
       "      <td>-3.816770e+05</td>\n",
       "      <td>-2.176795e+09</td>\n",
       "      <td>-4.452213e+04</td>\n",
       "    </tr>\n",
       "    <tr>\n",
       "      <th>8</th>\n",
       "      <td>-7.281194e+06</td>\n",
       "      <td>-7.206936e+07</td>\n",
       "      <td>-8.947702e+07</td>\n",
       "      <td>-4.193502e+11</td>\n",
       "      <td>-8.570752e+06</td>\n",
       "    </tr>\n",
       "    <tr>\n",
       "      <th>9</th>\n",
       "      <td>-7.448962e+06</td>\n",
       "      <td>-7.200222e+07</td>\n",
       "      <td>-8.431115e+07</td>\n",
       "      <td>-4.815331e+11</td>\n",
       "      <td>-9.842877e+06</td>\n",
       "    </tr>\n",
       "  </tbody>\n",
       "</table>\n",
       "</div>"
      ],
      "text/plain": [
       "    mcu_tempref   amb_tempref  comp_tempref      powerref    currentref\n",
       "0 -1.103402e+05 -1.086615e+06 -1.275731e+06 -5.821957e+09 -1.191786e+05\n",
       "1 -1.103716e+05 -1.086925e+06 -1.276079e+06 -5.823561e+09 -1.192111e+05\n",
       "2 -1.127968e+05 -1.118251e+06 -1.333230e+06 -5.859223e+09 -1.199581e+05\n",
       "3 -1.186158e+05 -1.173084e+06 -1.398028e+06 -6.276581e+09 -1.284641e+05\n",
       "4 -3.567566e+04 -3.507082e+05 -4.112232e+05 -1.902138e+09 -3.893228e+04\n",
       "5 -3.523527e+04 -3.461469e+05 -4.046979e+05 -1.874879e+09 -3.837513e+04\n",
       "6 -3.291414e+04 -3.258177e+05 -4.045308e+05 -1.896023e+09 -3.874881e+04\n",
       "7 -3.370704e+04 -3.258702e+05 -3.816770e+05 -2.176795e+09 -4.452213e+04\n",
       "8 -7.281194e+06 -7.206936e+07 -8.947702e+07 -4.193502e+11 -8.570752e+06\n",
       "9 -7.448962e+06 -7.200222e+07 -8.431115e+07 -4.815331e+11 -9.842877e+06"
      ]
     },
     "execution_count": 30,
     "metadata": {},
     "output_type": "execute_result"
    }
   ],
   "source": [
    "referancedata"
   ]
  },
  {
   "cell_type": "code",
   "execution_count": 39,
   "metadata": {
    "collapsed": false
   },
   "outputs": [
    {
     "data": {
      "text/plain": [
       "4.8006097236042615"
      ]
     },
     "execution_count": 39,
     "metadata": {},
     "output_type": "execute_result"
    }
   ],
   "source": [
    "stda "
   ]
  },
  {
   "cell_type": "code",
   "execution_count": 38,
   "metadata": {
    "collapsed": false
   },
   "outputs": [],
   "source": [
    "stda = current0.std()"
   ]
  },
  {
   "cell_type": "code",
   "execution_count": 33,
   "metadata": {
    "collapsed": true
   },
   "outputs": [],
   "source": [
    "k = referancedata.values.std(ddof=1)"
   ]
  },
  {
   "cell_type": "code",
   "execution_count": 46,
   "metadata": {
    "collapsed": true
   },
   "outputs": [],
   "source": [
    "def calcrefscore(k,series):\n",
    "    stdb = series.std()\n",
    "    stda = k\n",
    "    parta = -(np.log(stda)-np.log(stdb))\n",
    "    partb = -0.5*(1-np.square(stda)/np.square(stdb))\n",
    "    return (parta-partb)"
   ]
  },
  {
   "cell_type": "code",
   "execution_count": 47,
   "metadata": {
    "collapsed": false
   },
   "outputs": [
    {
     "data": {
      "text/plain": [
       "-1.7289424999024286e+20"
      ]
     },
     "execution_count": 47,
     "metadata": {},
     "output_type": "execute_result"
    }
   ],
   "source": [
    "calcrefscore(k,current0)"
   ]
  },
  {
   "cell_type": "code",
   "execution_count": 48,
   "metadata": {
    "collapsed": false
   },
   "outputs": [
    {
     "data": {
      "text/plain": [
       "-3.859658210946838e+20"
      ]
     },
     "execution_count": 48,
     "metadata": {},
     "output_type": "execute_result"
    }
   ],
   "source": [
    "calcrefscore(k,comp0)"
   ]
  },
  {
   "cell_type": "code",
   "execution_count": 49,
   "metadata": {
    "collapsed": false
   },
   "outputs": [
    {
     "data": {
      "text/plain": [
       "-5.9675161192326683e+22"
      ]
     },
     "execution_count": 49,
     "metadata": {},
     "output_type": "execute_result"
    }
   ],
   "source": [
    "calcrefscore(k,amb0)"
   ]
  },
  {
   "cell_type": "code",
   "execution_count": 50,
   "metadata": {
    "collapsed": false
   },
   "outputs": [
    {
     "data": {
      "text/plain": [
       "-3582104813195490.0"
      ]
     },
     "execution_count": 50,
     "metadata": {},
     "output_type": "execute_result"
    }
   ],
   "source": [
    "calcrefscore(k,power0)"
   ]
  },
  {
   "cell_type": "code",
   "execution_count": 51,
   "metadata": {
    "collapsed": false
   },
   "outputs": [
    {
     "data": {
      "text/plain": [
       "-4.0136855071861781e+22"
      ]
     },
     "execution_count": 51,
     "metadata": {},
     "output_type": "execute_result"
    }
   ],
   "source": [
    "calcrefscore(k,mcu0)"
   ]
  }
 ],
 "metadata": {
  "anaconda-cloud": {},
  "kernelspec": {
   "display_name": "Python [conda root]",
   "language": "python",
   "name": "conda-root-py"
  },
  "language_info": {
   "codemirror_mode": {
    "name": "ipython",
    "version": 3
   },
   "file_extension": ".py",
   "mimetype": "text/x-python",
   "name": "python",
   "nbconvert_exporter": "python",
   "pygments_lexer": "ipython3",
   "version": "3.5.2"
  }
 },
 "nbformat": 4,
 "nbformat_minor": 2
}
