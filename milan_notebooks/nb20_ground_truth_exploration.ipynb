{
 "cells": [
  {
   "cell_type": "code",
   "execution_count": 1,
   "metadata": {
    "collapsed": true
   },
   "outputs": [],
   "source": [
    "import numpy as np\n",
    "import pandas as pd\n",
    "\n",
    "import matplotlib\n",
    "%matplotlib inline\n",
    "\n",
    "import matplotlib.dates as dt\n",
    "import matplotlib.pyplot as plt\n",
    "\n",
    "from datetime import datetime"
   ]
  },
  {
   "cell_type": "code",
   "execution_count": 2,
   "metadata": {
    "collapsed": true
   },
   "outputs": [],
   "source": [
    "fs = 20"
   ]
  },
  {
   "cell_type": "code",
   "execution_count": 3,
   "metadata": {
    "collapsed": true
   },
   "outputs": [],
   "source": [
    "st_bw = pd.HDFStore('../../data/raw/boothwise.h5')"
   ]
  },
  {
   "cell_type": "code",
   "execution_count": 4,
   "metadata": {
    "collapsed": false
   },
   "outputs": [],
   "source": [
    "bth_dlst = [int(k.split('mdb')[1]) for k in st_bw.keys()]"
   ]
  },
  {
   "cell_type": "code",
   "execution_count": 5,
   "metadata": {
    "collapsed": false
   },
   "outputs": [
    {
     "data": {
      "text/plain": [
       "86"
      ]
     },
     "execution_count": 5,
     "metadata": {},
     "output_type": "execute_result"
    }
   ],
   "source": [
    "len(bth_dlst)"
   ]
  },
  {
   "cell_type": "code",
   "execution_count": 6,
   "metadata": {
    "collapsed": true
   },
   "outputs": [],
   "source": [
    "st_bw.close()"
   ]
  },
  {
   "cell_type": "markdown",
   "metadata": {},
   "source": [
    "# Mappings"
   ]
  },
  {
   "cell_type": "code",
   "execution_count": 7,
   "metadata": {
    "collapsed": false
   },
   "outputs": [],
   "source": [
    "df_bthlst = pd.read_csv('../../data/essentials/md_paths_v3.csv', index_col=[0])\n",
    "df_bthlst = df_bthlst[~df_bthlst[\"client_display_name\"].isnull()]"
   ]
  },
  {
   "cell_type": "code",
   "execution_count": 8,
   "metadata": {
    "collapsed": false
   },
   "outputs": [
    {
     "data": {
      "text/html": [
       "<div>\n",
       "<table border=\"1\" class=\"dataframe\">\n",
       "  <thead>\n",
       "    <tr style=\"text-align: right;\">\n",
       "      <th></th>\n",
       "      <th>MD_id</th>\n",
       "      <th>client_display_name</th>\n",
       "      <th>path_mcu</th>\n",
       "      <th>path_temp</th>\n",
       "      <th>path_relay</th>\n",
       "      <th>path_door</th>\n",
       "      <th>path_amb</th>\n",
       "    </tr>\n",
       "  </thead>\n",
       "  <tbody>\n",
       "    <tr>\n",
       "      <th>0</th>\n",
       "      <td>MotherDairy-89</td>\n",
       "      <td>Booth No. 601 | Rajouri Garden</td>\n",
       "      <td>/MotherDairy-89/Meter2/PowerBPhase</td>\n",
       "      <td>/MotherDairy-89/TemperatureSensor4/Temperature</td>\n",
       "      <td>/MotherDairy-89/Relay11/RemoteControl</td>\n",
       "      <td>/MotherDairy-89/ReedSensor15/Status</td>\n",
       "      <td>/MotherDairy-89/TemperatureSensor6/Temperature</td>\n",
       "    </tr>\n",
       "    <tr>\n",
       "      <th>1</th>\n",
       "      <td>MotherDairy-59</td>\n",
       "      <td>Booth No. 3 | Kailash Colony</td>\n",
       "      <td>/MotherDairy-59/Meter2/PowerBPhase</td>\n",
       "      <td>/MotherDairy-59/TemperatureSensor4/Temperature</td>\n",
       "      <td>/MotherDairy-59/Relay10/RemoteControl</td>\n",
       "      <td>/MotherDairy-59/ReedSensor15/Status</td>\n",
       "      <td>/MotherDairy-59/TemperatureSensor6/Temperature</td>\n",
       "    </tr>\n",
       "    <tr>\n",
       "      <th>2</th>\n",
       "      <td>MotherDairy-93</td>\n",
       "      <td>Booth No. 538 | Rohini</td>\n",
       "      <td>/MotherDairy-93/Meter2/PowerBPhase</td>\n",
       "      <td>/MotherDairy-93/TemperatureSensor4/Temperature</td>\n",
       "      <td>/MotherDairy-93/Relay10/RemoteControl</td>\n",
       "      <td>/MotherDairy-93/ReedSensor15/Status</td>\n",
       "      <td>/MotherDairy-93/TemperatureSensor6/Temperature</td>\n",
       "    </tr>\n",
       "    <tr>\n",
       "      <th>3</th>\n",
       "      <td>MotherDairy-119</td>\n",
       "      <td>Booth No. 656 | Pitampura</td>\n",
       "      <td>/MotherDairy-119/Meter2/PowerBPhase</td>\n",
       "      <td>/MotherDairy-119/TemperatureSensor100/Temperature</td>\n",
       "      <td>/MotherDairy-119/Relay11/RemoteControl</td>\n",
       "      <td>/MotherDairy-119/ReedSensor50/Status</td>\n",
       "      <td>NaN</td>\n",
       "    </tr>\n",
       "    <tr>\n",
       "      <th>4</th>\n",
       "      <td>MotherDairy-33</td>\n",
       "      <td>Booth No. 922 | Gurgaon</td>\n",
       "      <td>/MotherDairy-33/Meter2/PowerBPhase</td>\n",
       "      <td>/MotherDairy-33/TemperatureSensor4/Temperature</td>\n",
       "      <td>/MotherDairy-33/Relay10/RemoteControl</td>\n",
       "      <td>/MotherDairy-33/ReedSensor15/Status</td>\n",
       "      <td>/MotherDairy-33/TemperatureSensor5/Temperature</td>\n",
       "    </tr>\n",
       "  </tbody>\n",
       "</table>\n",
       "</div>"
      ],
      "text/plain": [
       "             MD_id             client_display_name  \\\n",
       "0   MotherDairy-89  Booth No. 601 | Rajouri Garden   \n",
       "1   MotherDairy-59    Booth No. 3 | Kailash Colony   \n",
       "2   MotherDairy-93          Booth No. 538 | Rohini   \n",
       "3  MotherDairy-119       Booth No. 656 | Pitampura   \n",
       "4   MotherDairy-33         Booth No. 922 | Gurgaon   \n",
       "\n",
       "                              path_mcu  \\\n",
       "0   /MotherDairy-89/Meter2/PowerBPhase   \n",
       "1   /MotherDairy-59/Meter2/PowerBPhase   \n",
       "2   /MotherDairy-93/Meter2/PowerBPhase   \n",
       "3  /MotherDairy-119/Meter2/PowerBPhase   \n",
       "4   /MotherDairy-33/Meter2/PowerBPhase   \n",
       "\n",
       "                                           path_temp  \\\n",
       "0     /MotherDairy-89/TemperatureSensor4/Temperature   \n",
       "1     /MotherDairy-59/TemperatureSensor4/Temperature   \n",
       "2     /MotherDairy-93/TemperatureSensor4/Temperature   \n",
       "3  /MotherDairy-119/TemperatureSensor100/Temperature   \n",
       "4     /MotherDairy-33/TemperatureSensor4/Temperature   \n",
       "\n",
       "                               path_relay  \\\n",
       "0   /MotherDairy-89/Relay11/RemoteControl   \n",
       "1   /MotherDairy-59/Relay10/RemoteControl   \n",
       "2   /MotherDairy-93/Relay10/RemoteControl   \n",
       "3  /MotherDairy-119/Relay11/RemoteControl   \n",
       "4   /MotherDairy-33/Relay10/RemoteControl   \n",
       "\n",
       "                              path_door  \\\n",
       "0   /MotherDairy-89/ReedSensor15/Status   \n",
       "1   /MotherDairy-59/ReedSensor15/Status   \n",
       "2   /MotherDairy-93/ReedSensor15/Status   \n",
       "3  /MotherDairy-119/ReedSensor50/Status   \n",
       "4   /MotherDairy-33/ReedSensor15/Status   \n",
       "\n",
       "                                         path_amb  \n",
       "0  /MotherDairy-89/TemperatureSensor6/Temperature  \n",
       "1  /MotherDairy-59/TemperatureSensor6/Temperature  \n",
       "2  /MotherDairy-93/TemperatureSensor6/Temperature  \n",
       "3                                             NaN  \n",
       "4  /MotherDairy-33/TemperatureSensor5/Temperature  "
      ]
     },
     "execution_count": 8,
     "metadata": {},
     "output_type": "execute_result"
    }
   ],
   "source": [
    "df_bthlst.head()"
   ]
  },
  {
   "cell_type": "code",
   "execution_count": 9,
   "metadata": {
    "collapsed": false
   },
   "outputs": [],
   "source": [
    "df_bthlst[\"booth_id\"] = list(df_bthlst['client_display_name'\\\n",
    "                                      ].apply(lambda x: x.split(\"|\")[0].split(\".\")[-1]).astype(int))\n",
    "df_bthlst[\"md_id\"] = list(df_bthlst['MD_id'].apply(lambda x: abs(int(x.split(\"MotherDairy\")[1]))))"
   ]
  },
  {
   "cell_type": "code",
   "execution_count": 10,
   "metadata": {
    "collapsed": false
   },
   "outputs": [],
   "source": [
    "bthlst = list(df_bthlst[df_bthlst[\"md_id\"].isin(bth_dlst)][\"booth_id\"])"
   ]
  },
  {
   "cell_type": "markdown",
   "metadata": {},
   "source": [
    "# Ground Truth Information"
   ]
  },
  {
   "cell_type": "code",
   "execution_count": 11,
   "metadata": {
    "collapsed": false
   },
   "outputs": [],
   "source": [
    "df_gt = pd.read_excel('../../data/essentials/Report By Category.xls', index_col=[0])"
   ]
  },
  {
   "cell_type": "code",
   "execution_count": 12,
   "metadata": {
    "collapsed": false
   },
   "outputs": [
    {
     "data": {
      "text/html": [
       "<div>\n",
       "<table border=\"1\" class=\"dataframe\">\n",
       "  <thead>\n",
       "    <tr style=\"text-align: right;\">\n",
       "      <th></th>\n",
       "      <th>Request Status</th>\n",
       "      <th>Created Date</th>\n",
       "      <th>SLA Crossed</th>\n",
       "      <th>Priority</th>\n",
       "      <th>Request Type</th>\n",
       "      <th>Equipment Type</th>\n",
       "      <th>Equipment Sap Code</th>\n",
       "      <th>Equipment   Serial No</th>\n",
       "      <th>Equipment Description</th>\n",
       "      <th>Category</th>\n",
       "      <th>...</th>\n",
       "      <th>Escalation Level 4</th>\n",
       "      <th>Escalation Level 4 SAP</th>\n",
       "      <th>Escalation Level 5</th>\n",
       "      <th>Escalation Level 5 SAP</th>\n",
       "      <th>Escalation Level PQ 1</th>\n",
       "      <th>Escalation Level PQ 1 SAP</th>\n",
       "      <th>Escalation Level PQ 2</th>\n",
       "      <th>Escalation Level PQ 2 SAP</th>\n",
       "      <th>Escalation Level PQ 3</th>\n",
       "      <th>Escalation Level PQ 3 SAP</th>\n",
       "    </tr>\n",
       "    <tr>\n",
       "      <th>Request No</th>\n",
       "      <th></th>\n",
       "      <th></th>\n",
       "      <th></th>\n",
       "      <th></th>\n",
       "      <th></th>\n",
       "      <th></th>\n",
       "      <th></th>\n",
       "      <th></th>\n",
       "      <th></th>\n",
       "      <th></th>\n",
       "      <th></th>\n",
       "      <th></th>\n",
       "      <th></th>\n",
       "      <th></th>\n",
       "      <th></th>\n",
       "      <th></th>\n",
       "      <th></th>\n",
       "      <th></th>\n",
       "      <th></th>\n",
       "      <th></th>\n",
       "      <th></th>\n",
       "    </tr>\n",
       "  </thead>\n",
       "  <tbody>\n",
       "    <tr>\n",
       "      <th>287522</th>\n",
       "      <td>Closed</td>\n",
       "      <td>2016-04-01 06:58:46.340</td>\n",
       "      <td>No</td>\n",
       "      <td>Critical</td>\n",
       "      <td>Equipment</td>\n",
       "      <td>DEEP FREEZER</td>\n",
       "      <td>PPG-F17210</td>\n",
       "      <td>1000111 Western Refrigeration Pvt Ltd</td>\n",
       "      <td>FREEZER 400L WITH STABILIZER</td>\n",
       "      <td>Refrigeration Equipment</td>\n",
       "      <td>...</td>\n",
       "      <td>NaN</td>\n",
       "      <td>NaN</td>\n",
       "      <td>NaN</td>\n",
       "      <td>NaN</td>\n",
       "      <td>NaN</td>\n",
       "      <td>NaN</td>\n",
       "      <td>NaN</td>\n",
       "      <td>NaN</td>\n",
       "      <td>NaN</td>\n",
       "      <td>NaN</td>\n",
       "    </tr>\n",
       "    <tr>\n",
       "      <th>287523</th>\n",
       "      <td>Closed</td>\n",
       "      <td>2016-04-01 07:06:56.467</td>\n",
       "      <td>Yes</td>\n",
       "      <td>Critical</td>\n",
       "      <td>Equipment</td>\n",
       "      <td>MILK CHILLING UNIT</td>\n",
       "      <td>PPG-R962</td>\n",
       "      <td>1006122 Climatrol Corporation</td>\n",
       "      <td>MILK CHILLING UNIT WITH ACCESSORIES</td>\n",
       "      <td>Refrigeration Equipment</td>\n",
       "      <td>...</td>\n",
       "      <td>NaN</td>\n",
       "      <td>NaN</td>\n",
       "      <td>NaN</td>\n",
       "      <td>NaN</td>\n",
       "      <td>NaN</td>\n",
       "      <td>NaN</td>\n",
       "      <td>NaN</td>\n",
       "      <td>NaN</td>\n",
       "      <td>NaN</td>\n",
       "      <td>NaN</td>\n",
       "    </tr>\n",
       "    <tr>\n",
       "      <th>287525</th>\n",
       "      <td>Closed</td>\n",
       "      <td>2016-04-01 07:14:15.020</td>\n",
       "      <td>No</td>\n",
       "      <td>Critical</td>\n",
       "      <td>Equipment</td>\n",
       "      <td>DEEP FREEZER</td>\n",
       "      <td>PPG-F23921</td>\n",
       "      <td>1000795 Frostco</td>\n",
       "      <td>FREEZER 330L GLASS TOP WITH ST</td>\n",
       "      <td>Refrigeration Equipment</td>\n",
       "      <td>...</td>\n",
       "      <td>NaN</td>\n",
       "      <td>NaN</td>\n",
       "      <td>NaN</td>\n",
       "      <td>NaN</td>\n",
       "      <td>NaN</td>\n",
       "      <td>NaN</td>\n",
       "      <td>NaN</td>\n",
       "      <td>NaN</td>\n",
       "      <td>NaN</td>\n",
       "      <td>NaN</td>\n",
       "    </tr>\n",
       "    <tr>\n",
       "      <th>287527</th>\n",
       "      <td>Closed</td>\n",
       "      <td>2016-04-01 07:27:14.740</td>\n",
       "      <td>No</td>\n",
       "      <td>Critical</td>\n",
       "      <td>Equipment</td>\n",
       "      <td>VIZI COOLER</td>\n",
       "      <td>PPG-V2693</td>\n",
       "      <td>1000795 Frostco</td>\n",
       "      <td>VISI COOLER 310L PLS MNS 20L W</td>\n",
       "      <td>Refrigeration Equipment</td>\n",
       "      <td>...</td>\n",
       "      <td>NaN</td>\n",
       "      <td>NaN</td>\n",
       "      <td>NaN</td>\n",
       "      <td>NaN</td>\n",
       "      <td>NaN</td>\n",
       "      <td>NaN</td>\n",
       "      <td>NaN</td>\n",
       "      <td>NaN</td>\n",
       "      <td>NaN</td>\n",
       "      <td>NaN</td>\n",
       "    </tr>\n",
       "    <tr>\n",
       "      <th>287532</th>\n",
       "      <td>Closed</td>\n",
       "      <td>2016-04-01 07:55:01.557</td>\n",
       "      <td>No</td>\n",
       "      <td>Critical</td>\n",
       "      <td>Equipment</td>\n",
       "      <td>DEEP FREEZER</td>\n",
       "      <td>PPG-F29573</td>\n",
       "      <td>1000795 Frostco</td>\n",
       "      <td>FREEZER 300L HT WITH STABLIZER</td>\n",
       "      <td>Refrigeration Equipment</td>\n",
       "      <td>...</td>\n",
       "      <td>NaN</td>\n",
       "      <td>NaN</td>\n",
       "      <td>NaN</td>\n",
       "      <td>NaN</td>\n",
       "      <td>NaN</td>\n",
       "      <td>NaN</td>\n",
       "      <td>NaN</td>\n",
       "      <td>NaN</td>\n",
       "      <td>NaN</td>\n",
       "      <td>NaN</td>\n",
       "    </tr>\n",
       "  </tbody>\n",
       "</table>\n",
       "<p>5 rows × 82 columns</p>\n",
       "</div>"
      ],
      "text/plain": [
       "           Request Status            Created Date SLA Crossed  Priority  \\\n",
       "Request No                                                                \n",
       "287522             Closed 2016-04-01 06:58:46.340          No  Critical   \n",
       "287523             Closed 2016-04-01 07:06:56.467         Yes  Critical   \n",
       "287525             Closed 2016-04-01 07:14:15.020          No  Critical   \n",
       "287527             Closed 2016-04-01 07:27:14.740          No  Critical   \n",
       "287532             Closed 2016-04-01 07:55:01.557          No  Critical   \n",
       "\n",
       "           Request Type      Equipment Type Equipment Sap Code  \\\n",
       "Request No                                                       \n",
       "287522        Equipment        DEEP FREEZER         PPG-F17210   \n",
       "287523        Equipment  MILK CHILLING UNIT           PPG-R962   \n",
       "287525        Equipment        DEEP FREEZER         PPG-F23921   \n",
       "287527        Equipment         VIZI COOLER          PPG-V2693   \n",
       "287532        Equipment        DEEP FREEZER         PPG-F29573   \n",
       "\n",
       "                            Equipment   Serial No  \\\n",
       "Request No                                          \n",
       "287522      1000111 Western Refrigeration Pvt Ltd   \n",
       "287523              1006122 Climatrol Corporation   \n",
       "287525                            1000795 Frostco   \n",
       "287527                            1000795 Frostco   \n",
       "287532                            1000795 Frostco   \n",
       "\n",
       "                          Equipment Description                 Category  \\\n",
       "Request No                                                                 \n",
       "287522             FREEZER 400L WITH STABILIZER  Refrigeration Equipment   \n",
       "287523      MILK CHILLING UNIT WITH ACCESSORIES  Refrigeration Equipment   \n",
       "287525           FREEZER 330L GLASS TOP WITH ST  Refrigeration Equipment   \n",
       "287527           VISI COOLER 310L PLS MNS 20L W  Refrigeration Equipment   \n",
       "287532           FREEZER 300L HT WITH STABLIZER  Refrigeration Equipment   \n",
       "\n",
       "                      ...            Escalation Level 4  \\\n",
       "Request No            ...                                 \n",
       "287522                ...                           NaN   \n",
       "287523                ...                           NaN   \n",
       "287525                ...                           NaN   \n",
       "287527                ...                           NaN   \n",
       "287532                ...                           NaN   \n",
       "\n",
       "           Escalation Level 4 SAP Escalation Level 5  Escalation Level 5 SAP  \\\n",
       "Request No                                                                     \n",
       "287522                        NaN                NaN                     NaN   \n",
       "287523                        NaN                NaN                     NaN   \n",
       "287525                        NaN                NaN                     NaN   \n",
       "287527                        NaN                NaN                     NaN   \n",
       "287532                        NaN                NaN                     NaN   \n",
       "\n",
       "            Escalation Level PQ 1  Escalation Level PQ 1 SAP  \\\n",
       "Request No                                                     \n",
       "287522                        NaN                        NaN   \n",
       "287523                        NaN                        NaN   \n",
       "287525                        NaN                        NaN   \n",
       "287527                        NaN                        NaN   \n",
       "287532                        NaN                        NaN   \n",
       "\n",
       "            Escalation Level PQ 2 Escalation Level PQ 2 SAP  \\\n",
       "Request No                                                    \n",
       "287522                        NaN                       NaN   \n",
       "287523                        NaN                       NaN   \n",
       "287525                        NaN                       NaN   \n",
       "287527                        NaN                       NaN   \n",
       "287532                        NaN                       NaN   \n",
       "\n",
       "           Escalation Level PQ 3 Escalation Level PQ 3 SAP  \n",
       "Request No                                                  \n",
       "287522                       NaN                       NaN  \n",
       "287523                       NaN                       NaN  \n",
       "287525                       NaN                       NaN  \n",
       "287527                       NaN                       NaN  \n",
       "287532                       NaN                       NaN  \n",
       "\n",
       "[5 rows x 82 columns]"
      ]
     },
     "execution_count": 12,
     "metadata": {},
     "output_type": "execute_result"
    }
   ],
   "source": [
    "df_gt.head()"
   ]
  },
  {
   "cell_type": "code",
   "execution_count": 13,
   "metadata": {
    "collapsed": false
   },
   "outputs": [
    {
     "data": {
      "text/plain": [
       "Index([u'Request Status', u'Created Date', u'SLA Crossed', u'Priority',\n",
       "       u'Request Type', u'Equipment Type', u'Equipment Sap Code',\n",
       "       u'Equipment   Serial No', u'Equipment Description', u'Category',\n",
       "       u'SubCategory', u'Major Issue', u'Description', u'SKU',\n",
       "       u'Product Batch Code', u'Processing Plant',\n",
       "       u'Manufacturing / Production / Used By Date', u'Escalation Level',\n",
       "       u'Assigned - Internal Entity', u'Escalation - Internal Entity',\n",
       "       u'Assigned - External Entity', u'Escalation - External Entity',\n",
       "       u'Sub Assigned', u'Ticket Number', u'Closure Comments By End User',\n",
       "       u'End User Confirmation', u'End User Confirmation Datetime',\n",
       "       u'Assigned Date', u'Sub Assigned Date', u'Escaltion Date', u'Due Date',\n",
       "       u'Complete Date', u'Close Date', u'Requester Type', u'Requester Name',\n",
       "       u'Requester Registered Phone No', u'Requester Calling No',\n",
       "       u'Requester Alternate Phone No', u'Requester Email ID',\n",
       "       u'Requester State ', u'Requester District ', u'Requester City',\n",
       "       u'Requester Location ', u'Requester SAP Code', u'Email ID to Notify',\n",
       "       u'Service State', u'Service District', u'Service City',\n",
       "       u'Service Location SAP', u'Service Location', u'Service Location Type',\n",
       "       u'Service Location Phone', u'Service Location Address',\n",
       "       u'Repeated in last 48 hours', u'Resolution Code', u'Replacement Item',\n",
       "       u'Replacement Quantity', u'Resolution Description',\n",
       "       u'Actual Close Datetime', u'Hold Date', u'Total Hold Time (In Minutes)',\n",
       "       u'Reopen Count', u'Request Lodged By', u'Request Mode',\n",
       "       u'Service Process', u'Customer Satisfaction', u'Escalation Level 1',\n",
       "       u'Escalation Level 1 SAP', u'Escalation Level 2',\n",
       "       u'Escalation Level 2 SAP', u'Escalation Level 3',\n",
       "       u'Escalation Level 3 SAP', u'Escalation Level 4',\n",
       "       u'Escalation Level 4 SAP', u'Escalation Level 5',\n",
       "       u'Escalation Level 5 SAP', u'Escalation Level PQ 1',\n",
       "       u'Escalation Level PQ 1 SAP', u'Escalation Level PQ 2',\n",
       "       u'Escalation Level PQ 2 SAP', u'Escalation Level PQ 3',\n",
       "       u'Escalation Level PQ 3 SAP'],\n",
       "      dtype='object')"
      ]
     },
     "execution_count": 13,
     "metadata": {},
     "output_type": "execute_result"
    }
   ],
   "source": [
    "df_gt.columns"
   ]
  },
  {
   "cell_type": "code",
   "execution_count": 14,
   "metadata": {
    "collapsed": false
   },
   "outputs": [
    {
     "data": {
      "text/html": [
       "<div>\n",
       "<table border=\"1\" class=\"dataframe\">\n",
       "  <thead>\n",
       "    <tr style=\"text-align: right;\">\n",
       "      <th></th>\n",
       "      <th>Equipment Type</th>\n",
       "      <th>Equipment Sap Code</th>\n",
       "    </tr>\n",
       "    <tr>\n",
       "      <th>Request No</th>\n",
       "      <th></th>\n",
       "      <th></th>\n",
       "    </tr>\n",
       "  </thead>\n",
       "  <tbody>\n",
       "    <tr>\n",
       "      <th>287522</th>\n",
       "      <td>DEEP FREEZER</td>\n",
       "      <td>PPG-F17210</td>\n",
       "    </tr>\n",
       "    <tr>\n",
       "      <th>287523</th>\n",
       "      <td>MILK CHILLING UNIT</td>\n",
       "      <td>PPG-R962</td>\n",
       "    </tr>\n",
       "    <tr>\n",
       "      <th>287525</th>\n",
       "      <td>DEEP FREEZER</td>\n",
       "      <td>PPG-F23921</td>\n",
       "    </tr>\n",
       "    <tr>\n",
       "      <th>287527</th>\n",
       "      <td>VIZI COOLER</td>\n",
       "      <td>PPG-V2693</td>\n",
       "    </tr>\n",
       "    <tr>\n",
       "      <th>287532</th>\n",
       "      <td>DEEP FREEZER</td>\n",
       "      <td>PPG-F29573</td>\n",
       "    </tr>\n",
       "  </tbody>\n",
       "</table>\n",
       "</div>"
      ],
      "text/plain": [
       "                Equipment Type Equipment Sap Code\n",
       "Request No                                       \n",
       "287522            DEEP FREEZER         PPG-F17210\n",
       "287523      MILK CHILLING UNIT           PPG-R962\n",
       "287525            DEEP FREEZER         PPG-F23921\n",
       "287527             VIZI COOLER          PPG-V2693\n",
       "287532            DEEP FREEZER         PPG-F29573"
      ]
     },
     "execution_count": 14,
     "metadata": {},
     "output_type": "execute_result"
    }
   ],
   "source": [
    "df_gt[[u'Equipment Type', u'Equipment Sap Code']].head()"
   ]
  },
  {
   "cell_type": "code",
   "execution_count": 15,
   "metadata": {
    "collapsed": false
   },
   "outputs": [
    {
     "data": {
      "text/plain": [
       "DEEP FREEZER           18064\n",
       "FREEZER ON WHEEL       14476\n",
       "VIZI COOLER             7887\n",
       "MILK CHILLING UNIT      4908\n",
       "VERTICLE COOLER         2801\n",
       "Chest Cooler            2039\n",
       "Vertical Freezer          68\n",
       "BEVERAGE DISPENSER        15\n",
       "TRICYLE PUSHCART          10\n",
       "MILK CHIILLING UNIT        9\n",
       "Others                     4\n",
       "Name: Equipment Type, dtype: int64"
      ]
     },
     "execution_count": 15,
     "metadata": {},
     "output_type": "execute_result"
    }
   ],
   "source": [
    "df_gt[u'Equipment Type'].value_counts()"
   ]
  },
  {
   "cell_type": "markdown",
   "metadata": {},
   "source": [
    "# Required Ground Truth"
   ]
  },
  {
   "cell_type": "code",
   "execution_count": 16,
   "metadata": {
    "collapsed": true
   },
   "outputs": [],
   "source": [
    "my_cols = [u'Request Status', u'Equipment Type', u'Created Date', u'Priority', u'Major Issue', u'Description', \\\n",
    "           u'Assigned Date', u'Sub Assigned Date', u'Escaltion Date', u'Due Date', u'Complete Date', \\\n",
    "           u'Close Date', u'Service Location', u'Repeated in last 48 hours', u'Resolution Code', \\\n",
    "           u'Replacement Item', u'Replacement Quantity', u'Resolution Description', u'Service Location Type', \\\n",
    "           u'Actual Close Datetime', u'Hold Date', u'Total Hold Time (In Minutes)', u'Reopen Count']"
   ]
  },
  {
   "cell_type": "code",
   "execution_count": 17,
   "metadata": {
    "collapsed": false
   },
   "outputs": [],
   "source": [
    "df_bug = df_gt[(df_gt[u'Service Location'].isin(bthlst)) & \\\n",
    "               (df_gt[u'Equipment Sap Code'].str.match('^PPG-R')) & \\\n",
    "               (df_gt[u'Request Status'] == 'Closed')][my_cols]"
   ]
  },
  {
   "cell_type": "code",
   "execution_count": 18,
   "metadata": {
    "collapsed": false
   },
   "outputs": [
    {
     "name": "stdout",
     "output_type": "stream",
     "text": [
      "Out of 86 booths 85 had fault\n"
     ]
    }
   ],
   "source": [
    "n_booths = len(bthlst)\n",
    "n_faulty = df_bug[u'Service Location'].unique().size\n",
    "n_fit = n_booths - n_faulty\n",
    "\n",
    "print \"Out of\", n_booths, \"booths\", n_faulty, \"had fault\""
   ]
  },
  {
   "cell_type": "code",
   "execution_count": 19,
   "metadata": {
    "collapsed": false
   },
   "outputs": [
    {
     "name": "stdout",
     "output_type": "stream",
     "text": [
      "Fit booths are:  set([763])\n"
     ]
    }
   ],
   "source": [
    "print \"Fit booths are: \", set(bthlst) ^ set(df_bug[u'Service Location'].unique())"
   ]
  },
  {
   "cell_type": "code",
   "execution_count": 20,
   "metadata": {
    "collapsed": false
   },
   "outputs": [
    {
     "data": {
      "text/html": [
       "<div>\n",
       "<table border=\"1\" class=\"dataframe\">\n",
       "  <thead>\n",
       "    <tr style=\"text-align: right;\">\n",
       "      <th></th>\n",
       "      <th>Request Status</th>\n",
       "      <th>Equipment Type</th>\n",
       "      <th>Created Date</th>\n",
       "      <th>Priority</th>\n",
       "      <th>Major Issue</th>\n",
       "      <th>Description</th>\n",
       "      <th>Assigned Date</th>\n",
       "      <th>Sub Assigned Date</th>\n",
       "      <th>Escaltion Date</th>\n",
       "      <th>Due Date</th>\n",
       "      <th>...</th>\n",
       "      <th>Repeated in last 48 hours</th>\n",
       "      <th>Resolution Code</th>\n",
       "      <th>Replacement Item</th>\n",
       "      <th>Replacement Quantity</th>\n",
       "      <th>Resolution Description</th>\n",
       "      <th>Service Location Type</th>\n",
       "      <th>Actual Close Datetime</th>\n",
       "      <th>Hold Date</th>\n",
       "      <th>Total Hold Time (In Minutes)</th>\n",
       "      <th>Reopen Count</th>\n",
       "    </tr>\n",
       "    <tr>\n",
       "      <th>Request No</th>\n",
       "      <th></th>\n",
       "      <th></th>\n",
       "      <th></th>\n",
       "      <th></th>\n",
       "      <th></th>\n",
       "      <th></th>\n",
       "      <th></th>\n",
       "      <th></th>\n",
       "      <th></th>\n",
       "      <th></th>\n",
       "      <th></th>\n",
       "      <th></th>\n",
       "      <th></th>\n",
       "      <th></th>\n",
       "      <th></th>\n",
       "      <th></th>\n",
       "      <th></th>\n",
       "      <th></th>\n",
       "      <th></th>\n",
       "      <th></th>\n",
       "      <th></th>\n",
       "    </tr>\n",
       "  </thead>\n",
       "  <tbody>\n",
       "    <tr>\n",
       "      <th>287537</th>\n",
       "      <td>Closed</td>\n",
       "      <td>MILK CHILLING UNIT</td>\n",
       "      <td>2016-04-01 08:09:14.463</td>\n",
       "      <td>Critical</td>\n",
       "      <td>MCU temp high</td>\n",
       "      <td>Shopkeeper complaint that his MCU is not cooli...</td>\n",
       "      <td>2016-04-01 08:09:14.853</td>\n",
       "      <td>NaN</td>\n",
       "      <td>NaT</td>\n",
       "      <td>2016-04-01 20:09:00</td>\n",
       "      <td>...</td>\n",
       "      <td>NO</td>\n",
       "      <td>Field Related</td>\n",
       "      <td>NaN</td>\n",
       "      <td>NaN</td>\n",
       "      <td>Ice malte by technician  MCU working good</td>\n",
       "      <td>Milk Shop</td>\n",
       "      <td>2016-04-02 08:30:00</td>\n",
       "      <td>NaN</td>\n",
       "      <td>0</td>\n",
       "      <td>NaN</td>\n",
       "    </tr>\n",
       "    <tr>\n",
       "      <th>287912</th>\n",
       "      <td>Closed</td>\n",
       "      <td>MILK CHILLING UNIT</td>\n",
       "      <td>2016-04-01 17:15:29.810</td>\n",
       "      <td>Critical</td>\n",
       "      <td>MCU temp high</td>\n",
       "      <td>Shopkeeper complaint that his MCU is not cooling.</td>\n",
       "      <td>2016-04-01 17:15:30.220</td>\n",
       "      <td>NaN</td>\n",
       "      <td>2016-04-03 00:00:13.793</td>\n",
       "      <td>2016-04-07 15:15:00</td>\n",
       "      <td>...</td>\n",
       "      <td>NO</td>\n",
       "      <td>Field Related</td>\n",
       "      <td>NaN</td>\n",
       "      <td>NaN</td>\n",
       "      <td>Ice mallt by technician  MCU   working good</td>\n",
       "      <td>Milk Shop</td>\n",
       "      <td>2016-04-02 12:45:00</td>\n",
       "      <td>NaN</td>\n",
       "      <td>0</td>\n",
       "      <td>NaN</td>\n",
       "    </tr>\n",
       "    <tr>\n",
       "      <th>288009</th>\n",
       "      <td>Closed</td>\n",
       "      <td>MILK CHILLING UNIT</td>\n",
       "      <td>2016-04-02 08:03:46.887</td>\n",
       "      <td>Critical</td>\n",
       "      <td>MCU temp high</td>\n",
       "      <td>Shopkeeper complaint that his MCU is not cooli...</td>\n",
       "      <td>2016-04-02 08:03:47.223</td>\n",
       "      <td>NaN</td>\n",
       "      <td>2016-04-02 20:22:57.617</td>\n",
       "      <td>2016-04-03 14:03:00</td>\n",
       "      <td>...</td>\n",
       "      <td>NO</td>\n",
       "      <td>Field Related</td>\n",
       "      <td>NaN</td>\n",
       "      <td>NaN</td>\n",
       "      <td>Ice  malte by  technician  MCU  working good</td>\n",
       "      <td>Milk Shop</td>\n",
       "      <td>2016-04-02 12:45:00</td>\n",
       "      <td>NaN</td>\n",
       "      <td>0</td>\n",
       "      <td>NaN</td>\n",
       "    </tr>\n",
       "    <tr>\n",
       "      <th>288133</th>\n",
       "      <td>Closed</td>\n",
       "      <td>MILK CHILLING UNIT</td>\n",
       "      <td>2016-04-02 10:49:50.677</td>\n",
       "      <td>Critical</td>\n",
       "      <td>MCU temp high</td>\n",
       "      <td>Shopkeeper complaint that his MCU is not cooli...</td>\n",
       "      <td>2016-04-02 10:49:50.953</td>\n",
       "      <td>NaN</td>\n",
       "      <td>2016-04-02 23:06:10.020</td>\n",
       "      <td>2016-04-03 16:49:00</td>\n",
       "      <td>...</td>\n",
       "      <td>NO</td>\n",
       "      <td>Field Related</td>\n",
       "      <td>NaN</td>\n",
       "      <td>NaN</td>\n",
       "      <td>Starting capictor change MCU working good</td>\n",
       "      <td>Milk Shop</td>\n",
       "      <td>2016-04-04 09:30:00</td>\n",
       "      <td>NaN</td>\n",
       "      <td>0</td>\n",
       "      <td>NaN</td>\n",
       "    </tr>\n",
       "    <tr>\n",
       "      <th>288445</th>\n",
       "      <td>Closed</td>\n",
       "      <td>MILK CHILLING UNIT</td>\n",
       "      <td>2016-04-02 18:01:53.000</td>\n",
       "      <td>Critical</td>\n",
       "      <td>MCU temp high</td>\n",
       "      <td>\\nShopkeeper complaint that his MCU is not co...</td>\n",
       "      <td>2016-04-02 18:01:53.297</td>\n",
       "      <td>NaN</td>\n",
       "      <td>NaT</td>\n",
       "      <td>2016-04-03 06:01:00</td>\n",
       "      <td>...</td>\n",
       "      <td>NO</td>\n",
       "      <td>Field Related</td>\n",
       "      <td>NaN</td>\n",
       "      <td>NaN</td>\n",
       "      <td>Contecat  by  harmeet</td>\n",
       "      <td>Milk Shop</td>\n",
       "      <td>2016-04-02 07:30:00</td>\n",
       "      <td>NaN</td>\n",
       "      <td>0</td>\n",
       "      <td>NaN</td>\n",
       "    </tr>\n",
       "  </tbody>\n",
       "</table>\n",
       "<p>5 rows × 23 columns</p>\n",
       "</div>"
      ],
      "text/plain": [
       "           Request Status      Equipment Type            Created Date  \\\n",
       "Request No                                                              \n",
       "287537             Closed  MILK CHILLING UNIT 2016-04-01 08:09:14.463   \n",
       "287912             Closed  MILK CHILLING UNIT 2016-04-01 17:15:29.810   \n",
       "288009             Closed  MILK CHILLING UNIT 2016-04-02 08:03:46.887   \n",
       "288133             Closed  MILK CHILLING UNIT 2016-04-02 10:49:50.677   \n",
       "288445             Closed  MILK CHILLING UNIT 2016-04-02 18:01:53.000   \n",
       "\n",
       "            Priority    Major Issue  \\\n",
       "Request No                            \n",
       "287537      Critical  MCU temp high   \n",
       "287912      Critical  MCU temp high   \n",
       "288009      Critical  MCU temp high   \n",
       "288133      Critical  MCU temp high   \n",
       "288445      Critical  MCU temp high   \n",
       "\n",
       "                                                  Description  \\\n",
       "Request No                                                      \n",
       "287537      Shopkeeper complaint that his MCU is not cooli...   \n",
       "287912      Shopkeeper complaint that his MCU is not cooling.   \n",
       "288009      Shopkeeper complaint that his MCU is not cooli...   \n",
       "288133      Shopkeeper complaint that his MCU is not cooli...   \n",
       "288445       \\nShopkeeper complaint that his MCU is not co...   \n",
       "\n",
       "                     Assigned Date Sub Assigned Date          Escaltion Date  \\\n",
       "Request No                                                                     \n",
       "287537     2016-04-01 08:09:14.853               NaN                     NaT   \n",
       "287912     2016-04-01 17:15:30.220               NaN 2016-04-03 00:00:13.793   \n",
       "288009     2016-04-02 08:03:47.223               NaN 2016-04-02 20:22:57.617   \n",
       "288133     2016-04-02 10:49:50.953               NaN 2016-04-02 23:06:10.020   \n",
       "288445     2016-04-02 18:01:53.297               NaN                     NaT   \n",
       "\n",
       "                      Due Date     ...      Repeated in last 48 hours  \\\n",
       "Request No                         ...                                  \n",
       "287537     2016-04-01 20:09:00     ...                             NO   \n",
       "287912     2016-04-07 15:15:00     ...                             NO   \n",
       "288009     2016-04-03 14:03:00     ...                             NO   \n",
       "288133     2016-04-03 16:49:00     ...                             NO   \n",
       "288445     2016-04-03 06:01:00     ...                             NO   \n",
       "\n",
       "           Resolution Code  Replacement Item Replacement Quantity  \\\n",
       "Request No                                                          \n",
       "287537       Field Related               NaN                  NaN   \n",
       "287912       Field Related               NaN                  NaN   \n",
       "288009       Field Related               NaN                  NaN   \n",
       "288133       Field Related               NaN                  NaN   \n",
       "288445       Field Related               NaN                  NaN   \n",
       "\n",
       "                                  Resolution Description  \\\n",
       "Request No                                                 \n",
       "287537         Ice malte by technician  MCU working good   \n",
       "287912       Ice mallt by technician  MCU   working good   \n",
       "288009      Ice  malte by  technician  MCU  working good   \n",
       "288133         Starting capictor change MCU working good   \n",
       "288445                             Contecat  by  harmeet   \n",
       "\n",
       "           Service Location Type  Actual Close Datetime Hold Date  \\\n",
       "Request No                                                          \n",
       "287537                 Milk Shop    2016-04-02 08:30:00       NaN   \n",
       "287912                 Milk Shop    2016-04-02 12:45:00       NaN   \n",
       "288009                 Milk Shop    2016-04-02 12:45:00       NaN   \n",
       "288133                 Milk Shop    2016-04-04 09:30:00       NaN   \n",
       "288445                 Milk Shop    2016-04-02 07:30:00       NaN   \n",
       "\n",
       "           Total Hold Time (In Minutes) Reopen Count  \n",
       "Request No                                            \n",
       "287537                                0          NaN  \n",
       "287912                                0          NaN  \n",
       "288009                                0          NaN  \n",
       "288133                                0          NaN  \n",
       "288445                                0          NaN  \n",
       "\n",
       "[5 rows x 23 columns]"
      ]
     },
     "execution_count": 20,
     "metadata": {},
     "output_type": "execute_result"
    }
   ],
   "source": [
    "df_bug.head()"
   ]
  },
  {
   "cell_type": "code",
   "execution_count": 21,
   "metadata": {
    "collapsed": false
   },
   "outputs": [
    {
     "data": {
      "image/png": "[encoded data removed]",
      "text/plain": [
       "<matplotlib.figure.Figure at 0x112202fd0>"
      ]
     },
     "metadata": {},
     "output_type": "display_data"
    }
   ],
   "source": [
    "fig, ax = plt.subplots(figsize=(16, 9))\n",
    "\n",
    "df_bugcount = df_bug[u'Service Location'].value_counts().sort_index()\n",
    "\n",
    "df_bugcount.plot(kind='bar', ax=ax, fontsize=fs)\n",
    "\n",
    "# x-axis\n",
    "ax.set_xticklabels([])\n",
    "ax.set_xlabel('Booth #', fontsize=20)\n",
    "\n",
    "# y-axis\n",
    "ax.set_ylabel('# of Times Fault Reported', fontsize=fs)\n",
    "\n",
    "# plot attributes\n",
    "ax.spines['top'].set_visible(False)\n",
    "ax.spines['right'].set_visible(False)\n",
    "ax.spines['bottom'].set_visible(False)\n",
    "ax.spines['left'].set_visible(False)\n",
    "\n",
    "ax.xaxis.set_ticks_position('bottom') \n",
    "ax.yaxis.set_ticks_position('left') \n",
    "\n",
    "ax.set_title('Frequency Distribution of Faults', fontsize=fs)\n",
    "\n",
    "plt.tight_layout()\n",
    "plt.savefig('../../figures/raw/fault_frequency_dist.pdf')"
   ]
  },
  {
   "cell_type": "markdown",
   "metadata": {},
   "source": [
    "# Understanding the Dates"
   ]
  },
  {
   "cell_type": "code",
   "execution_count": 22,
   "metadata": {
    "collapsed": false
   },
   "outputs": [],
   "source": [
    "date_cols = [u'Request Status', u'Created Date', u'Assigned Date', u'Sub Assigned Date', \\\n",
    "             u'Escaltion Date', u'Due Date', u'Complete Date', u'Close Date', u'Service Location', \\\n",
    "             u'Actual Close Datetime', u'Hold Date', u'Total Hold Time (In Minutes)', u'Reopen Count']"
   ]
  },
  {
   "cell_type": "code",
   "execution_count": 23,
   "metadata": {
    "collapsed": false
   },
   "outputs": [
    {
     "data": {
      "text/html": [
       "<div>\n",
       "<table border=\"1\" class=\"dataframe\">\n",
       "  <thead>\n",
       "    <tr style=\"text-align: right;\">\n",
       "      <th></th>\n",
       "      <th>Request Status</th>\n",
       "      <th>Created Date</th>\n",
       "      <th>Assigned Date</th>\n",
       "      <th>Sub Assigned Date</th>\n",
       "      <th>Escaltion Date</th>\n",
       "      <th>Due Date</th>\n",
       "      <th>Complete Date</th>\n",
       "      <th>Close Date</th>\n",
       "      <th>Service Location</th>\n",
       "      <th>Actual Close Datetime</th>\n",
       "      <th>Hold Date</th>\n",
       "      <th>Total Hold Time (In Minutes)</th>\n",
       "      <th>Reopen Count</th>\n",
       "    </tr>\n",
       "    <tr>\n",
       "      <th>Request No</th>\n",
       "      <th></th>\n",
       "      <th></th>\n",
       "      <th></th>\n",
       "      <th></th>\n",
       "      <th></th>\n",
       "      <th></th>\n",
       "      <th></th>\n",
       "      <th></th>\n",
       "      <th></th>\n",
       "      <th></th>\n",
       "      <th></th>\n",
       "      <th></th>\n",
       "      <th></th>\n",
       "    </tr>\n",
       "  </thead>\n",
       "  <tbody>\n",
       "    <tr>\n",
       "      <th>287537</th>\n",
       "      <td>Closed</td>\n",
       "      <td>2016-04-01 08:09:14.463</td>\n",
       "      <td>2016-04-01 08:09:14.853</td>\n",
       "      <td>NaN</td>\n",
       "      <td>NaT</td>\n",
       "      <td>2016-04-01 20:09:00</td>\n",
       "      <td>2016-04-02 09:45:27.673</td>\n",
       "      <td>2016-04-02 14:42:13.420</td>\n",
       "      <td>744</td>\n",
       "      <td>2016-04-02 08:30:00</td>\n",
       "      <td>NaN</td>\n",
       "      <td>0</td>\n",
       "      <td>NaN</td>\n",
       "    </tr>\n",
       "    <tr>\n",
       "      <th>287912</th>\n",
       "      <td>Closed</td>\n",
       "      <td>2016-04-01 17:15:29.810</td>\n",
       "      <td>2016-04-01 17:15:30.220</td>\n",
       "      <td>NaN</td>\n",
       "      <td>2016-04-03 00:00:13.793</td>\n",
       "      <td>2016-04-07 15:15:00</td>\n",
       "      <td>2016-04-03 05:38:38.223</td>\n",
       "      <td>2016-04-03 06:49:01.713</td>\n",
       "      <td>99</td>\n",
       "      <td>2016-04-02 12:45:00</td>\n",
       "      <td>NaN</td>\n",
       "      <td>0</td>\n",
       "      <td>NaN</td>\n",
       "    </tr>\n",
       "    <tr>\n",
       "      <th>288009</th>\n",
       "      <td>Closed</td>\n",
       "      <td>2016-04-02 08:03:46.887</td>\n",
       "      <td>2016-04-02 08:03:47.223</td>\n",
       "      <td>NaN</td>\n",
       "      <td>2016-04-02 20:22:57.617</td>\n",
       "      <td>2016-04-03 14:03:00</td>\n",
       "      <td>2016-04-03 05:46:29.967</td>\n",
       "      <td>2016-04-03 06:48:51.507</td>\n",
       "      <td>956</td>\n",
       "      <td>2016-04-02 12:45:00</td>\n",
       "      <td>NaN</td>\n",
       "      <td>0</td>\n",
       "      <td>NaN</td>\n",
       "    </tr>\n",
       "    <tr>\n",
       "      <th>288133</th>\n",
       "      <td>Closed</td>\n",
       "      <td>2016-04-02 10:49:50.677</td>\n",
       "      <td>2016-04-02 10:49:50.953</td>\n",
       "      <td>NaN</td>\n",
       "      <td>2016-04-02 23:06:10.020</td>\n",
       "      <td>2016-04-03 16:49:00</td>\n",
       "      <td>2016-04-03 14:59:23.327</td>\n",
       "      <td>2016-04-03 15:25:20.007</td>\n",
       "      <td>853</td>\n",
       "      <td>2016-04-04 09:30:00</td>\n",
       "      <td>NaN</td>\n",
       "      <td>0</td>\n",
       "      <td>NaN</td>\n",
       "    </tr>\n",
       "    <tr>\n",
       "      <th>288445</th>\n",
       "      <td>Closed</td>\n",
       "      <td>2016-04-02 18:01:53.000</td>\n",
       "      <td>2016-04-02 18:01:53.297</td>\n",
       "      <td>NaN</td>\n",
       "      <td>NaT</td>\n",
       "      <td>2016-04-03 06:01:00</td>\n",
       "      <td>2016-04-03 06:04:21.127</td>\n",
       "      <td>2016-04-03 06:47:20.933</td>\n",
       "      <td>423</td>\n",
       "      <td>2016-04-02 07:30:00</td>\n",
       "      <td>NaN</td>\n",
       "      <td>0</td>\n",
       "      <td>NaN</td>\n",
       "    </tr>\n",
       "  </tbody>\n",
       "</table>\n",
       "</div>"
      ],
      "text/plain": [
       "           Request Status            Created Date           Assigned Date  \\\n",
       "Request No                                                                  \n",
       "287537             Closed 2016-04-01 08:09:14.463 2016-04-01 08:09:14.853   \n",
       "287912             Closed 2016-04-01 17:15:29.810 2016-04-01 17:15:30.220   \n",
       "288009             Closed 2016-04-02 08:03:46.887 2016-04-02 08:03:47.223   \n",
       "288133             Closed 2016-04-02 10:49:50.677 2016-04-02 10:49:50.953   \n",
       "288445             Closed 2016-04-02 18:01:53.000 2016-04-02 18:01:53.297   \n",
       "\n",
       "           Sub Assigned Date          Escaltion Date            Due Date  \\\n",
       "Request No                                                                 \n",
       "287537                   NaN                     NaT 2016-04-01 20:09:00   \n",
       "287912                   NaN 2016-04-03 00:00:13.793 2016-04-07 15:15:00   \n",
       "288009                   NaN 2016-04-02 20:22:57.617 2016-04-03 14:03:00   \n",
       "288133                   NaN 2016-04-02 23:06:10.020 2016-04-03 16:49:00   \n",
       "288445                   NaN                     NaT 2016-04-03 06:01:00   \n",
       "\n",
       "                     Complete Date              Close Date  Service Location  \\\n",
       "Request No                                                                     \n",
       "287537     2016-04-02 09:45:27.673 2016-04-02 14:42:13.420               744   \n",
       "287912     2016-04-03 05:38:38.223 2016-04-03 06:49:01.713                99   \n",
       "288009     2016-04-03 05:46:29.967 2016-04-03 06:48:51.507               956   \n",
       "288133     2016-04-03 14:59:23.327 2016-04-03 15:25:20.007               853   \n",
       "288445     2016-04-03 06:04:21.127 2016-04-03 06:47:20.933               423   \n",
       "\n",
       "           Actual Close Datetime Hold Date  Total Hold Time (In Minutes)  \\\n",
       "Request No                                                                 \n",
       "287537       2016-04-02 08:30:00       NaN                             0   \n",
       "287912       2016-04-02 12:45:00       NaN                             0   \n",
       "288009       2016-04-02 12:45:00       NaN                             0   \n",
       "288133       2016-04-04 09:30:00       NaN                             0   \n",
       "288445       2016-04-02 07:30:00       NaN                             0   \n",
       "\n",
       "            Reopen Count  \n",
       "Request No                \n",
       "287537               NaN  \n",
       "287912               NaN  \n",
       "288009               NaN  \n",
       "288133               NaN  \n",
       "288445               NaN  "
      ]
     },
     "execution_count": 23,
     "metadata": {},
     "output_type": "execute_result"
    }
   ],
   "source": [
    "df_closed = df_bug[date_cols]\n",
    "df_closed.head()"
   ]
  },
  {
   "cell_type": "code",
   "execution_count": 24,
   "metadata": {
    "collapsed": false
   },
   "outputs": [
    {
     "name": "stdout",
     "output_type": "stream",
     "text": [
      "Request Status                    0\n",
      "Created Date                      0\n",
      "Assigned Date                     0\n",
      "Sub Assigned Date               703\n",
      "Escaltion Date                  347\n",
      "Due Date                          0\n",
      "Complete Date                     0\n",
      "Close Date                        0\n",
      "Service Location                  0\n",
      "Actual Close Datetime           536\n",
      "Hold Date                       723\n",
      "Total Hold Time (In Minutes)      0\n",
      "Reopen Count                    681\n",
      "dtype: int64\n"
     ]
    }
   ],
   "source": [
    "# Missing Values\n",
    "df_nullcount = df_closed.isnull().apply(np.count_nonzero)\n",
    "print df_nullcount"
   ]
  },
  {
   "cell_type": "code",
   "execution_count": 25,
   "metadata": {
    "collapsed": false
   },
   "outputs": [
    {
     "data": {
      "text/plain": [
       "<matplotlib.axes._subplots.AxesSubplot at 0x10ef3eb10>"
      ]
     },
     "execution_count": 25,
     "metadata": {},
     "output_type": "execute_result"
    },
    {
     "data": {
      "image/png": "[encoded data removed]",
      "text/plain": [
       "<matplotlib.figure.Figure at 0x10ef3e250>"
      ]
     },
     "metadata": {},
     "output_type": "display_data"
    }
   ],
   "source": [
    "df_nullcount.plot(kind='bar')"
   ]
  },
  {
   "cell_type": "markdown",
   "metadata": {},
   "source": [
    "# Gantt Chart of Faults"
   ]
  },
  {
   "cell_type": "code",
   "execution_count": 26,
   "metadata": {
    "collapsed": false
   },
   "outputs": [
    {
     "data": {
      "text/html": [
       "<div>\n",
       "<table border=\"1\" class=\"dataframe\">\n",
       "  <thead>\n",
       "    <tr style=\"text-align: right;\">\n",
       "      <th></th>\n",
       "      <th>Start</th>\n",
       "      <th>Finish</th>\n",
       "      <th>Task</th>\n",
       "    </tr>\n",
       "  </thead>\n",
       "  <tbody>\n",
       "    <tr>\n",
       "      <th>0</th>\n",
       "      <td>2016-04-01 08:09:14.463</td>\n",
       "      <td>2016-04-02 14:42:13.420</td>\n",
       "      <td>744</td>\n",
       "    </tr>\n",
       "    <tr>\n",
       "      <th>1</th>\n",
       "      <td>2016-04-01 17:15:29.810</td>\n",
       "      <td>2016-04-03 06:49:01.713</td>\n",
       "      <td>99</td>\n",
       "    </tr>\n",
       "    <tr>\n",
       "      <th>2</th>\n",
       "      <td>2016-04-02 08:03:46.887</td>\n",
       "      <td>2016-04-03 06:48:51.507</td>\n",
       "      <td>956</td>\n",
       "    </tr>\n",
       "    <tr>\n",
       "      <th>3</th>\n",
       "      <td>2016-04-02 10:49:50.677</td>\n",
       "      <td>2016-04-03 15:25:20.007</td>\n",
       "      <td>853</td>\n",
       "    </tr>\n",
       "    <tr>\n",
       "      <th>4</th>\n",
       "      <td>2016-04-02 18:01:53.000</td>\n",
       "      <td>2016-04-03 06:47:20.933</td>\n",
       "      <td>423</td>\n",
       "    </tr>\n",
       "  </tbody>\n",
       "</table>\n",
       "</div>"
      ],
      "text/plain": [
       "                    Start                  Finish  Task\n",
       "0 2016-04-01 08:09:14.463 2016-04-02 14:42:13.420   744\n",
       "1 2016-04-01 17:15:29.810 2016-04-03 06:49:01.713    99\n",
       "2 2016-04-02 08:03:46.887 2016-04-03 06:48:51.507   956\n",
       "3 2016-04-02 10:49:50.677 2016-04-03 15:25:20.007   853\n",
       "4 2016-04-02 18:01:53.000 2016-04-03 06:47:20.933   423"
      ]
     },
     "execution_count": 26,
     "metadata": {},
     "output_type": "execute_result"
    }
   ],
   "source": [
    "df_t1 = df_closed[[u'Created Date', u'Close Date', u'Service Location']].reset_index(drop=True)\n",
    "df_t1.columns = ['Start', 'Finish', 'Task']\n",
    "\n",
    "df_t1.head()"
   ]
  },
  {
   "cell_type": "code",
   "execution_count": 27,
   "metadata": {
    "collapsed": false
   },
   "outputs": [
    {
     "name": "stdout",
     "output_type": "stream",
     "text": [
      "Number of booths which are analysed: 85\n"
     ]
    }
   ],
   "source": [
    "print 'Number of booths which are analysed:', df_t1.Task.unique().size"
   ]
  },
  {
   "cell_type": "code",
   "execution_count": 28,
   "metadata": {
    "collapsed": false
   },
   "outputs": [
    {
     "data": {
      "image/png": "[encoded data removed]",
      "text/plain": [
       "<matplotlib.figure.Figure at 0x10f541690>"
      ]
     },
     "metadata": {},
     "output_type": "display_data"
    }
   ],
   "source": [
    "plt.rcParams.update({'font.size': fs-2})\n",
    "\n",
    "fig = plt.figure(figsize=(16, 9))\n",
    "\n",
    "ax = fig.add_subplot(111)\n",
    "ax = ax.xaxis_date()\n",
    "ax = plt.hlines(df_t1.Task, dt.date2num(pd.to_datetime(df_t1.Start).astype(datetime)), \\\n",
    "                dt.date2num(pd.to_datetime(df_t1.Finish).astype(datetime)), lw=4, color='red')\n",
    "\n",
    "plt.ylabel('Booth #', fontsize=fs+2)\n",
    "plt.tight_layout()\n",
    "\n",
    "plt.savefig('../../figures/raw/fault_gc.pdf')"
   ]
  },
  {
   "cell_type": "code",
   "execution_count": 29,
   "metadata": {
    "collapsed": false
   },
   "outputs": [],
   "source": [
    "df_delta = df_t1[\"Finish\"].sub(df_t1[\"Start\"], axis=0)"
   ]
  },
  {
   "cell_type": "code",
   "execution_count": 30,
   "metadata": {
    "collapsed": false
   },
   "outputs": [],
   "source": [
    "df_t1[\"time_hrs\"] = df_delta.apply(lambda td: td.total_seconds() / 3600)"
   ]
  },
  {
   "cell_type": "code",
   "execution_count": 31,
   "metadata": {
    "collapsed": false
   },
   "outputs": [
    {
     "data": {
      "text/plain": [
       "[]"
      ]
     },
     "execution_count": 31,
     "metadata": {},
     "output_type": "execute_result"
    },
    {
     "data": {
      "image/png": "[encoded data removed]",
      "text/plain": [
       "<matplotlib.figure.Figure at 0x10ec85790>"
      ]
     },
     "metadata": {},
     "output_type": "display_data"
    }
   ],
   "source": [
    "fig, ax = plt.subplots(figsize=(16, 9))\n",
    "df_t1.boxplot(column='time_hrs', by='Task', ax=ax)\n",
    "\n",
    "ax.set_xticklabels([])\n",
    "#ax.set_ylim([0, 100])"
   ]
  },
  {
   "cell_type": "code",
   "execution_count": 32,
   "metadata": {
    "collapsed": false
   },
   "outputs": [
    {
     "data": {
      "image/png": "[encoded data removed]",
      "text/plain": [
       "<matplotlib.figure.Figure at 0x10f529710>"
      ]
     },
     "metadata": {},
     "output_type": "display_data"
    }
   ],
   "source": [
    "fig, ax = plt.subplots(figsize=(16, 9))\n",
    "\n",
    "df_t1[['Task', 'time_hrs']].groupby('Task').median().plot(kind='bar', ax=ax, legend=False)\n",
    "\n",
    "# x-axis\n",
    "ax.set_xticklabels([])\n",
    "ax.set_xlabel('Booth #')\n",
    "\n",
    "# y-axis\n",
    "ax.set_ylabel('Service Time (in Hours)')\n",
    "\n",
    "ax.spines['top'].set_visible(False)\n",
    "ax.spines['right'].set_visible(False)\n",
    "ax.spines['bottom'].set_visible(False)\n",
    "ax.spines['left'].set_visible(False)\n",
    "\n",
    "ax.xaxis.set_ticks_position('bottom') \n",
    "ax.yaxis.set_ticks_position('left') \n",
    "\n",
    "plt.tight_layout()"
   ]
  },
  {
   "cell_type": "markdown",
   "metadata": {},
   "source": [
    "# Generate Booth Report"
   ]
  },
  {
   "cell_type": "code",
   "execution_count": 33,
   "metadata": {
    "collapsed": false
   },
   "outputs": [
    {
     "data": {
      "text/plain": [
       "Milk Shop           683\n",
       "MS DOUBLE SUPPLY     40\n",
       "Name: Service Location Type, dtype: int64"
      ]
     },
     "execution_count": 33,
     "metadata": {},
     "output_type": "execute_result"
    }
   ],
   "source": [
    "df_bug[u'Service Location Type'].value_counts()"
   ]
  },
  {
   "cell_type": "code",
   "execution_count": 34,
   "metadata": {
    "collapsed": true
   },
   "outputs": [],
   "source": [
    "bug_count = df_bug[u'Service Location'].value_counts()\n",
    "mdid_lst = list(df_bthlst[df_bthlst[\"booth_id\"].isin(bug_count.index.values)][\"md_id\"])\n",
    "\n",
    "indx = ['mdb' + str(v) for v in mdid_lst]\n",
    "df_selparams = pd.DataFrame(index=indx, columns=['n_faults', 'n_amb', 'n_door', 'n_relay', 'n_mcu', 'n_temp'])"
   ]
  },
  {
   "cell_type": "code",
   "execution_count": 35,
   "metadata": {
    "collapsed": false
   },
   "outputs": [
    {
     "data": {
      "text/html": [
       "<div>\n",
       "<table border=\"1\" class=\"dataframe\">\n",
       "  <thead>\n",
       "    <tr style=\"text-align: right;\">\n",
       "      <th></th>\n",
       "      <th>n_faults</th>\n",
       "      <th>n_amb</th>\n",
       "      <th>n_door</th>\n",
       "      <th>n_relay</th>\n",
       "      <th>n_mcu</th>\n",
       "      <th>n_temp</th>\n",
       "    </tr>\n",
       "  </thead>\n",
       "  <tbody>\n",
       "    <tr>\n",
       "      <th>mdb89</th>\n",
       "      <td>NaN</td>\n",
       "      <td>NaN</td>\n",
       "      <td>NaN</td>\n",
       "      <td>NaN</td>\n",
       "      <td>NaN</td>\n",
       "      <td>NaN</td>\n",
       "    </tr>\n",
       "    <tr>\n",
       "      <th>mdb59</th>\n",
       "      <td>NaN</td>\n",
       "      <td>NaN</td>\n",
       "      <td>NaN</td>\n",
       "      <td>NaN</td>\n",
       "      <td>NaN</td>\n",
       "      <td>NaN</td>\n",
       "    </tr>\n",
       "    <tr>\n",
       "      <th>mdb93</th>\n",
       "      <td>NaN</td>\n",
       "      <td>NaN</td>\n",
       "      <td>NaN</td>\n",
       "      <td>NaN</td>\n",
       "      <td>NaN</td>\n",
       "      <td>NaN</td>\n",
       "    </tr>\n",
       "    <tr>\n",
       "      <th>mdb119</th>\n",
       "      <td>NaN</td>\n",
       "      <td>NaN</td>\n",
       "      <td>NaN</td>\n",
       "      <td>NaN</td>\n",
       "      <td>NaN</td>\n",
       "      <td>NaN</td>\n",
       "    </tr>\n",
       "    <tr>\n",
       "      <th>mdb103</th>\n",
       "      <td>NaN</td>\n",
       "      <td>NaN</td>\n",
       "      <td>NaN</td>\n",
       "      <td>NaN</td>\n",
       "      <td>NaN</td>\n",
       "      <td>NaN</td>\n",
       "    </tr>\n",
       "  </tbody>\n",
       "</table>\n",
       "</div>"
      ],
      "text/plain": [
       "       n_faults n_amb n_door n_relay n_mcu n_temp\n",
       "mdb89       NaN   NaN    NaN     NaN   NaN    NaN\n",
       "mdb59       NaN   NaN    NaN     NaN   NaN    NaN\n",
       "mdb93       NaN   NaN    NaN     NaN   NaN    NaN\n",
       "mdb119      NaN   NaN    NaN     NaN   NaN    NaN\n",
       "mdb103      NaN   NaN    NaN     NaN   NaN    NaN"
      ]
     },
     "execution_count": 35,
     "metadata": {},
     "output_type": "execute_result"
    }
   ],
   "source": [
    "df_selparams.head()"
   ]
  },
  {
   "cell_type": "code",
   "execution_count": 36,
   "metadata": {
    "collapsed": false
   },
   "outputs": [
    {
     "data": {
      "text/plain": [
       "28"
      ]
     },
     "execution_count": 36,
     "metadata": {},
     "output_type": "execute_result"
    }
   ],
   "source": [
    "bug_count[423]"
   ]
  },
  {
   "cell_type": "code",
   "execution_count": 37,
   "metadata": {
    "collapsed": false
   },
   "outputs": [],
   "source": [
    "for i, r in bug_count.iteritems():\n",
    "    \n",
    "    md_id = 'mdb' + str(df_bthlst[df_bthlst[\"booth_id\"]==i][\"md_id\"].values[0])\n",
    "    df_selparams.loc[md_id, 'n_faults'] = bug_count[i]"
   ]
  },
  {
   "cell_type": "code",
   "execution_count": 38,
   "metadata": {
    "collapsed": false
   },
   "outputs": [
    {
     "data": {
      "text/html": [
       "<div>\n",
       "<table border=\"1\" class=\"dataframe\">\n",
       "  <thead>\n",
       "    <tr style=\"text-align: right;\">\n",
       "      <th></th>\n",
       "      <th>n_faults</th>\n",
       "      <th>n_amb</th>\n",
       "      <th>n_door</th>\n",
       "      <th>n_relay</th>\n",
       "      <th>n_mcu</th>\n",
       "      <th>n_temp</th>\n",
       "    </tr>\n",
       "  </thead>\n",
       "  <tbody>\n",
       "    <tr>\n",
       "      <th>mdb89</th>\n",
       "      <td>8</td>\n",
       "      <td>NaN</td>\n",
       "      <td>NaN</td>\n",
       "      <td>NaN</td>\n",
       "      <td>NaN</td>\n",
       "      <td>NaN</td>\n",
       "    </tr>\n",
       "    <tr>\n",
       "      <th>mdb59</th>\n",
       "      <td>12</td>\n",
       "      <td>NaN</td>\n",
       "      <td>NaN</td>\n",
       "      <td>NaN</td>\n",
       "      <td>NaN</td>\n",
       "      <td>NaN</td>\n",
       "    </tr>\n",
       "    <tr>\n",
       "      <th>mdb93</th>\n",
       "      <td>1</td>\n",
       "      <td>NaN</td>\n",
       "      <td>NaN</td>\n",
       "      <td>NaN</td>\n",
       "      <td>NaN</td>\n",
       "      <td>NaN</td>\n",
       "    </tr>\n",
       "    <tr>\n",
       "      <th>mdb119</th>\n",
       "      <td>9</td>\n",
       "      <td>NaN</td>\n",
       "      <td>NaN</td>\n",
       "      <td>NaN</td>\n",
       "      <td>NaN</td>\n",
       "      <td>NaN</td>\n",
       "    </tr>\n",
       "    <tr>\n",
       "      <th>mdb103</th>\n",
       "      <td>13</td>\n",
       "      <td>NaN</td>\n",
       "      <td>NaN</td>\n",
       "      <td>NaN</td>\n",
       "      <td>NaN</td>\n",
       "      <td>NaN</td>\n",
       "    </tr>\n",
       "  </tbody>\n",
       "</table>\n",
       "</div>"
      ],
      "text/plain": [
       "       n_faults n_amb n_door n_relay n_mcu n_temp\n",
       "mdb89         8   NaN    NaN     NaN   NaN    NaN\n",
       "mdb59        12   NaN    NaN     NaN   NaN    NaN\n",
       "mdb93         1   NaN    NaN     NaN   NaN    NaN\n",
       "mdb119        9   NaN    NaN     NaN   NaN    NaN\n",
       "mdb103       13   NaN    NaN     NaN   NaN    NaN"
      ]
     },
     "execution_count": 38,
     "metadata": {},
     "output_type": "execute_result"
    }
   ],
   "source": [
    "df_selparams.head()"
   ]
  },
  {
   "cell_type": "code",
   "execution_count": 39,
   "metadata": {
    "collapsed": true
   },
   "outputs": [],
   "source": [
    "st_streams = pd.HDFStore('../../data/raw/streams.h5')"
   ]
  },
  {
   "cell_type": "code",
   "execution_count": 40,
   "metadata": {
    "collapsed": false
   },
   "outputs": [
    {
     "data": {
      "text/plain": [
       "<class 'pandas.io.pytables.HDFStore'>\n",
       "File path: ../../data/raw/streams.h5\n",
       "/streams/amb              frame        (shape->[1074241,68])\n",
       "/streams/door             frame        (shape->[1074241,86])\n",
       "/streams/mcu              frame        (shape->[1074241,86])\n",
       "/streams/relay            frame        (shape->[1074241,86])\n",
       "/streams/temp             frame        (shape->[1074241,86])"
      ]
     },
     "execution_count": 40,
     "metadata": {},
     "output_type": "execute_result"
    }
   ],
   "source": [
    "st_streams"
   ]
  },
  {
   "cell_type": "code",
   "execution_count": 41,
   "metadata": {
    "collapsed": false
   },
   "outputs": [],
   "source": [
    "td_amb = st_streams['/streams/amb'].index.values[-1] - st_streams['/streams/amb'].index.values[0]\n",
    "td_door = st_streams['/streams/door'].index.values[-1] - st_streams['/streams/door'].index.values[0]\n",
    "td_mcu = st_streams['/streams/mcu'].index.values[-1] - st_streams['/streams/mcu'].index.values[0]\n",
    "td_relay = st_streams['/streams/relay'].index.values[-1] - st_streams['/streams/relay'].index.values[0]\n",
    "td_temp = st_streams['/streams/temp'].index.values[-1] - st_streams['/streams/temp'].index.values[0]"
   ]
  },
  {
   "cell_type": "code",
   "execution_count": 42,
   "metadata": {
    "collapsed": false
   },
   "outputs": [],
   "source": [
    "namb_instance = td_amb / np.timedelta64(30, 's')\n",
    "ndoor_instance = td_door / np.timedelta64(30, 's')\n",
    "nmcu_instance = td_mcu / np.timedelta64(30, 's')\n",
    "nrelay_instance = td_relay / np.timedelta64(30, 's')\n",
    "ntemp_instance = td_temp / np.timedelta64(30, 's')"
   ]
  },
  {
   "cell_type": "code",
   "execution_count": 43,
   "metadata": {
    "collapsed": false
   },
   "outputs": [],
   "source": [
    "df_namb = (st_streams['/streams/amb'].count() * 100.0) / namb_instance\n",
    "df_ndoor = (st_streams['/streams/door'].count() * 100.0) / ndoor_instance\n",
    "df_nmcu = (st_streams['/streams/mcu'].count() * 100.0) / nmcu_instance\n",
    "df_nrelay = (st_streams['/streams/relay'].count() * 100.0) / nrelay_instance\n",
    "df_ntemp = (st_streams['/streams/temp'].count() * 100.0) / ntemp_instance"
   ]
  },
  {
   "cell_type": "code",
   "execution_count": 44,
   "metadata": {
    "collapsed": true
   },
   "outputs": [],
   "source": [
    "st_streams.close()"
   ]
  },
  {
   "cell_type": "code",
   "execution_count": 45,
   "metadata": {
    "collapsed": false
   },
   "outputs": [],
   "source": [
    "df_namb = df_namb[df_namb.index != 'mdb68']\n",
    "df_ndoor = df_ndoor[df_ndoor.index != 'mdb68']\n",
    "df_nmcu = df_nmcu[df_nmcu.index != 'mdb68']\n",
    "df_nrelay = df_nrelay[df_nrelay.index != 'mdb68']\n",
    "df_ntemp = df_ntemp[df_ntemp.index != 'mdb68']"
   ]
  },
  {
   "cell_type": "code",
   "execution_count": 46,
   "metadata": {
    "collapsed": false
   },
   "outputs": [],
   "source": [
    "df_selparams.loc[df_namb.index, 'n_amb'] = df_namb.values\n",
    "df_selparams.loc[df_ndoor.index, 'n_door'] = df_ndoor.values\n",
    "df_selparams.loc[df_nmcu.index, 'n_mcu'] = df_nmcu.values\n",
    "df_selparams.loc[df_nrelay.index, 'n_relay'] = df_nrelay.values\n",
    "df_selparams.loc[df_ntemp.index, 'n_temp'] = df_ntemp.values"
   ]
  },
  {
   "cell_type": "code",
   "execution_count": 47,
   "metadata": {
    "collapsed": false
   },
   "outputs": [
    {
     "data": {
      "text/html": [
       "<div>\n",
       "<table border=\"1\" class=\"dataframe\">\n",
       "  <thead>\n",
       "    <tr style=\"text-align: right;\">\n",
       "      <th></th>\n",
       "      <th>n_faults</th>\n",
       "      <th>n_amb</th>\n",
       "      <th>n_door</th>\n",
       "      <th>n_relay</th>\n",
       "      <th>n_mcu</th>\n",
       "      <th>n_temp</th>\n",
       "    </tr>\n",
       "  </thead>\n",
       "  <tbody>\n",
       "    <tr>\n",
       "      <th>mdb89</th>\n",
       "      <td>8</td>\n",
       "      <td>40.9896</td>\n",
       "      <td>62.1635</td>\n",
       "      <td>53.3418</td>\n",
       "      <td>26.7974</td>\n",
       "      <td>34.0059</td>\n",
       "    </tr>\n",
       "    <tr>\n",
       "      <th>mdb59</th>\n",
       "      <td>12</td>\n",
       "      <td>34.9148</td>\n",
       "      <td>49.5248</td>\n",
       "      <td>50.2641</td>\n",
       "      <td>35.1147</td>\n",
       "      <td>34.9266</td>\n",
       "    </tr>\n",
       "    <tr>\n",
       "      <th>mdb93</th>\n",
       "      <td>1</td>\n",
       "      <td>36.6568</td>\n",
       "      <td>59.3619</td>\n",
       "      <td>59.3473</td>\n",
       "      <td>36.8216</td>\n",
       "      <td>36.6655</td>\n",
       "    </tr>\n",
       "    <tr>\n",
       "      <th>mdb119</th>\n",
       "      <td>9</td>\n",
       "      <td>NaN</td>\n",
       "      <td>7.52625</td>\n",
       "      <td>4.07693</td>\n",
       "      <td>4.08214</td>\n",
       "      <td>5.86461</td>\n",
       "    </tr>\n",
       "    <tr>\n",
       "      <th>mdb103</th>\n",
       "      <td>13</td>\n",
       "      <td>NaN</td>\n",
       "      <td>15.1468</td>\n",
       "      <td>15.1441</td>\n",
       "      <td>15.1464</td>\n",
       "      <td>15.1292</td>\n",
       "    </tr>\n",
       "  </tbody>\n",
       "</table>\n",
       "</div>"
      ],
      "text/plain": [
       "       n_faults    n_amb   n_door  n_relay    n_mcu   n_temp\n",
       "mdb89         8  40.9896  62.1635  53.3418  26.7974  34.0059\n",
       "mdb59        12  34.9148  49.5248  50.2641  35.1147  34.9266\n",
       "mdb93         1  36.6568  59.3619  59.3473  36.8216  36.6655\n",
       "mdb119        9      NaN  7.52625  4.07693  4.08214  5.86461\n",
       "mdb103       13      NaN  15.1468  15.1441  15.1464  15.1292"
      ]
     },
     "execution_count": 47,
     "metadata": {},
     "output_type": "execute_result"
    }
   ],
   "source": [
    "df_selparams.head()"
   ]
  },
  {
   "cell_type": "code",
   "execution_count": 48,
   "metadata": {
    "collapsed": false
   },
   "outputs": [],
   "source": [
    "df_selparams.to_csv('../../data/raw/booth_sc.csv')"
   ]
  },
  {
   "cell_type": "markdown",
   "metadata": {},
   "source": [
    "# Categorize Booth"
   ]
  },
  {
   "cell_type": "code",
   "execution_count": 49,
   "metadata": {
    "collapsed": false
   },
   "outputs": [],
   "source": [
    "# Drop booths with missing information\n",
    "df_wna = df_selparams.dropna()"
   ]
  },
  {
   "cell_type": "code",
   "execution_count": 50,
   "metadata": {
    "collapsed": false
   },
   "outputs": [
    {
     "data": {
      "text/html": [
       "<div>\n",
       "<table border=\"1\" class=\"dataframe\">\n",
       "  <thead>\n",
       "    <tr style=\"text-align: right;\">\n",
       "      <th></th>\n",
       "      <th>n_faults</th>\n",
       "      <th>n_amb</th>\n",
       "      <th>n_door</th>\n",
       "      <th>n_relay</th>\n",
       "      <th>n_mcu</th>\n",
       "      <th>n_temp</th>\n",
       "    </tr>\n",
       "  </thead>\n",
       "  <tbody>\n",
       "    <tr>\n",
       "      <th>mdb93</th>\n",
       "      <td>1</td>\n",
       "      <td>36.6568</td>\n",
       "      <td>59.3619</td>\n",
       "      <td>59.3473</td>\n",
       "      <td>36.8216</td>\n",
       "      <td>36.6655</td>\n",
       "    </tr>\n",
       "    <tr>\n",
       "      <th>mdb55</th>\n",
       "      <td>2</td>\n",
       "      <td>24.3685</td>\n",
       "      <td>51.4481</td>\n",
       "      <td>51.8886</td>\n",
       "      <td>24.3895</td>\n",
       "      <td>24.3678</td>\n",
       "    </tr>\n",
       "    <tr>\n",
       "      <th>mdb98</th>\n",
       "      <td>2</td>\n",
       "      <td>34.5526</td>\n",
       "      <td>63.5273</td>\n",
       "      <td>63.6502</td>\n",
       "      <td>35.064</td>\n",
       "      <td>34.5737</td>\n",
       "    </tr>\n",
       "    <tr>\n",
       "      <th>mdb63</th>\n",
       "      <td>2</td>\n",
       "      <td>39.2045</td>\n",
       "      <td>63.9232</td>\n",
       "      <td>63.9167</td>\n",
       "      <td>39.2326</td>\n",
       "      <td>39.2117</td>\n",
       "    </tr>\n",
       "    <tr>\n",
       "      <th>mdb21</th>\n",
       "      <td>3</td>\n",
       "      <td>52.9573</td>\n",
       "      <td>74.2124</td>\n",
       "      <td>74.1896</td>\n",
       "      <td>52.9847</td>\n",
       "      <td>52.9768</td>\n",
       "    </tr>\n",
       "    <tr>\n",
       "      <th>mdb75</th>\n",
       "      <td>3</td>\n",
       "      <td>42.3847</td>\n",
       "      <td>61.2941</td>\n",
       "      <td>61.2455</td>\n",
       "      <td>43.2586</td>\n",
       "      <td>42.3898</td>\n",
       "    </tr>\n",
       "    <tr>\n",
       "      <th>mdb71</th>\n",
       "      <td>4</td>\n",
       "      <td>29.4847</td>\n",
       "      <td>57.1694</td>\n",
       "      <td>57.2446</td>\n",
       "      <td>35.7033</td>\n",
       "      <td>35.6822</td>\n",
       "    </tr>\n",
       "    <tr>\n",
       "      <th>mdb82</th>\n",
       "      <td>4</td>\n",
       "      <td>32.8851</td>\n",
       "      <td>62.0116</td>\n",
       "      <td>62.2943</td>\n",
       "      <td>40.4242</td>\n",
       "      <td>32.8865</td>\n",
       "    </tr>\n",
       "    <tr>\n",
       "      <th>mdb61</th>\n",
       "      <td>4</td>\n",
       "      <td>29.2785</td>\n",
       "      <td>56.9255</td>\n",
       "      <td>55.8568</td>\n",
       "      <td>29.2904</td>\n",
       "      <td>29.2776</td>\n",
       "    </tr>\n",
       "    <tr>\n",
       "      <th>mdb92</th>\n",
       "      <td>4</td>\n",
       "      <td>38.9181</td>\n",
       "      <td>62.9776</td>\n",
       "      <td>62.9765</td>\n",
       "      <td>40.3178</td>\n",
       "      <td>38.9536</td>\n",
       "    </tr>\n",
       "    <tr>\n",
       "      <th>mdb80</th>\n",
       "      <td>4</td>\n",
       "      <td>33.8235</td>\n",
       "      <td>63.3067</td>\n",
       "      <td>62.6642</td>\n",
       "      <td>34.346</td>\n",
       "      <td>33.8248</td>\n",
       "    </tr>\n",
       "    <tr>\n",
       "      <th>mdb54</th>\n",
       "      <td>4</td>\n",
       "      <td>22.212</td>\n",
       "      <td>50.4821</td>\n",
       "      <td>51.1523</td>\n",
       "      <td>22.2415</td>\n",
       "      <td>22.2108</td>\n",
       "    </tr>\n",
       "    <tr>\n",
       "      <th>mdb18</th>\n",
       "      <td>4</td>\n",
       "      <td>50.1152</td>\n",
       "      <td>72.9186</td>\n",
       "      <td>72.9052</td>\n",
       "      <td>46.9687</td>\n",
       "      <td>50.1226</td>\n",
       "    </tr>\n",
       "    <tr>\n",
       "      <th>mdb42</th>\n",
       "      <td>4</td>\n",
       "      <td>37.331</td>\n",
       "      <td>61.9646</td>\n",
       "      <td>62.2437</td>\n",
       "      <td>37.3887</td>\n",
       "      <td>37.3579</td>\n",
       "    </tr>\n",
       "    <tr>\n",
       "      <th>mdb100</th>\n",
       "      <td>5</td>\n",
       "      <td>39.3031</td>\n",
       "      <td>61.7449</td>\n",
       "      <td>61.7058</td>\n",
       "      <td>39.4405</td>\n",
       "      <td>39.3019</td>\n",
       "    </tr>\n",
       "    <tr>\n",
       "      <th>mdb83</th>\n",
       "      <td>5</td>\n",
       "      <td>22.8838</td>\n",
       "      <td>40.3455</td>\n",
       "      <td>40.7366</td>\n",
       "      <td>22.998</td>\n",
       "      <td>22.8897</td>\n",
       "    </tr>\n",
       "    <tr>\n",
       "      <th>mdb70</th>\n",
       "      <td>5</td>\n",
       "      <td>36.2744</td>\n",
       "      <td>64.6803</td>\n",
       "      <td>63.8633</td>\n",
       "      <td>36.341</td>\n",
       "      <td>36.2736</td>\n",
       "    </tr>\n",
       "    <tr>\n",
       "      <th>mdb52</th>\n",
       "      <td>5</td>\n",
       "      <td>36.6676</td>\n",
       "      <td>60.264</td>\n",
       "      <td>60.0892</td>\n",
       "      <td>36.7168</td>\n",
       "      <td>36.6758</td>\n",
       "    </tr>\n",
       "    <tr>\n",
       "      <th>mdb97</th>\n",
       "      <td>5</td>\n",
       "      <td>26.1566</td>\n",
       "      <td>53.2644</td>\n",
       "      <td>51.0015</td>\n",
       "      <td>34.4759</td>\n",
       "      <td>28.1207</td>\n",
       "    </tr>\n",
       "    <tr>\n",
       "      <th>mdb84</th>\n",
       "      <td>6</td>\n",
       "      <td>40.8789</td>\n",
       "      <td>63.6478</td>\n",
       "      <td>63.6124</td>\n",
       "      <td>40.9687</td>\n",
       "      <td>40.8834</td>\n",
       "    </tr>\n",
       "    <tr>\n",
       "      <th>mdb78</th>\n",
       "      <td>6</td>\n",
       "      <td>25.2021</td>\n",
       "      <td>57.1161</td>\n",
       "      <td>54.4663</td>\n",
       "      <td>35.1189</td>\n",
       "      <td>25.2165</td>\n",
       "    </tr>\n",
       "    <tr>\n",
       "      <th>mdb36</th>\n",
       "      <td>6</td>\n",
       "      <td>44.3568</td>\n",
       "      <td>69.9617</td>\n",
       "      <td>66.4766</td>\n",
       "      <td>44.3937</td>\n",
       "      <td>44.361</td>\n",
       "    </tr>\n",
       "    <tr>\n",
       "      <th>mdb96</th>\n",
       "      <td>6</td>\n",
       "      <td>31.091</td>\n",
       "      <td>64.4888</td>\n",
       "      <td>64.7589</td>\n",
       "      <td>31.1874</td>\n",
       "      <td>31.0931</td>\n",
       "    </tr>\n",
       "    <tr>\n",
       "      <th>mdb45</th>\n",
       "      <td>6</td>\n",
       "      <td>17.9072</td>\n",
       "      <td>43.026</td>\n",
       "      <td>38.6441</td>\n",
       "      <td>31.3219</td>\n",
       "      <td>28.309</td>\n",
       "    </tr>\n",
       "  </tbody>\n",
       "</table>\n",
       "</div>"
      ],
      "text/plain": [
       "       n_faults    n_amb   n_door  n_relay    n_mcu   n_temp\n",
       "mdb93         1  36.6568  59.3619  59.3473  36.8216  36.6655\n",
       "mdb55         2  24.3685  51.4481  51.8886  24.3895  24.3678\n",
       "mdb98         2  34.5526  63.5273  63.6502   35.064  34.5737\n",
       "mdb63         2  39.2045  63.9232  63.9167  39.2326  39.2117\n",
       "mdb21         3  52.9573  74.2124  74.1896  52.9847  52.9768\n",
       "mdb75         3  42.3847  61.2941  61.2455  43.2586  42.3898\n",
       "mdb71         4  29.4847  57.1694  57.2446  35.7033  35.6822\n",
       "mdb82         4  32.8851  62.0116  62.2943  40.4242  32.8865\n",
       "mdb61         4  29.2785  56.9255  55.8568  29.2904  29.2776\n",
       "mdb92         4  38.9181  62.9776  62.9765  40.3178  38.9536\n",
       "mdb80         4  33.8235  63.3067  62.6642   34.346  33.8248\n",
       "mdb54         4   22.212  50.4821  51.1523  22.2415  22.2108\n",
       "mdb18         4  50.1152  72.9186  72.9052  46.9687  50.1226\n",
       "mdb42         4   37.331  61.9646  62.2437  37.3887  37.3579\n",
       "mdb100        5  39.3031  61.7449  61.7058  39.4405  39.3019\n",
       "mdb83         5  22.8838  40.3455  40.7366   22.998  22.8897\n",
       "mdb70         5  36.2744  64.6803  63.8633   36.341  36.2736\n",
       "mdb52         5  36.6676   60.264  60.0892  36.7168  36.6758\n",
       "mdb97         5  26.1566  53.2644  51.0015  34.4759  28.1207\n",
       "mdb84         6  40.8789  63.6478  63.6124  40.9687  40.8834\n",
       "mdb78         6  25.2021  57.1161  54.4663  35.1189  25.2165\n",
       "mdb36         6  44.3568  69.9617  66.4766  44.3937   44.361\n",
       "mdb96         6   31.091  64.4888  64.7589  31.1874  31.0931\n",
       "mdb45         6  17.9072   43.026  38.6441  31.3219   28.309"
      ]
     },
     "execution_count": 50,
     "metadata": {},
     "output_type": "execute_result"
    }
   ],
   "source": [
    "df_wna.sort_values(by='n_faults').head(24)"
   ]
  },
  {
   "cell_type": "markdown",
   "metadata": {},
   "source": [
    "# Booths to Begin With"
   ]
  },
  {
   "cell_type": "code",
   "execution_count": 52,
   "metadata": {
    "collapsed": false
   },
   "outputs": [
    {
     "data": {
      "text/plain": [
       "mdb21     52.976802\n",
       "mdb18     50.115151\n",
       "mdb36     44.361037\n",
       "mdb75     42.389783\n",
       "mdb84     40.883415\n",
       "mdb100    39.303135\n",
       "mdb63     39.211722\n",
       "mdb92     38.953586\n",
       "mdb42     37.357853\n",
       "mdb52     36.675789\n",
       "mdb93     36.665550\n",
       "mdb70     36.274389\n",
       "mdb71     35.682157\n",
       "mdb98     34.573745\n",
       "mdb80     33.824844\n",
       "mdb82     32.886506\n",
       "mdb96     31.093052\n",
       "mdb61     29.278467\n",
       "mdb45     28.309037\n",
       "mdb97     28.120718\n",
       "mdb78     25.216525\n",
       "mdb55     24.368484\n",
       "mdb83     22.889671\n",
       "mdb54     22.211982\n",
       "dtype: float64"
      ]
     },
     "execution_count": 52,
     "metadata": {},
     "output_type": "execute_result"
    }
   ],
   "source": [
    "df_wna.sort_values(by='n_faults')[['n_amb', 'n_mcu', 'n_temp'\\\n",
    "                                  ]].median(axis=1).head(24).sort_values(ascending=False)"
   ]
  },
  {
   "cell_type": "markdown",
   "metadata": {},
   "source": [
    "# Check Booth"
   ]
  },
  {
   "cell_type": "code",
   "execution_count": 56,
   "metadata": {
    "collapsed": false
   },
   "outputs": [
    {
     "data": {
      "text/html": [
       "<div>\n",
       "<table border=\"1\" class=\"dataframe\">\n",
       "  <thead>\n",
       "    <tr style=\"text-align: right;\">\n",
       "      <th></th>\n",
       "      <th>Created Date</th>\n",
       "      <th>Close Date</th>\n",
       "    </tr>\n",
       "    <tr>\n",
       "      <th>Request No</th>\n",
       "      <th></th>\n",
       "      <th></th>\n",
       "    </tr>\n",
       "  </thead>\n",
       "  <tbody>\n",
       "    <tr>\n",
       "      <th>287912</th>\n",
       "      <td>2016-04-01 17:15:29.810</td>\n",
       "      <td>2016-04-03 06:49:01.713</td>\n",
       "    </tr>\n",
       "    <tr>\n",
       "      <th>293930</th>\n",
       "      <td>2016-04-14 10:44:56.927</td>\n",
       "      <td>2016-04-15 10:47:05.823</td>\n",
       "    </tr>\n",
       "    <tr>\n",
       "      <th>306824</th>\n",
       "      <td>2016-05-11 17:05:39.237</td>\n",
       "      <td>2016-05-13 13:24:18.670</td>\n",
       "    </tr>\n",
       "    <tr>\n",
       "      <th>321419</th>\n",
       "      <td>2016-06-10 18:06:39.520</td>\n",
       "      <td>2016-06-13 18:21:22.850</td>\n",
       "    </tr>\n",
       "    <tr>\n",
       "      <th>321515</th>\n",
       "      <td>2016-06-11 08:26:39.067</td>\n",
       "      <td>2016-06-12 08:34:15.250</td>\n",
       "    </tr>\n",
       "    <tr>\n",
       "      <th>362596</th>\n",
       "      <td>2016-09-26 07:01:30.993</td>\n",
       "      <td>2016-09-26 14:23:37.590</td>\n",
       "    </tr>\n",
       "  </tbody>\n",
       "</table>\n",
       "</div>"
      ],
      "text/plain": [
       "                      Created Date              Close Date\n",
       "Request No                                                \n",
       "287912     2016-04-01 17:15:29.810 2016-04-03 06:49:01.713\n",
       "293930     2016-04-14 10:44:56.927 2016-04-15 10:47:05.823\n",
       "306824     2016-05-11 17:05:39.237 2016-05-13 13:24:18.670\n",
       "321419     2016-06-10 18:06:39.520 2016-06-13 18:21:22.850\n",
       "321515     2016-06-11 08:26:39.067 2016-06-12 08:34:15.250\n",
       "362596     2016-09-26 07:01:30.993 2016-09-26 14:23:37.590"
      ]
     },
     "execution_count": 56,
     "metadata": {},
     "output_type": "execute_result"
    }
   ],
   "source": [
    "df_bug[df_bug[u'Service Location'] == 99][['Created Date', 'Close Date']]"
   ]
  },
  {
   "cell_type": "code",
   "execution_count": null,
   "metadata": {
    "collapsed": true
   },
   "outputs": [],
   "source": []
  }
 ],
 "metadata": {
  "kernelspec": {
   "display_name": "Python 2",
   "language": "python",
   "name": "python2"
  },
  "language_info": {
   "codemirror_mode": {
    "name": "ipython",
    "version": 2
   },
   "file_extension": ".py",
   "mimetype": "text/x-python",
   "name": "python",
   "nbconvert_exporter": "python",
   "pygments_lexer": "ipython2",
   "version": "2.7.10"
  }
 },
 "nbformat": 4,
 "nbformat_minor": 0
}
