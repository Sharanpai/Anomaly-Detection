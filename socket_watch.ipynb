{
 "cells": [
  {
   "cell_type": "code",
   "execution_count": 1,
   "metadata": {
    "collapsed": false
   },
   "outputs": [
    {
     "data": {
      "text/html": [
       "<script>requirejs.config({paths: { 'plotly': ['https://cdn.plot.ly/plotly-latest.min']},});if(!window.Plotly) {{require(['plotly'],function(plotly) {window.Plotly=plotly;});}}</script>"
      ],
      "text/vnd.plotly.v1+html": [
       "<script>requirejs.config({paths: { 'plotly': ['https://cdn.plot.ly/plotly-latest.min']},});if(!window.Plotly) {{require(['plotly'],function(plotly) {window.Plotly=plotly;});}}</script>"
      ]
     },
     "metadata": {},
     "output_type": "display_data"
    }
   ],
   "source": [
    "# importing most of the libraries \n",
    "import numpy as np\n",
    "import pandas as pd\n",
    "import collections\n",
    "\n",
    "import matplotlib\n",
    "% matplotlib inline\n",
    "\n",
    "from matplotlib import cm\n",
    "import matplotlib.pyplot as plt\n",
    "\n",
    "import plotly.offline as py\n",
    "py.init_notebook_mode(connected=True)\n",
    "import plotly.graph_objs as go\n",
    "import plotly.tools as tls\n",
    "\n",
    "from collections import Counter\n",
    "\n",
    "from sklearn.cluster import KMeans, DBSCAN"
   ]
  },
  {
   "cell_type": "markdown",
   "metadata": {},
   "source": [
    "# Preprocess Data"
   ]
  },
  {
   "cell_type": "code",
   "execution_count": 58,
   "metadata": {
    "collapsed": false
   },
   "outputs": [],
   "source": [
    "power_path = \"../../../data/testing/power.csv\" # \"power.csv\"\n",
    "df_in = pd.read_csv(power_path, index_col=[0], parse_dates=True, names=[\"dt\", \"power\"])\n",
    "\n",
    "pf_path = \"../../../data/testing/power_factor.csv\"\n",
    "df_in[\"pf\"] = pd.read_csv(pf_path, index_col=[0], parse_dates=True, names=[\"dt\", \"pf\"])\n",
    "\n",
    "pf_path = \"../../../data/testing/mcu_temp.csv\"\n",
    "df_in[\"temp\"] = pd.read_csv(pf_path, index_col=[0], parse_dates=True, names=[\"dt\", \"temp\"])"
   ]
  },
  {
   "cell_type": "code",
   "execution_count": 59,
   "metadata": {
    "collapsed": false
   },
   "outputs": [
    {
     "data": {
      "text/html": [
       "<div>\n",
       "<table border=\"1\" class=\"dataframe\">\n",
       "  <thead>\n",
       "    <tr style=\"text-align: right;\">\n",
       "      <th></th>\n",
       "      <th>power</th>\n",
       "      <th>pf</th>\n",
       "      <th>temp</th>\n",
       "      <th>theta</th>\n",
       "      <th>active</th>\n",
       "      <th>reactive</th>\n",
       "    </tr>\n",
       "    <tr>\n",
       "      <th>dt</th>\n",
       "      <th></th>\n",
       "      <th></th>\n",
       "      <th></th>\n",
       "      <th></th>\n",
       "      <th></th>\n",
       "      <th></th>\n",
       "    </tr>\n",
       "  </thead>\n",
       "  <tbody>\n",
       "    <tr>\n",
       "      <th>2016-07-01 18:30:12</th>\n",
       "      <td>207</td>\n",
       "      <td>0.97</td>\n",
       "      <td>NaN</td>\n",
       "      <td>0.245565</td>\n",
       "      <td>200.790006</td>\n",
       "      <td>50.322694</td>\n",
       "    </tr>\n",
       "    <tr>\n",
       "      <th>2016-07-01 18:30:42</th>\n",
       "      <td>209</td>\n",
       "      <td>0.97</td>\n",
       "      <td>NaN</td>\n",
       "      <td>0.245565</td>\n",
       "      <td>202.730006</td>\n",
       "      <td>50.808903</td>\n",
       "    </tr>\n",
       "    <tr>\n",
       "      <th>2016-07-01 18:31:12</th>\n",
       "      <td>2235</td>\n",
       "      <td>0.89</td>\n",
       "      <td>NaN</td>\n",
       "      <td>0.473451</td>\n",
       "      <td>1989.149969</td>\n",
       "      <td>1019.071834</td>\n",
       "    </tr>\n",
       "    <tr>\n",
       "      <th>2016-07-01 18:31:42</th>\n",
       "      <td>2356</td>\n",
       "      <td>0.90</td>\n",
       "      <td>NaN</td>\n",
       "      <td>0.451027</td>\n",
       "      <td>2120.399943</td>\n",
       "      <td>1026.956708</td>\n",
       "    </tr>\n",
       "    <tr>\n",
       "      <th>2016-07-01 18:32:12</th>\n",
       "      <td>2335</td>\n",
       "      <td>0.90</td>\n",
       "      <td>NaN</td>\n",
       "      <td>0.451027</td>\n",
       "      <td>2101.499944</td>\n",
       "      <td>1017.803019</td>\n",
       "    </tr>\n",
       "  </tbody>\n",
       "</table>\n",
       "</div>"
      ],
      "text/plain": [
       "                     power    pf  temp     theta       active     reactive\n",
       "dt                                                                        \n",
       "2016-07-01 18:30:12    207  0.97   NaN  0.245565   200.790006    50.322694\n",
       "2016-07-01 18:30:42    209  0.97   NaN  0.245565   202.730006    50.808903\n",
       "2016-07-01 18:31:12   2235  0.89   NaN  0.473451  1989.149969  1019.071834\n",
       "2016-07-01 18:31:42   2356  0.90   NaN  0.451027  2120.399943  1026.956708\n",
       "2016-07-01 18:32:12   2335  0.90   NaN  0.451027  2101.499944  1017.803019"
      ]
     },
     "execution_count": 59,
     "metadata": {},
     "output_type": "execute_result"
    }
   ],
   "source": [
    "df_in[\"theta\"] = np.arccos(df_in[\"pf\"])\n",
    "df_in[\"active\"] = np.cos(df_in[\"theta\"]) * df_in[\"power\"]\n",
    "df_in[\"reactive\"] = np.sin(df_in[\"theta\"]) * df_in[\"power\"]\n",
    "\n",
    "df_in.head()"
   ]
  },
  {
   "cell_type": "code",
   "execution_count": 60,
   "metadata": {
    "collapsed": true
   },
   "outputs": [],
   "source": [
    "df_rs = df_in.resample('1T').mean().dropna()"
   ]
  },
  {
   "cell_type": "code",
   "execution_count": 61,
   "metadata": {
    "collapsed": false
   },
   "outputs": [
    {
     "data": {
      "image/png": "[encoded data removed]",
      "text/plain": [
       "<matplotlib.figure.Figure at 0x114199990>"
      ]
     },
     "metadata": {},
     "output_type": "display_data"
    }
   ],
   "source": [
    "df_rs.plot(kind='scatter', x='active', y='pf')\n",
    "\n",
    "plt.xlabel('Active Power')\n",
    "plt.ylabel('Power Factor')\n",
    "\n",
    "plt.tight_layout()\n",
    "plt.savefig('../../../figures/raw/clusters.pdf')"
   ]
  },
  {
   "cell_type": "code",
   "execution_count": 79,
   "metadata": {
    "collapsed": false
   },
   "outputs": [
    {
     "data": {
      "image/png": "[encoded data removed]",
      "text/plain": [
       "<matplotlib.figure.Figure at 0x1158904d0>"
      ]
     },
     "metadata": {},
     "output_type": "display_data"
    }
   ],
   "source": [
    "df_plot = df_rs.loc['2016-07-03'].between_time('16:00', '17:00')\n",
    "\n",
    "fig, ax = plt.subplots()\n",
    "\n",
    "df_plot[\"active\"].plot(ax=ax)\n",
    "\n",
    "ax2 = ax.twinx()\n",
    "df_plot[\"temp\"].plot(ax=ax2, color='red')\n",
    "\n",
    "ax.set_xlabel('Datetime')\n",
    "ax.set_ylabel('Power (kWh)')\n",
    "\n",
    "ax2.set_ylabel('Temperature')\n",
    "\n",
    "plt.tight_layout()\n",
    "plt.savefig('../../../figures/raw/b2_sample_plot.pdf')"
   ]
  },
  {
   "cell_type": "markdown",
   "metadata": {},
   "source": [
    "# Cluster States of Appliance"
   ]
  },
  {
   "cell_type": "code",
   "execution_count": 6,
   "metadata": {
    "collapsed": true
   },
   "outputs": [],
   "source": [
    "bindx = int(0.7 * df_rs.shape[0])"
   ]
  },
  {
   "cell_type": "code",
   "execution_count": 7,
   "metadata": {
    "collapsed": false
   },
   "outputs": [],
   "source": [
    "df_train = df_rs.ix[:bindx, [\"pf\", \"active\"]]"
   ]
  },
  {
   "cell_type": "code",
   "execution_count": 82,
   "metadata": {
    "collapsed": false
   },
   "outputs": [
    {
     "data": {
      "image/png": "[encoded data removed]",
      "text/plain": [
       "<matplotlib.figure.Figure at 0x11a0ca750>"
      ]
     },
     "metadata": {},
     "output_type": "display_data"
    }
   ],
   "source": [
    "df_train[\"active\"].plot()\n",
    "\n",
    "plt.xlabel('Datetime')\n",
    "plt.ylabel('Power (kWh)')\n",
    "\n",
    "plt.tight_layout()\n",
    "plt.savefig('../../../figures/raw/b2_power.pdf')"
   ]
  },
  {
   "cell_type": "code",
   "execution_count": 83,
   "metadata": {
    "collapsed": false
   },
   "outputs": [
    {
     "data": {
      "image/png": "[encoded data removed]",
      "text/plain": [
       "<matplotlib.figure.Figure at 0x1179d8bd0>"
      ]
     },
     "metadata": {},
     "output_type": "display_data"
    }
   ],
   "source": [
    "df_train[\"pf\"].plot()\n",
    "\n",
    "plt.xlabel('Datetime')\n",
    "plt.ylabel('Power (kWh)')\n",
    "\n",
    "plt.tight_layout()\n",
    "plt.savefig('../../../figures/raw/b2_pf.pdf')"
   ]
  },
  {
   "cell_type": "code",
   "execution_count": 8,
   "metadata": {
    "collapsed": false
   },
   "outputs": [
    {
     "name": "stdout",
     "output_type": "stream",
     "text": [
      "11512 8058\n"
     ]
    }
   ],
   "source": [
    "print len(df_rs), bindx"
   ]
  },
  {
   "cell_type": "code",
   "execution_count": 9,
   "metadata": {
    "collapsed": false
   },
   "outputs": [
    {
     "data": {
      "text/html": [
       "<div>\n",
       "<table border=\"1\" class=\"dataframe\">\n",
       "  <thead>\n",
       "    <tr style=\"text-align: right;\">\n",
       "      <th></th>\n",
       "      <th>pf</th>\n",
       "      <th>active</th>\n",
       "    </tr>\n",
       "    <tr>\n",
       "      <th>dt</th>\n",
       "      <th></th>\n",
       "      <th></th>\n",
       "    </tr>\n",
       "  </thead>\n",
       "  <tbody>\n",
       "    <tr>\n",
       "      <th>2016-07-01 18:30:00</th>\n",
       "      <td>0.970</td>\n",
       "      <td>201.760006</td>\n",
       "    </tr>\n",
       "    <tr>\n",
       "      <th>2016-07-01 18:31:00</th>\n",
       "      <td>0.895</td>\n",
       "      <td>2054.774956</td>\n",
       "    </tr>\n",
       "    <tr>\n",
       "      <th>2016-07-01 18:32:00</th>\n",
       "      <td>0.900</td>\n",
       "      <td>2094.299944</td>\n",
       "    </tr>\n",
       "    <tr>\n",
       "      <th>2016-07-01 18:33:00</th>\n",
       "      <td>0.935</td>\n",
       "      <td>1141.244975</td>\n",
       "    </tr>\n",
       "    <tr>\n",
       "      <th>2016-07-01 18:34:00</th>\n",
       "      <td>0.970</td>\n",
       "      <td>200.790006</td>\n",
       "    </tr>\n",
       "  </tbody>\n",
       "</table>\n",
       "</div>"
      ],
      "text/plain": [
       "                        pf       active\n",
       "dt                                     \n",
       "2016-07-01 18:30:00  0.970   201.760006\n",
       "2016-07-01 18:31:00  0.895  2054.774956\n",
       "2016-07-01 18:32:00  0.900  2094.299944\n",
       "2016-07-01 18:33:00  0.935  1141.244975\n",
       "2016-07-01 18:34:00  0.970   200.790006"
      ]
     },
     "execution_count": 9,
     "metadata": {},
     "output_type": "execute_result"
    }
   ],
   "source": [
    "df_train.head()"
   ]
  },
  {
   "cell_type": "code",
   "execution_count": 10,
   "metadata": {
    "collapsed": false
   },
   "outputs": [
    {
     "data": {
      "text/plain": [
       "DBSCAN(algorithm='auto', eps=50, leaf_size=30, metric='euclidean',\n",
       "    min_samples=10, n_jobs=1, p=None)"
      ]
     },
     "execution_count": 10,
     "metadata": {},
     "output_type": "execute_result"
    }
   ],
   "source": [
    "db = DBSCAN(eps=50, min_samples=10)\n",
    "db.fit(df_train)"
   ]
  },
  {
   "cell_type": "code",
   "execution_count": 11,
   "metadata": {
    "collapsed": false
   },
   "outputs": [],
   "source": [
    "labels = db.labels_\n",
    "\n",
    "# Number of clusters in labels, ignoring noise if present.\n",
    "n_clusters_ = len(set(labels)) - (1 if -1 in labels else 0)"
   ]
  },
  {
   "cell_type": "code",
   "execution_count": 12,
   "metadata": {
    "collapsed": false
   },
   "outputs": [
    {
     "data": {
      "text/html": [
       "<div>\n",
       "<table border=\"1\" class=\"dataframe\">\n",
       "  <thead>\n",
       "    <tr style=\"text-align: right;\">\n",
       "      <th></th>\n",
       "      <th>pf</th>\n",
       "      <th>active</th>\n",
       "      <th>labels</th>\n",
       "    </tr>\n",
       "    <tr>\n",
       "      <th>dt</th>\n",
       "      <th></th>\n",
       "      <th></th>\n",
       "      <th></th>\n",
       "    </tr>\n",
       "  </thead>\n",
       "  <tbody>\n",
       "    <tr>\n",
       "      <th>2016-07-01 18:30:00</th>\n",
       "      <td>0.970</td>\n",
       "      <td>201.760006</td>\n",
       "      <td>0</td>\n",
       "    </tr>\n",
       "    <tr>\n",
       "      <th>2016-07-01 18:31:00</th>\n",
       "      <td>0.895</td>\n",
       "      <td>2054.774956</td>\n",
       "      <td>1</td>\n",
       "    </tr>\n",
       "    <tr>\n",
       "      <th>2016-07-01 18:32:00</th>\n",
       "      <td>0.900</td>\n",
       "      <td>2094.299944</td>\n",
       "      <td>1</td>\n",
       "    </tr>\n",
       "    <tr>\n",
       "      <th>2016-07-01 18:33:00</th>\n",
       "      <td>0.935</td>\n",
       "      <td>1141.244975</td>\n",
       "      <td>2</td>\n",
       "    </tr>\n",
       "    <tr>\n",
       "      <th>2016-07-01 18:34:00</th>\n",
       "      <td>0.970</td>\n",
       "      <td>200.790006</td>\n",
       "      <td>0</td>\n",
       "    </tr>\n",
       "  </tbody>\n",
       "</table>\n",
       "</div>"
      ],
      "text/plain": [
       "                        pf       active  labels\n",
       "dt                                             \n",
       "2016-07-01 18:30:00  0.970   201.760006       0\n",
       "2016-07-01 18:31:00  0.895  2054.774956       1\n",
       "2016-07-01 18:32:00  0.900  2094.299944       1\n",
       "2016-07-01 18:33:00  0.935  1141.244975       2\n",
       "2016-07-01 18:34:00  0.970   200.790006       0"
      ]
     },
     "execution_count": 12,
     "metadata": {},
     "output_type": "execute_result"
    }
   ],
   "source": [
    "df_train[\"labels\"] = labels\n",
    "df_train.head()"
   ]
  },
  {
   "cell_type": "code",
   "execution_count": 13,
   "metadata": {
    "collapsed": false
   },
   "outputs": [],
   "source": [
    "df_t1 = df_train[df_train[\"labels\"] != -1]"
   ]
  },
  {
   "cell_type": "code",
   "execution_count": 14,
   "metadata": {
    "collapsed": false
   },
   "outputs": [
    {
     "data": {
      "text/plain": [
       "<matplotlib.text.Text at 0x113537f90>"
      ]
     },
     "execution_count": 14,
     "metadata": {},
     "output_type": "execute_result"
    },
    {
     "data": {
      "image/png": "[encoded data removed]",
      "text/plain": [
       "<matplotlib.figure.Figure at 0x113b54c10>"
      ]
     },
     "metadata": {},
     "output_type": "display_data"
    }
   ],
   "source": [
    "df_t1.plot(kind='scatter', x='active', y='pf', c='labels', colormap='flag', s=80)\n",
    "\n",
    "plt.xlabel('Active Power')\n",
    "plt.ylabel('Power Factor')"
   ]
  },
  {
   "cell_type": "code",
   "execution_count": 15,
   "metadata": {
    "collapsed": false
   },
   "outputs": [
    {
     "data": {
      "text/html": [
       "<div>\n",
       "<table border=\"1\" class=\"dataframe\">\n",
       "  <thead>\n",
       "    <tr style=\"text-align: right;\">\n",
       "      <th></th>\n",
       "      <th>pf</th>\n",
       "      <th>active</th>\n",
       "      <th>labels</th>\n",
       "    </tr>\n",
       "    <tr>\n",
       "      <th>dt</th>\n",
       "      <th></th>\n",
       "      <th></th>\n",
       "      <th></th>\n",
       "    </tr>\n",
       "  </thead>\n",
       "  <tbody>\n",
       "    <tr>\n",
       "      <th>2016-07-01 18:30:00</th>\n",
       "      <td>0.970</td>\n",
       "      <td>201.760006</td>\n",
       "      <td>0</td>\n",
       "    </tr>\n",
       "    <tr>\n",
       "      <th>2016-07-01 18:31:00</th>\n",
       "      <td>0.895</td>\n",
       "      <td>2054.774956</td>\n",
       "      <td>1</td>\n",
       "    </tr>\n",
       "    <tr>\n",
       "      <th>2016-07-01 18:32:00</th>\n",
       "      <td>0.900</td>\n",
       "      <td>2094.299944</td>\n",
       "      <td>1</td>\n",
       "    </tr>\n",
       "    <tr>\n",
       "      <th>2016-07-01 18:33:00</th>\n",
       "      <td>0.935</td>\n",
       "      <td>1141.244975</td>\n",
       "      <td>2</td>\n",
       "    </tr>\n",
       "    <tr>\n",
       "      <th>2016-07-01 18:34:00</th>\n",
       "      <td>0.970</td>\n",
       "      <td>200.790006</td>\n",
       "      <td>0</td>\n",
       "    </tr>\n",
       "  </tbody>\n",
       "</table>\n",
       "</div>"
      ],
      "text/plain": [
       "                        pf       active  labels\n",
       "dt                                             \n",
       "2016-07-01 18:30:00  0.970   201.760006       0\n",
       "2016-07-01 18:31:00  0.895  2054.774956       1\n",
       "2016-07-01 18:32:00  0.900  2094.299944       1\n",
       "2016-07-01 18:33:00  0.935  1141.244975       2\n",
       "2016-07-01 18:34:00  0.970   200.790006       0"
      ]
     },
     "execution_count": 15,
     "metadata": {},
     "output_type": "execute_result"
    }
   ],
   "source": [
    "df_train.head()"
   ]
  },
  {
   "cell_type": "code",
   "execution_count": 16,
   "metadata": {
    "collapsed": false
   },
   "outputs": [
    {
     "data": {
      "text/html": [
       "<div>\n",
       "<table border=\"1\" class=\"dataframe\">\n",
       "  <thead>\n",
       "    <tr style=\"text-align: right;\">\n",
       "      <th></th>\n",
       "      <th>pf</th>\n",
       "      <th>active</th>\n",
       "    </tr>\n",
       "    <tr>\n",
       "      <th>labels</th>\n",
       "      <th></th>\n",
       "      <th></th>\n",
       "    </tr>\n",
       "  </thead>\n",
       "  <tbody>\n",
       "    <tr>\n",
       "      <th>-1</th>\n",
       "      <td>0.924571</td>\n",
       "      <td>1089.954428</td>\n",
       "    </tr>\n",
       "    <tr>\n",
       "      <th>0</th>\n",
       "      <td>0.968630</td>\n",
       "      <td>201.848182</td>\n",
       "    </tr>\n",
       "    <tr>\n",
       "      <th>1</th>\n",
       "      <td>0.905193</td>\n",
       "      <td>2163.297855</td>\n",
       "    </tr>\n",
       "    <tr>\n",
       "      <th>2</th>\n",
       "      <td>0.934581</td>\n",
       "      <td>1169.429482</td>\n",
       "    </tr>\n",
       "  </tbody>\n",
       "</table>\n",
       "</div>"
      ],
      "text/plain": [
       "              pf       active\n",
       "labels                       \n",
       "-1      0.924571  1089.954428\n",
       " 0      0.968630   201.848182\n",
       " 1      0.905193  2163.297855\n",
       " 2      0.934581  1169.429482"
      ]
     },
     "execution_count": 16,
     "metadata": {},
     "output_type": "execute_result"
    }
   ],
   "source": [
    "df_train.groupby(\"labels\").mean()"
   ]
  },
  {
   "cell_type": "markdown",
   "metadata": {},
   "source": [
    "# Learn Substates"
   ]
  },
  {
   "cell_type": "code",
   "execution_count": 17,
   "metadata": {
    "collapsed": false
   },
   "outputs": [
    {
     "data": {
      "text/plain": [
       "dt\n",
       "2016-07-01 18:30:00    0\n",
       "2016-07-01 18:31:00    1\n",
       "2016-07-01 18:32:00    1\n",
       "2016-07-01 18:33:00    2\n",
       "2016-07-01 18:34:00    0\n",
       "Name: labels, dtype: int64"
      ]
     },
     "execution_count": 17,
     "metadata": {},
     "output_type": "execute_result"
    }
   ],
   "source": [
    "df_train[\"labels\"].head()"
   ]
  },
  {
   "cell_type": "code",
   "execution_count": 18,
   "metadata": {
    "collapsed": true
   },
   "outputs": [],
   "source": [
    "# Step 2, creating sub states based on the time intervals\n",
    "def addtime(df_labels):\n",
    "    num = 0\n",
    "    count = 0\n",
    "    prev_label = -2\n",
    "\n",
    "    df_out = pd.DataFrame()\n",
    "    for i in range(df_labels.shape[0]):\n",
    "        if i == 0:\n",
    "            num += 1\n",
    "        elif df_labels.ix[i] == df_labels.ix[i-1]:\n",
    "            num+= 1\n",
    "        else:\n",
    "            df_out.loc[count, \"label\"] = df_labels.ix[i-1]\n",
    "            df_out.loc[count, \"count\"] = num\n",
    "            num = 1\n",
    "            count += 1\n",
    "            \n",
    "    return df_out"
   ]
  },
  {
   "cell_type": "code",
   "execution_count": 19,
   "metadata": {
    "collapsed": false
   },
   "outputs": [],
   "source": [
    "sub_states = addtime(df_train[\"labels\"])"
   ]
  },
  {
   "cell_type": "code",
   "execution_count": 20,
   "metadata": {
    "collapsed": false
   },
   "outputs": [
    {
     "data": {
      "text/html": [
       "<div>\n",
       "<table border=\"1\" class=\"dataframe\">\n",
       "  <thead>\n",
       "    <tr style=\"text-align: right;\">\n",
       "      <th></th>\n",
       "      <th>label</th>\n",
       "      <th>count</th>\n",
       "    </tr>\n",
       "  </thead>\n",
       "  <tbody>\n",
       "    <tr>\n",
       "      <th>0</th>\n",
       "      <td>0.0</td>\n",
       "      <td>1.0</td>\n",
       "    </tr>\n",
       "    <tr>\n",
       "      <th>1</th>\n",
       "      <td>1.0</td>\n",
       "      <td>2.0</td>\n",
       "    </tr>\n",
       "    <tr>\n",
       "      <th>2</th>\n",
       "      <td>2.0</td>\n",
       "      <td>1.0</td>\n",
       "    </tr>\n",
       "    <tr>\n",
       "      <th>3</th>\n",
       "      <td>0.0</td>\n",
       "      <td>2.0</td>\n",
       "    </tr>\n",
       "    <tr>\n",
       "      <th>4</th>\n",
       "      <td>2.0</td>\n",
       "      <td>1.0</td>\n",
       "    </tr>\n",
       "  </tbody>\n",
       "</table>\n",
       "</div>"
      ],
      "text/plain": [
       "   label  count\n",
       "0    0.0    1.0\n",
       "1    1.0    2.0\n",
       "2    2.0    1.0\n",
       "3    0.0    2.0\n",
       "4    2.0    1.0"
      ]
     },
     "execution_count": 20,
     "metadata": {},
     "output_type": "execute_result"
    }
   ],
   "source": [
    "sub_states.head()"
   ]
  },
  {
   "cell_type": "code",
   "execution_count": 21,
   "metadata": {
    "collapsed": false
   },
   "outputs": [
    {
     "data": {
      "text/plain": [
       "<matplotlib.axes._subplots.AxesSubplot at 0x113b54f50>"
      ]
     },
     "execution_count": 21,
     "metadata": {},
     "output_type": "execute_result"
    },
    {
     "data": {
      "image/png": "[encoded data removed]",
      "text/plain": [
       "<matplotlib.figure.Figure at 0x113433a50>"
      ]
     },
     "metadata": {},
     "output_type": "display_data"
    }
   ],
   "source": [
    "# Standby State\n",
    "sub_states[sub_states[\"label\"] == 0][\"count\"].hist()"
   ]
  },
  {
   "cell_type": "code",
   "execution_count": 22,
   "metadata": {
    "collapsed": false
   },
   "outputs": [
    {
     "data": {
      "text/plain": [
       "<matplotlib.axes._subplots.AxesSubplot at 0x113eb0ed0>"
      ]
     },
     "execution_count": 22,
     "metadata": {},
     "output_type": "execute_result"
    },
    {
     "data": {
      "image/png": "[encoded data removed]",
      "text/plain": [
       "<matplotlib.figure.Figure at 0x113ea2550>"
      ]
     },
     "metadata": {},
     "output_type": "display_data"
    }
   ],
   "source": [
    "# Compressor Off State\n",
    "sub_states[sub_states[\"label\"] == 1][\"count\"].hist()"
   ]
  },
  {
   "cell_type": "code",
   "execution_count": 23,
   "metadata": {
    "collapsed": false
   },
   "outputs": [
    {
     "data": {
      "text/plain": [
       "<matplotlib.axes._subplots.AxesSubplot at 0x11402a110>"
      ]
     },
     "execution_count": 23,
     "metadata": {},
     "output_type": "execute_result"
    },
    {
     "data": {
      "image/png": "[encoded data removed]",
      "text/plain": [
       "<matplotlib.figure.Figure at 0x113f82590>"
      ]
     },
     "metadata": {},
     "output_type": "display_data"
    }
   ],
   "source": [
    "# Compressor On State\n",
    "sub_states[sub_states[\"label\"] == 2][\"count\"].hist()"
   ]
  },
  {
   "cell_type": "markdown",
   "metadata": {},
   "source": [
    "# Learn Periodicity"
   ]
  },
  {
   "cell_type": "code",
   "execution_count": 24,
   "metadata": {
    "collapsed": false
   },
   "outputs": [],
   "source": [
    "df_labels = df_train[\"labels\"].reset_index(drop=True)"
   ]
  },
  {
   "cell_type": "code",
   "execution_count": 25,
   "metadata": {
    "collapsed": false
   },
   "outputs": [],
   "source": [
    "periodicity = dict()"
   ]
  },
  {
   "cell_type": "code",
   "execution_count": 26,
   "metadata": {
    "collapsed": false
   },
   "outputs": [],
   "source": [
    "labels = np.delete(df_train[\"labels\"].unique(), -1)\n",
    "df_s3 = pd.DataFrame(index=labels, columns=[\"mean\", \"std\", \"min\", \"max\"])\n",
    "for label in labels:\n",
    "    periodicity[label] = np.ediff1d(df_labels[df_labels==label].index.values) - 1\n",
    "    df_s3.loc[label, \"mean\"] = np.mean(periodicity[label])\n",
    "    df_s3.loc[label, \"std\"] = np.std(periodicity[label])\n",
    "    df_s3.loc[label, \"min\"] = min(periodicity[label])\n",
    "    df_s3.loc[label, \"max\"] = max(periodicity[label])"
   ]
  },
  {
   "cell_type": "code",
   "execution_count": 27,
   "metadata": {
    "collapsed": false
   },
   "outputs": [
    {
     "data": {
      "text/plain": [
       "{0: array([3, 0, 3, ..., 0, 3, 0]),\n",
       " 1: array([0, 4, 4, ..., 3, 0, 0]),\n",
       " 2: array([2, 1, 2, ..., 2, 2, 2])}"
      ]
     },
     "execution_count": 27,
     "metadata": {},
     "output_type": "execute_result"
    }
   ],
   "source": [
    "periodicity"
   ]
  },
  {
   "cell_type": "code",
   "execution_count": 28,
   "metadata": {
    "collapsed": false
   },
   "outputs": [
    {
     "data": {
      "text/html": [
       "<div>\n",
       "<table border=\"1\" class=\"dataframe\">\n",
       "  <thead>\n",
       "    <tr style=\"text-align: right;\">\n",
       "      <th></th>\n",
       "      <th>mean</th>\n",
       "      <th>std</th>\n",
       "      <th>min</th>\n",
       "      <th>max</th>\n",
       "    </tr>\n",
       "  </thead>\n",
       "  <tbody>\n",
       "    <tr>\n",
       "      <th>0</th>\n",
       "      <td>1.55049</td>\n",
       "      <td>3.12399</td>\n",
       "      <td>0</td>\n",
       "      <td>56</td>\n",
       "    </tr>\n",
       "    <tr>\n",
       "      <th>1</th>\n",
       "      <td>1.22486</td>\n",
       "      <td>1.70593</td>\n",
       "      <td>0</td>\n",
       "      <td>7</td>\n",
       "    </tr>\n",
       "    <tr>\n",
       "      <th>2</th>\n",
       "      <td>5.47703</td>\n",
       "      <td>8.87588</td>\n",
       "      <td>1</td>\n",
       "      <td>105</td>\n",
       "    </tr>\n",
       "  </tbody>\n",
       "</table>\n",
       "</div>"
      ],
      "text/plain": [
       "      mean      std min  max\n",
       "0  1.55049  3.12399   0   56\n",
       "1  1.22486  1.70593   0    7\n",
       "2  5.47703  8.87588   1  105"
      ]
     },
     "execution_count": 28,
     "metadata": {},
     "output_type": "execute_result"
    }
   ],
   "source": [
    "df_s3"
   ]
  },
  {
   "cell_type": "markdown",
   "metadata": {
    "collapsed": true
   },
   "source": [
    "# Learn Transition Matrix"
   ]
  },
  {
   "cell_type": "code",
   "execution_count": 29,
   "metadata": {
    "collapsed": false
   },
   "outputs": [
    {
     "name": "stdout",
     "output_type": "stream",
     "text": [
      "3\n"
     ]
    }
   ],
   "source": [
    "n_labels_ = len(labels)\n",
    "print n_labels_"
   ]
  },
  {
   "cell_type": "code",
   "execution_count": 30,
   "metadata": {
    "collapsed": false
   },
   "outputs": [
    {
     "data": {
      "text/plain": [
       "array([[ 0.,  0.,  0.],\n",
       "       [ 0.,  0.,  0.],\n",
       "       [ 0.,  0.,  0.]])"
      ]
     },
     "execution_count": 30,
     "metadata": {},
     "output_type": "execute_result"
    }
   ],
   "source": [
    "tm = np.zeros((n_labels_, n_labels_), dtype=float)\n",
    "tm"
   ]
  },
  {
   "cell_type": "code",
   "execution_count": 31,
   "metadata": {
    "collapsed": false
   },
   "outputs": [
    {
     "data": {
      "text/plain": [
       "Counter({(0, 0): 1901,\n",
       "         (0, 1): 630,\n",
       "         (0, 2): 628,\n",
       "         (1, 0): 644,\n",
       "         (1, 1): 2363,\n",
       "         (1, 2): 614,\n",
       "         (2, 0): 614,\n",
       "         (2, 1): 628})"
      ]
     },
     "execution_count": 31,
     "metadata": {},
     "output_type": "execute_result"
    }
   ],
   "source": [
    "l_vals = df_train[df_train[\"labels\"] != -1][\"labels\"].values\n",
    "\n",
    "trans_count = Counter(zip(l_vals, l_vals[1:]))\n",
    "trans_count"
   ]
  },
  {
   "cell_type": "code",
   "execution_count": 32,
   "metadata": {
    "collapsed": false
   },
   "outputs": [
    {
     "data": {
      "text/plain": [
       "array([[1901,  630,  628],\n",
       "       [ 644, 2363,  614],\n",
       "       [ 614,  628,    0]])"
      ]
     },
     "execution_count": 32,
     "metadata": {},
     "output_type": "execute_result"
    }
   ],
   "source": [
    "for (x,y), c in trans_count.iteritems():\n",
    "    tm[x,y] = c  \n",
    "\n",
    "tm.astype(int)"
   ]
  },
  {
   "cell_type": "code",
   "execution_count": 33,
   "metadata": {
    "collapsed": false
   },
   "outputs": [],
   "source": [
    "for i in range(n_labels_):\n",
    "    tm[i,:] = tm[i,:] / np.sum(tm[i, :])"
   ]
  },
  {
   "cell_type": "code",
   "execution_count": 34,
   "metadata": {
    "collapsed": false
   },
   "outputs": [
    {
     "data": {
      "text/plain": [
       "array([[ 0.60177271,  0.1994302 ,  0.19879709],\n",
       "       [ 0.17785142,  0.65258216,  0.16956642],\n",
       "       [ 0.49436393,  0.50563607,  0.        ]])"
      ]
     },
     "execution_count": 34,
     "metadata": {},
     "output_type": "execute_result"
    }
   ],
   "source": [
    "tm"
   ]
  },
  {
   "cell_type": "markdown",
   "metadata": {
    "collapsed": true
   },
   "source": [
    "# Testing"
   ]
  },
  {
   "cell_type": "code",
   "execution_count": 36,
   "metadata": {
    "collapsed": false
   },
   "outputs": [
    {
     "data": {
      "text/html": [
       "<div>\n",
       "<table border=\"1\" class=\"dataframe\">\n",
       "  <thead>\n",
       "    <tr style=\"text-align: right;\">\n",
       "      <th></th>\n",
       "      <th>pf</th>\n",
       "      <th>active</th>\n",
       "    </tr>\n",
       "    <tr>\n",
       "      <th>dt</th>\n",
       "      <th></th>\n",
       "      <th></th>\n",
       "    </tr>\n",
       "  </thead>\n",
       "  <tbody>\n",
       "    <tr>\n",
       "      <th>2016-07-07 08:56:00</th>\n",
       "      <td>0.97</td>\n",
       "      <td>184.300006</td>\n",
       "    </tr>\n",
       "    <tr>\n",
       "      <th>2016-07-07 08:57:00</th>\n",
       "      <td>0.94</td>\n",
       "      <td>2210.879995</td>\n",
       "    </tr>\n",
       "    <tr>\n",
       "      <th>2016-07-07 08:58:00</th>\n",
       "      <td>0.94</td>\n",
       "      <td>2242.839995</td>\n",
       "    </tr>\n",
       "    <tr>\n",
       "      <th>2016-07-07 08:59:00</th>\n",
       "      <td>0.94</td>\n",
       "      <td>2226.859995</td>\n",
       "    </tr>\n",
       "    <tr>\n",
       "      <th>2016-07-07 09:00:00</th>\n",
       "      <td>0.97</td>\n",
       "      <td>184.785006</td>\n",
       "    </tr>\n",
       "  </tbody>\n",
       "</table>\n",
       "</div>"
      ],
      "text/plain": [
       "                       pf       active\n",
       "dt                                    \n",
       "2016-07-07 08:56:00  0.97   184.300006\n",
       "2016-07-07 08:57:00  0.94  2210.879995\n",
       "2016-07-07 08:58:00  0.94  2242.839995\n",
       "2016-07-07 08:59:00  0.94  2226.859995\n",
       "2016-07-07 09:00:00  0.97   184.785006"
      ]
     },
     "execution_count": 36,
     "metadata": {},
     "output_type": "execute_result"
    }
   ],
   "source": [
    "df_test = df_rs.ix[bindx:, [\"pf\", \"active\"]]\n",
    "df_test.head()"
   ]
  },
  {
   "cell_type": "code",
   "execution_count": 38,
   "metadata": {
    "collapsed": true
   },
   "outputs": [],
   "source": [
    "df_out = df_test.copy()"
   ]
  },
  {
   "cell_type": "code",
   "execution_count": 40,
   "metadata": {
    "collapsed": false
   },
   "outputs": [
    {
     "data": {
      "text/html": [
       "<div>\n",
       "<table border=\"1\" class=\"dataframe\">\n",
       "  <thead>\n",
       "    <tr style=\"text-align: right;\">\n",
       "      <th></th>\n",
       "      <th>pf</th>\n",
       "      <th>active</th>\n",
       "      <th>labels</th>\n",
       "    </tr>\n",
       "    <tr>\n",
       "      <th>dt</th>\n",
       "      <th></th>\n",
       "      <th></th>\n",
       "      <th></th>\n",
       "    </tr>\n",
       "  </thead>\n",
       "  <tbody>\n",
       "    <tr>\n",
       "      <th>2016-07-07 08:56:00</th>\n",
       "      <td>0.97</td>\n",
       "      <td>184.300006</td>\n",
       "      <td>0</td>\n",
       "    </tr>\n",
       "    <tr>\n",
       "      <th>2016-07-07 08:57:00</th>\n",
       "      <td>0.94</td>\n",
       "      <td>2210.879995</td>\n",
       "      <td>1</td>\n",
       "    </tr>\n",
       "    <tr>\n",
       "      <th>2016-07-07 08:58:00</th>\n",
       "      <td>0.94</td>\n",
       "      <td>2242.839995</td>\n",
       "      <td>1</td>\n",
       "    </tr>\n",
       "    <tr>\n",
       "      <th>2016-07-07 08:59:00</th>\n",
       "      <td>0.94</td>\n",
       "      <td>2226.859995</td>\n",
       "      <td>1</td>\n",
       "    </tr>\n",
       "    <tr>\n",
       "      <th>2016-07-07 09:00:00</th>\n",
       "      <td>0.97</td>\n",
       "      <td>184.785006</td>\n",
       "      <td>0</td>\n",
       "    </tr>\n",
       "  </tbody>\n",
       "</table>\n",
       "</div>"
      ],
      "text/plain": [
       "                       pf       active  labels\n",
       "dt                                            \n",
       "2016-07-07 08:56:00  0.97   184.300006       0\n",
       "2016-07-07 08:57:00  0.94  2210.879995       1\n",
       "2016-07-07 08:58:00  0.94  2242.839995       1\n",
       "2016-07-07 08:59:00  0.94  2226.859995       1\n",
       "2016-07-07 09:00:00  0.97   184.785006       0"
      ]
     },
     "execution_count": 40,
     "metadata": {},
     "output_type": "execute_result"
    }
   ],
   "source": [
    "df_out[\"labels\"] = db.fit_predict(df_test)\n",
    "df_out.head()"
   ]
  },
  {
   "cell_type": "code",
   "execution_count": 41,
   "metadata": {
    "collapsed": false
   },
   "outputs": [
    {
     "data": {
      "text/html": [
       "<div>\n",
       "<table border=\"1\" class=\"dataframe\">\n",
       "  <thead>\n",
       "    <tr style=\"text-align: right;\">\n",
       "      <th></th>\n",
       "      <th>pf</th>\n",
       "      <th>active</th>\n",
       "      <th>labels</th>\n",
       "    </tr>\n",
       "    <tr>\n",
       "      <th>dt</th>\n",
       "      <th></th>\n",
       "      <th></th>\n",
       "      <th></th>\n",
       "    </tr>\n",
       "  </thead>\n",
       "  <tbody>\n",
       "    <tr>\n",
       "      <th>2016-07-07 09:17:00</th>\n",
       "      <td>0.945</td>\n",
       "      <td>1395.549994</td>\n",
       "      <td>-1</td>\n",
       "    </tr>\n",
       "    <tr>\n",
       "      <th>2016-07-07 11:16:00</th>\n",
       "      <td>0.930</td>\n",
       "      <td>658.709983</td>\n",
       "      <td>-1</td>\n",
       "    </tr>\n",
       "    <tr>\n",
       "      <th>2016-07-07 14:31:00</th>\n",
       "      <td>0.925</td>\n",
       "      <td>1508.445016</td>\n",
       "      <td>-1</td>\n",
       "    </tr>\n",
       "    <tr>\n",
       "      <th>2016-07-07 15:11:00</th>\n",
       "      <td>0.955</td>\n",
       "      <td>364.415002</td>\n",
       "      <td>-1</td>\n",
       "    </tr>\n",
       "    <tr>\n",
       "      <th>2016-07-07 18:56:00</th>\n",
       "      <td>0.910</td>\n",
       "      <td>1683.820004</td>\n",
       "      <td>-1</td>\n",
       "    </tr>\n",
       "    <tr>\n",
       "      <th>2016-07-08 07:30:00</th>\n",
       "      <td>0.875</td>\n",
       "      <td>1494.775003</td>\n",
       "      <td>-1</td>\n",
       "    </tr>\n",
       "    <tr>\n",
       "      <th>2016-07-08 08:05:00</th>\n",
       "      <td>0.935</td>\n",
       "      <td>636.799989</td>\n",
       "      <td>-1</td>\n",
       "    </tr>\n",
       "    <tr>\n",
       "      <th>2016-07-08 14:37:00</th>\n",
       "      <td>0.900</td>\n",
       "      <td>1651.860022</td>\n",
       "      <td>-1</td>\n",
       "    </tr>\n",
       "    <tr>\n",
       "      <th>2016-07-08 15:24:00</th>\n",
       "      <td>0.945</td>\n",
       "      <td>610.510012</td>\n",
       "      <td>-1</td>\n",
       "    </tr>\n",
       "    <tr>\n",
       "      <th>2016-07-08 15:38:00</th>\n",
       "      <td>0.950</td>\n",
       "      <td>343.085005</td>\n",
       "      <td>-1</td>\n",
       "    </tr>\n",
       "    <tr>\n",
       "      <th>2016-07-08 18:26:00</th>\n",
       "      <td>0.905</td>\n",
       "      <td>1413.774982</td>\n",
       "      <td>-1</td>\n",
       "    </tr>\n",
       "    <tr>\n",
       "      <th>2016-07-08 20:00:00</th>\n",
       "      <td>0.925</td>\n",
       "      <td>598.929990</td>\n",
       "      <td>-1</td>\n",
       "    </tr>\n",
       "    <tr>\n",
       "      <th>2016-07-08 20:17:00</th>\n",
       "      <td>0.915</td>\n",
       "      <td>867.885002</td>\n",
       "      <td>-1</td>\n",
       "    </tr>\n",
       "    <tr>\n",
       "      <th>2016-07-09 08:45:00</th>\n",
       "      <td>0.930</td>\n",
       "      <td>939.584990</td>\n",
       "      <td>-1</td>\n",
       "    </tr>\n",
       "    <tr>\n",
       "      <th>2016-07-09 11:44:00</th>\n",
       "      <td>0.950</td>\n",
       "      <td>358.145005</td>\n",
       "      <td>-1</td>\n",
       "    </tr>\n",
       "    <tr>\n",
       "      <th>2016-07-09 16:54:00</th>\n",
       "      <td>0.930</td>\n",
       "      <td>805.519992</td>\n",
       "      <td>-1</td>\n",
       "    </tr>\n",
       "    <tr>\n",
       "      <th>2016-07-09 17:15:00</th>\n",
       "      <td>0.930</td>\n",
       "      <td>872.149991</td>\n",
       "      <td>-1</td>\n",
       "    </tr>\n",
       "  </tbody>\n",
       "</table>\n",
       "</div>"
      ],
      "text/plain": [
       "                        pf       active  labels\n",
       "dt                                             \n",
       "2016-07-07 09:17:00  0.945  1395.549994      -1\n",
       "2016-07-07 11:16:00  0.930   658.709983      -1\n",
       "2016-07-07 14:31:00  0.925  1508.445016      -1\n",
       "2016-07-07 15:11:00  0.955   364.415002      -1\n",
       "2016-07-07 18:56:00  0.910  1683.820004      -1\n",
       "2016-07-08 07:30:00  0.875  1494.775003      -1\n",
       "2016-07-08 08:05:00  0.935   636.799989      -1\n",
       "2016-07-08 14:37:00  0.900  1651.860022      -1\n",
       "2016-07-08 15:24:00  0.945   610.510012      -1\n",
       "2016-07-08 15:38:00  0.950   343.085005      -1\n",
       "2016-07-08 18:26:00  0.905  1413.774982      -1\n",
       "2016-07-08 20:00:00  0.925   598.929990      -1\n",
       "2016-07-08 20:17:00  0.915   867.885002      -1\n",
       "2016-07-09 08:45:00  0.930   939.584990      -1\n",
       "2016-07-09 11:44:00  0.950   358.145005      -1\n",
       "2016-07-09 16:54:00  0.930   805.519992      -1\n",
       "2016-07-09 17:15:00  0.930   872.149991      -1"
      ]
     },
     "execution_count": 41,
     "metadata": {},
     "output_type": "execute_result"
    }
   ],
   "source": [
    "df_out[df_out[\"labels\"] == -1]"
   ]
  },
  {
   "cell_type": "code",
   "execution_count": null,
   "metadata": {
    "collapsed": false
   },
   "outputs": [],
   "source": [
    "from sklearn.cluster import KMeans, DBSCAN\n",
    "# If DBSCAN returns -1 then it is not part of any cluster and it is an anomaly \n",
    "def checkstep1(data):\n",
    "    anomaly_array = []\n",
    "    step1_output = []\n",
    "    test_labels_kmeans = kmeans.predict(data)\n",
    "    db.fit(test)\n",
    "    test_labels_dbscan = db.labels_\n",
    "    for i in range(len(test_labels_kmeans)):\n",
    "        \n",
    "        if test_labels_dbscan[i] == -1:\n",
    "            anomaly_array.append(-1)\n",
    "            step1_output.append(\"Malfunction\")\n",
    "        else:\n",
    "            anomaly_array.append(test_labels_kmeans[i])\n",
    "            step1_output.append(\"Step 1 Cleared\")\n",
    "            \n",
    "    return anomaly_array, step1_output"
   ]
  },
  {
   "cell_type": "code",
   "execution_count": null,
   "metadata": {
    "collapsed": false
   },
   "outputs": [],
   "source": [
    "anomaly, s1_output = checkstep1(test)"
   ]
  },
  {
   "cell_type": "code",
   "execution_count": null,
   "metadata": {
    "collapsed": true
   },
   "outputs": [],
   "source": [
    "def checkstep2(enter_input):\n",
    "    checkstep2_output = []\n",
    "    test_labels_kmeans = kmeans.predict(enter_input)\n",
    "    test_labels_kmeans = list(test_labels_kmeans)\n",
    "    new_sub_states = addtime(test_labels_kmeans)\n",
    "    #print(test_labels_kmeans)\n",
    "    for i in range(len(test_labels_kmeans)):\n",
    "        if test_labels_kmeans[i] == 1:\n",
    "            \n",
    "            if new_sub_states[i] in best_ones:\n",
    "                checkstep2_output.append(\"Step2 Cleared\")\n",
    "                #print(test_labels_kmeans[i])\n",
    "                #print(new_sub_states[i])\n",
    "            else:\n",
    "                checkstep2_output.append(\"Step2_malfunction\")\n",
    "        else:\n",
    "            if new_sub_states[i] in best_zero:\n",
    "                checkstep2_output.append(\"Step2 Cleared\")\n",
    "            else:\n",
    "                checkstep2_output.append(\"Step2_malfunction\")\n",
    "        \n",
    "    return checkstep2_output"
   ]
  },
  {
   "cell_type": "code",
   "execution_count": null,
   "metadata": {
    "collapsed": false
   },
   "outputs": [],
   "source": [
    "step2 = checkstep2(test)"
   ]
  },
  {
   "cell_type": "code",
   "execution_count": null,
   "metadata": {
    "collapsed": false
   },
   "outputs": [],
   "source": [
    "def checkstep3(enter_input, tolerance):\n",
    "    test_labels_kmeans = kmeans.predict(enter_input)\n",
    "    test_labels_kmeans = list(test_labels_kmeans)\n",
    "    new_sub_states = addtime(test_labels_kmeans)\n",
    "    info_list = []\n",
    "    info_list.append(np.mean(enter_input))\n",
    "    info_list.append(max(enter_input))\n",
    "    info_list.append(min(enter_input))\n",
    "    info_list.append(np.std(enter_input))\n",
    "    \n",
    "    if np.std(info_list) > np.std(step3)*(1 + tolerance) :\n",
    "        return \"Step 3 problem, Greater\"\n",
    "    elif np.std(info_list) < np.std(step3)* (1 - tolerance):\n",
    "        return \"Step 3 problem, Lower\"\n",
    "    else:\n",
    "        return \"No Problem\""
   ]
  },
  {
   "cell_type": "code",
   "execution_count": null,
   "metadata": {
    "collapsed": false
   },
   "outputs": [],
   "source": [
    "# as we want 2 sigma tolerance\n",
    "checkstep3(test, 0.66)"
   ]
  },
  {
   "cell_type": "code",
   "execution_count": null,
   "metadata": {
    "collapsed": true
   },
   "outputs": [],
   "source": [
    "def checkstep4(enter_input, tolerance):\n",
    "    \n",
    "    test_labels_kmeans = kmeans.predict(enter_input)\n",
    "    test_labels_kmeans = list(test_labels_kmeans)\n",
    "    Bmat =  checkfreq(test_labels_kmeans)\n",
    "    print(np.std(Bmat))\n",
    "    print(np.std(Amat))\n",
    "    \n",
    "    if np.std(Bmat) > np.std(Amat)*(1 + tolerance) :\n",
    "        return \"Step 4 problem, Greater\"\n",
    "    elif np.std(Bmat) < np.std(Amat)* (1 - tolerance):\n",
    "        return \"Step 4 problem, Lower\"\n",
    "    else:\n",
    "        return \"No Problem\""
   ]
  },
  {
   "cell_type": "code",
   "execution_count": null,
   "metadata": {
    "collapsed": false
   },
   "outputs": [],
   "source": [
    "checkstep4(test,0.5)"
   ]
  },
  {
   "cell_type": "code",
   "execution_count": null,
   "metadata": {
    "collapsed": true
   },
   "outputs": [],
   "source": [
    "full_output = pd.DataFrame(data = [s1_output, step2])"
   ]
  },
  {
   "cell_type": "code",
   "execution_count": null,
   "metadata": {
    "collapsed": false
   },
   "outputs": [],
   "source": [
    "#this is how the output will look like\n",
    "# Step 3 and 4 will just be one line reporting if the whole data passed the step or not\n",
    "full_output = full_output.T\n",
    "full_output.columns = [\"Step1\", \"Step2\"]\n",
    "full_output.head()"
   ]
  },
  {
   "cell_type": "markdown",
   "metadata": {},
   "source": [
    "# Unused Code"
   ]
  },
  {
   "cell_type": "code",
   "execution_count": null,
   "metadata": {
    "collapsed": false
   },
   "outputs": [],
   "source": [
    "#now lets divide the data\n",
    "ones = df[df['labels'] == 1]\n",
    "zeros = df[df['labels'] == 0]"
   ]
  },
  {
   "cell_type": "code",
   "execution_count": null,
   "metadata": {
    "collapsed": true
   },
   "outputs": [],
   "source": [
    "# Choosing the best sub states by elimiating one that are not useful\n",
    "def best_sub_states(dat):\n",
    "    \n",
    "    a = dat.substates.values\n",
    "    counttype=collections.Counter(a)\n",
    "    print(\"How the Distribution looks like\")\n",
    "    print(\"**\"*40)\n",
    "    print(counttype)\n",
    "    print(\"Visualising\")\n",
    "    print(\"**\"*40)\n",
    "    keytype = list(counttype.keys())\n",
    "    populationtype = list(counttype.values())\n",
    "\n",
    "    dataa = [go.Bar(\n",
    "                y= populationtype,\n",
    "                x = keytype,\n",
    "                width = 1.5,\n",
    "                marker=dict(\n",
    "                   color = populationtype,\n",
    "                colorscale='Portland',\n",
    "                showscale=True,\n",
    "                reversescale = False\n",
    "                ),\n",
    "                opacity=0.6\n",
    "            )]\n",
    "    \n",
    "    layout= go.Layout(\n",
    "        autosize= True,\n",
    "        title= 'Distribution of Sub_States',\n",
    "        hovermode= 'closest',\n",
    "        yaxis=dict(\n",
    "            title= 'Number of repetitions',\n",
    "            ticklen= 5,\n",
    "            gridwidth= 2\n",
    "        ),\n",
    "        showlegend= False\n",
    "    )\n",
    "    fig = go.Figure(data=dataa, layout=layout)\n",
    "    py.iplot(fig, filename='barplottype')\n",
    "    \n",
    "    best_sub = []\n",
    "    for i in range(len(populationtype)):\n",
    "        if populationtype[i] > 20:\n",
    "            best_sub.append(keytype[i])\n",
    "    \n",
    "    return best_sub"
   ]
  },
  {
   "cell_type": "code",
   "execution_count": null,
   "metadata": {
    "collapsed": false
   },
   "outputs": [],
   "source": [
    "best_ones = best_sub_states(ones)"
   ]
  },
  {
   "cell_type": "code",
   "execution_count": null,
   "metadata": {
    "collapsed": false
   },
   "outputs": [],
   "source": [
    "best_zero = best_sub_states(zeros)"
   ]
  }
 ],
 "metadata": {
  "anaconda-cloud": {},
  "kernelspec": {
   "display_name": "Python 2",
   "language": "python",
   "name": "python2"
  },
  "language_info": {
   "codemirror_mode": {
    "name": "ipython",
    "version": 2
   },
   "file_extension": ".py",
   "mimetype": "text/x-python",
   "name": "python",
   "nbconvert_exporter": "python",
   "pygments_lexer": "ipython2",
   "version": "2.7.10"
  }
 },
 "nbformat": 4,
 "nbformat_minor": 2
}
