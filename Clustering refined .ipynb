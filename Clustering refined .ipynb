{
 "cells": [
  {
   "cell_type": "code",
   "execution_count": 1,
   "metadata": {
    "collapsed": false
   },
   "outputs": [
    {
     "data": {
      "text/html": [
       "<script>requirejs.config({paths: { 'plotly': ['https://cdn.plot.ly/plotly-latest.min']},});if(!window.Plotly) {{require(['plotly'],function(plotly) {window.Plotly=plotly;});}}</script>"
      ],
      "text/vnd.plotly.v1+html": [
       "<script>requirejs.config({paths: { 'plotly': ['https://cdn.plot.ly/plotly-latest.min']},});if(!window.Plotly) {{require(['plotly'],function(plotly) {window.Plotly=plotly;});}}</script>"
      ]
     },
     "metadata": {},
     "output_type": "display_data"
    }
   ],
   "source": [
    "# importing most of the libraries \n",
    "import numpy as np\n",
    "import pandas as pd\n",
    "import collections\n",
    "\n",
    "import matplotlib.pyplot as plt\n",
    "% matplotlib inline\n",
    "\n",
    "import plotly.offline as py\n",
    "py.init_notebook_mode(connected=True)\n",
    "import plotly.graph_objs as go\n",
    "import plotly.tools as tls"
   ]
  },
  {
   "cell_type": "code",
   "execution_count": 2,
   "metadata": {
    "collapsed": false
   },
   "outputs": [],
   "source": [
    "# read in the data\n",
    "power = pd.read_csv(\"power.csv\")\n",
    "#power_factor = pd.read_csv(\"power_factor.csv\")\n",
    "data_for_clustering = pd.DataFrame(data = [power[\"207\"]])"
   ]
  },
  {
   "cell_type": "code",
   "execution_count": 3,
   "metadata": {
    "collapsed": false
   },
   "outputs": [
    {
     "data": {
      "text/plain": [
       "DBSCAN(algorithm='auto', eps=0.3, leaf_size=30, metric='euclidean',\n",
       "    min_samples=10, n_jobs=1, p=None)"
      ]
     },
     "execution_count": 3,
     "metadata": {},
     "output_type": "execute_result"
    }
   ],
   "source": [
    "from sklearn.cluster import KMeans, DBSCAN\n",
    "data = np.array(data_for_clustering).T\n",
    "\n",
    "#dividing data into train and test\n",
    "\n",
    "train = data[0:round(len(data)*0.7)]\n",
    "test = data[round(len(data)*0.7):]\n",
    "\n",
    "#fitting clusters on clean train data\n",
    "kmeans = KMeans(n_clusters = 2)\n",
    "kmeans.fit(train)\n",
    "\n",
    "db = DBSCAN(eps=0.3, min_samples=10)\n",
    "db.fit(train)"
   ]
  },
  {
   "cell_type": "code",
   "execution_count": 4,
   "metadata": {
    "collapsed": true
   },
   "outputs": [],
   "source": [
    "#we will need this later on\n",
    "labels = kmeans.predict(train)\n",
    "centroids = kmeans.cluster_centers_"
   ]
  },
  {
   "cell_type": "code",
   "execution_count": 5,
   "metadata": {
    "collapsed": false
   },
   "outputs": [
    {
     "data": {
      "text/plain": [
       "array([[  209.98380727],\n",
       "       [ 2385.07949742]])"
      ]
     },
     "execution_count": 5,
     "metadata": {},
     "output_type": "execute_result"
    }
   ],
   "source": [
    "# To prove that choosing 2 as n_clusters was correct \n",
    "centroids"
   ]
  },
  {
   "cell_type": "code",
   "execution_count": 6,
   "metadata": {
    "collapsed": true
   },
   "outputs": [],
   "source": [
    "labels = list(labels)"
   ]
  },
  {
   "cell_type": "code",
   "execution_count": 7,
   "metadata": {
    "collapsed": true
   },
   "outputs": [],
   "source": [
    "# Step 2, creating sub states based on the time intervals\n",
    "def addtime(enter):\n",
    "    copy = enter[:]\n",
    "    num = 0\n",
    "    for i in range(0,len(enter)):\n",
    "        if i == 0:\n",
    "            num += 30\n",
    "        elif enter[i] == enter[i-1]:\n",
    "            num+= 30\n",
    "        else:\n",
    "            num = 30\n",
    "        copy[i] = num\n",
    "    return copy"
   ]
  },
  {
   "cell_type": "code",
   "execution_count": 8,
   "metadata": {
    "collapsed": false
   },
   "outputs": [],
   "source": [
    "sub_states = addtime(labels)"
   ]
  },
  {
   "cell_type": "code",
   "execution_count": 9,
   "metadata": {
    "collapsed": false
   },
   "outputs": [
    {
     "data": {
      "text/html": [
       "<div>\n",
       "<table border=\"1\" class=\"dataframe\">\n",
       "  <thead>\n",
       "    <tr style=\"text-align: right;\">\n",
       "      <th></th>\n",
       "      <th>labels</th>\n",
       "      <th>substates</th>\n",
       "    </tr>\n",
       "  </thead>\n",
       "  <tbody>\n",
       "    <tr>\n",
       "      <th>0</th>\n",
       "      <td>0</td>\n",
       "      <td>30</td>\n",
       "    </tr>\n",
       "    <tr>\n",
       "      <th>1</th>\n",
       "      <td>1</td>\n",
       "      <td>30</td>\n",
       "    </tr>\n",
       "    <tr>\n",
       "      <th>2</th>\n",
       "      <td>1</td>\n",
       "      <td>60</td>\n",
       "    </tr>\n",
       "    <tr>\n",
       "      <th>3</th>\n",
       "      <td>1</td>\n",
       "      <td>90</td>\n",
       "    </tr>\n",
       "    <tr>\n",
       "      <th>4</th>\n",
       "      <td>1</td>\n",
       "      <td>120</td>\n",
       "    </tr>\n",
       "    <tr>\n",
       "      <th>5</th>\n",
       "      <td>1</td>\n",
       "      <td>150</td>\n",
       "    </tr>\n",
       "    <tr>\n",
       "      <th>6</th>\n",
       "      <td>0</td>\n",
       "      <td>30</td>\n",
       "    </tr>\n",
       "    <tr>\n",
       "      <th>7</th>\n",
       "      <td>0</td>\n",
       "      <td>60</td>\n",
       "    </tr>\n",
       "    <tr>\n",
       "      <th>8</th>\n",
       "      <td>0</td>\n",
       "      <td>90</td>\n",
       "    </tr>\n",
       "    <tr>\n",
       "      <th>9</th>\n",
       "      <td>0</td>\n",
       "      <td>120</td>\n",
       "    </tr>\n",
       "    <tr>\n",
       "      <th>10</th>\n",
       "      <td>0</td>\n",
       "      <td>150</td>\n",
       "    </tr>\n",
       "    <tr>\n",
       "      <th>11</th>\n",
       "      <td>0</td>\n",
       "      <td>180</td>\n",
       "    </tr>\n",
       "    <tr>\n",
       "      <th>12</th>\n",
       "      <td>1</td>\n",
       "      <td>30</td>\n",
       "    </tr>\n",
       "    <tr>\n",
       "      <th>13</th>\n",
       "      <td>1</td>\n",
       "      <td>60</td>\n",
       "    </tr>\n",
       "    <tr>\n",
       "      <th>14</th>\n",
       "      <td>1</td>\n",
       "      <td>90</td>\n",
       "    </tr>\n",
       "    <tr>\n",
       "      <th>15</th>\n",
       "      <td>1</td>\n",
       "      <td>120</td>\n",
       "    </tr>\n",
       "    <tr>\n",
       "      <th>16</th>\n",
       "      <td>0</td>\n",
       "      <td>30</td>\n",
       "    </tr>\n",
       "    <tr>\n",
       "      <th>17</th>\n",
       "      <td>0</td>\n",
       "      <td>60</td>\n",
       "    </tr>\n",
       "    <tr>\n",
       "      <th>18</th>\n",
       "      <td>0</td>\n",
       "      <td>90</td>\n",
       "    </tr>\n",
       "    <tr>\n",
       "      <th>19</th>\n",
       "      <td>0</td>\n",
       "      <td>120</td>\n",
       "    </tr>\n",
       "  </tbody>\n",
       "</table>\n",
       "</div>"
      ],
      "text/plain": [
       "    labels  substates\n",
       "0        0         30\n",
       "1        1         30\n",
       "2        1         60\n",
       "3        1         90\n",
       "4        1        120\n",
       "5        1        150\n",
       "6        0         30\n",
       "7        0         60\n",
       "8        0         90\n",
       "9        0        120\n",
       "10       0        150\n",
       "11       0        180\n",
       "12       1         30\n",
       "13       1         60\n",
       "14       1         90\n",
       "15       1        120\n",
       "16       0         30\n",
       "17       0         60\n",
       "18       0         90\n",
       "19       0        120"
      ]
     },
     "execution_count": 9,
     "metadata": {},
     "output_type": "execute_result"
    }
   ],
   "source": [
    "#Some Visualization\n",
    "df = pd.DataFrame(data = [labels,sub_states])\n",
    "df = df.T\n",
    "df.columns = [\"labels\", \"substates\"]\n",
    "df.head(20)"
   ]
  },
  {
   "cell_type": "code",
   "execution_count": 10,
   "metadata": {
    "collapsed": true
   },
   "outputs": [],
   "source": [
    "# Learn Step 3 for periodicity\n",
    "def getstep3(enter_input):\n",
    "    info_list = []\n",
    "    info_list.append(np.mean(enter_input))\n",
    "    info_list.append(max(enter_input))\n",
    "    info_list.append(min(enter_input))\n",
    "    info_list.append(np.std(enter_input))\n",
    "    return info_list"
   ]
  },
  {
   "cell_type": "code",
   "execution_count": 11,
   "metadata": {
    "collapsed": false
   },
   "outputs": [
    {
     "data": {
      "text/plain": [
       "[182.47455312810328, 3330, 30, 306.43696687937683]"
      ]
     },
     "execution_count": 11,
     "metadata": {},
     "output_type": "execute_result"
    }
   ],
   "source": [
    "#checking step 3 \n",
    "getstep3(sub_states)"
   ]
  },
  {
   "cell_type": "code",
   "execution_count": 12,
   "metadata": {
    "collapsed": true
   },
   "outputs": [],
   "source": [
    "step3 = getstep3(sub_states)"
   ]
  },
  {
   "cell_type": "code",
   "execution_count": 13,
   "metadata": {
    "collapsed": false
   },
   "outputs": [],
   "source": [
    "#now lets divide the data\n",
    "ones = df[df['labels'] == 1]\n",
    "zeros = df[df['labels'] == 0]"
   ]
  },
  {
   "cell_type": "code",
   "execution_count": 14,
   "metadata": {
    "collapsed": true
   },
   "outputs": [],
   "source": [
    "# Choosing the best sub states by elimiating one that are not useful\n",
    "def best_sub_states(dat):\n",
    "    \n",
    "    a = dat.substates.values\n",
    "    counttype=collections.Counter(a)\n",
    "    print(\"How the Distribution looks like\")\n",
    "    print(\"**\"*40)\n",
    "    print(counttype)\n",
    "    print(\"Visualising\")\n",
    "    print(\"**\"*40)\n",
    "    keytype = list(counttype.keys())\n",
    "    populationtype = list(counttype.values())\n",
    "\n",
    "    dataa = [go.Bar(\n",
    "                y= populationtype,\n",
    "                x = keytype,\n",
    "                width = 1.5,\n",
    "                marker=dict(\n",
    "                   color = populationtype,\n",
    "                colorscale='Portland',\n",
    "                showscale=True,\n",
    "                reversescale = False\n",
    "                ),\n",
    "                opacity=0.6\n",
    "            )]\n",
    "    \n",
    "    layout= go.Layout(\n",
    "        autosize= True,\n",
    "        title= 'Distribution of Sub_States',\n",
    "        hovermode= 'closest',\n",
    "        yaxis=dict(\n",
    "            title= 'Number of repetitions',\n",
    "            ticklen= 5,\n",
    "            gridwidth= 2\n",
    "        ),\n",
    "        showlegend= False\n",
    "    )\n",
    "    fig = go.Figure(data=dataa, layout=layout)\n",
    "    py.iplot(fig, filename='barplottype')\n",
    "    \n",
    "    best_sub = []\n",
    "    for i in range(len(populationtype)):\n",
    "        if populationtype[i] > 20:\n",
    "            best_sub.append(keytype[i])\n",
    "    \n",
    "    return best_sub"
   ]
  },
  {
   "cell_type": "code",
   "execution_count": 15,
   "metadata": {
    "collapsed": false
   },
   "outputs": [
    {
     "name": "stdout",
     "output_type": "stream",
     "text": [
      "How the Distribution looks like\n",
      "********************************************************************************\n",
      "Counter({30: 1258, 60: 1258, 90: 1258, 120: 1115, 150: 679, 180: 432, 210: 316, 240: 248, 270: 198, 300: 160, 330: 133, 360: 118, 390: 105, 420: 90, 450: 84, 480: 74, 510: 65, 540: 59, 570: 55, 600: 51, 630: 44, 660: 40, 690: 36, 720: 33, 750: 27, 780: 23, 810: 21, 840: 21, 870: 21, 900: 20, 930: 17, 960: 16, 990: 16, 1020: 16, 1050: 15, 1080: 15, 1110: 13, 1140: 13, 1170: 12, 1290: 11, 1200: 11, 1230: 11, 1260: 11, 1320: 10, 1350: 10, 1380: 10, 1410: 9, 1440: 8, 1470: 8, 1560: 7, 1590: 7, 1620: 7, 1500: 7, 1530: 7, 1800: 6, 1830: 6, 1650: 6, 1680: 6, 1710: 6, 1740: 6, 1770: 6, 2310: 5, 2070: 5, 2340: 5, 2100: 5, 2370: 5, 1860: 5, 2130: 5, 1890: 5, 2160: 5, 1920: 5, 2190: 5, 1950: 5, 2220: 5, 1980: 5, 2250: 5, 2010: 5, 2280: 5, 2040: 5, 2580: 4, 2610: 4, 2400: 4, 2430: 4, 2460: 4, 2490: 4, 2520: 4, 2550: 4, 2640: 3, 2670: 3, 2700: 3, 2730: 3, 2760: 3, 2790: 3, 2820: 2, 2850: 2, 2880: 2, 2910: 2, 2940: 2, 2970: 2, 3000: 2, 3330: 1, 3090: 1, 3120: 1, 3150: 1, 3180: 1, 3210: 1, 3240: 1, 3270: 1, 3030: 1, 3300: 1, 3060: 1})\n",
      "Visualising\n",
      "********************************************************************************\n"
     ]
    },
    {
     "data": {
      "application/vnd.plotly.v1+json": {
       "data": [
        {
         "marker": {
          "color": [
           1,
           2,
           5,
           6,
           11,
           23,
           198,
           1,
           4,
           5,
           7,
           15,
           59,
           1258,
           2,
           5,
           6,
           10,
           21,
           160,
           1,
           4,
           5,
           7,
           15,
           55,
           1258,
           2,
           5,
           5,
           10,
           21,
           133,
           1,
           3,
           5,
           7,
           13,
           51,
           1258,
           2,
           4,
           5,
           10,
           21,
           118,
           1,
           3,
           5,
           6,
           13,
           44,
           1115,
           2,
           4,
           5,
           9,
           20,
           105,
           1,
           3,
           5,
           6,
           12,
           40,
           679,
           2,
           4,
           5,
           8,
           17,
           90,
           1,
           3,
           5,
           6,
           11,
           36,
           432,
           2,
           4,
           5,
           8,
           16,
           84,
           1,
           3,
           5,
           6,
           11,
           33,
           316,
           1,
           4,
           5,
           7,
           16,
           74,
           1,
           3,
           5,
           6,
           11,
           27,
           248,
           1,
           4,
           5,
           7,
           16,
           65
          ],
          "colorscale": "Portland",
          "reversescale": false,
          "showscale": true
         },
         "opacity": 0.6,
         "type": "bar",
         "width": 1.5,
         "x": [
          3330,
          2820,
          2310,
          1800,
          1290,
          780,
          270,
          3090,
          2580,
          2070,
          1560,
          1050,
          540,
          30,
          2850,
          2340,
          1830,
          1320,
          810,
          300,
          3120,
          2610,
          2100,
          1590,
          1080,
          570,
          60,
          2880,
          2370,
          1860,
          1350,
          840,
          330,
          3150,
          2640,
          2130,
          1620,
          1110,
          600,
          90,
          2910,
          2400,
          1890,
          1380,
          870,
          360,
          3180,
          2670,
          2160,
          1650,
          1140,
          630,
          120,
          2940,
          2430,
          1920,
          1410,
          900,
          390,
          3210,
          2700,
          2190,
          1680,
          1170,
          660,
          150,
          2970,
          2460,
          1950,
          1440,
          930,
          420,
          3240,
          2730,
          2220,
          1710,
          1200,
          690,
          180,
          3000,
          2490,
          1980,
          1470,
          960,
          450,
          3270,
          2760,
          2250,
          1740,
          1230,
          720,
          210,
          3030,
          2520,
          2010,
          1500,
          990,
          480,
          3300,
          2790,
          2280,
          1770,
          1260,
          750,
          240,
          3060,
          2550,
          2040,
          1530,
          1020,
          510
         ],
         "y": [
          1,
          2,
          5,
          6,
          11,
          23,
          198,
          1,
          4,
          5,
          7,
          15,
          59,
          1258,
          2,
          5,
          6,
          10,
          21,
          160,
          1,
          4,
          5,
          7,
          15,
          55,
          1258,
          2,
          5,
          5,
          10,
          21,
          133,
          1,
          3,
          5,
          7,
          13,
          51,
          1258,
          2,
          4,
          5,
          10,
          21,
          118,
          1,
          3,
          5,
          6,
          13,
          44,
          1115,
          2,
          4,
          5,
          9,
          20,
          105,
          1,
          3,
          5,
          6,
          12,
          40,
          679,
          2,
          4,
          5,
          8,
          17,
          90,
          1,
          3,
          5,
          6,
          11,
          36,
          432,
          2,
          4,
          5,
          8,
          16,
          84,
          1,
          3,
          5,
          6,
          11,
          33,
          316,
          1,
          4,
          5,
          7,
          16,
          74,
          1,
          3,
          5,
          6,
          11,
          27,
          248,
          1,
          4,
          5,
          7,
          16,
          65
         ]
        }
       ],
       "layout": {
        "autosize": true,
        "hovermode": "closest",
        "showlegend": false,
        "title": "Distribution of Sub_States",
        "yaxis": {
         "gridwidth": 2,
         "ticklen": 5,
         "title": "Number of repetitions"
        }
       }
      },
      "text/html": [
       "<div id=\"66112dc1-8f2e-41e0-9e80-1a9b39391b82\" style=\"height: 525px; width: 100%;\" class=\"plotly-graph-div\"></div><script type=\"text/javascript\">require([\"plotly\"], function(Plotly) { window.PLOTLYENV=window.PLOTLYENV || {};window.PLOTLYENV.BASE_URL=\"https://plot.ly\";Plotly.newPlot(\"66112dc1-8f2e-41e0-9e80-1a9b39391b82\", [{\"marker\": {\"showscale\": true, \"colorscale\": \"Portland\", \"reversescale\": false, \"color\": [1, 2, 5, 6, 11, 23, 198, 1, 4, 5, 7, 15, 59, 1258, 2, 5, 6, 10, 21, 160, 1, 4, 5, 7, 15, 55, 1258, 2, 5, 5, 10, 21, 133, 1, 3, 5, 7, 13, 51, 1258, 2, 4, 5, 10, 21, 118, 1, 3, 5, 6, 13, 44, 1115, 2, 4, 5, 9, 20, 105, 1, 3, 5, 6, 12, 40, 679, 2, 4, 5, 8, 17, 90, 1, 3, 5, 6, 11, 36, 432, 2, 4, 5, 8, 16, 84, 1, 3, 5, 6, 11, 33, 316, 1, 4, 5, 7, 16, 74, 1, 3, 5, 6, 11, 27, 248, 1, 4, 5, 7, 16, 65]}, \"y\": [1, 2, 5, 6, 11, 23, 198, 1, 4, 5, 7, 15, 59, 1258, 2, 5, 6, 10, 21, 160, 1, 4, 5, 7, 15, 55, 1258, 2, 5, 5, 10, 21, 133, 1, 3, 5, 7, 13, 51, 1258, 2, 4, 5, 10, 21, 118, 1, 3, 5, 6, 13, 44, 1115, 2, 4, 5, 9, 20, 105, 1, 3, 5, 6, 12, 40, 679, 2, 4, 5, 8, 17, 90, 1, 3, 5, 6, 11, 36, 432, 2, 4, 5, 8, 16, 84, 1, 3, 5, 6, 11, 33, 316, 1, 4, 5, 7, 16, 74, 1, 3, 5, 6, 11, 27, 248, 1, 4, 5, 7, 16, 65], \"width\": 1.5, \"opacity\": 0.6, \"x\": [3330, 2820, 2310, 1800, 1290, 780, 270, 3090, 2580, 2070, 1560, 1050, 540, 30, 2850, 2340, 1830, 1320, 810, 300, 3120, 2610, 2100, 1590, 1080, 570, 60, 2880, 2370, 1860, 1350, 840, 330, 3150, 2640, 2130, 1620, 1110, 600, 90, 2910, 2400, 1890, 1380, 870, 360, 3180, 2670, 2160, 1650, 1140, 630, 120, 2940, 2430, 1920, 1410, 900, 390, 3210, 2700, 2190, 1680, 1170, 660, 150, 2970, 2460, 1950, 1440, 930, 420, 3240, 2730, 2220, 1710, 1200, 690, 180, 3000, 2490, 1980, 1470, 960, 450, 3270, 2760, 2250, 1740, 1230, 720, 210, 3030, 2520, 2010, 1500, 990, 480, 3300, 2790, 2280, 1770, 1260, 750, 240, 3060, 2550, 2040, 1530, 1020, 510], \"type\": \"bar\"}], {\"yaxis\": {\"title\": \"Number of repetitions\", \"ticklen\": 5, \"gridwidth\": 2}, \"title\": \"Distribution of Sub_States\", \"showlegend\": false, \"hovermode\": \"closest\", \"autosize\": true}, {\"linkText\": \"Export to plot.ly\", \"showLink\": true})});</script>"
      ],
      "text/vnd.plotly.v1+html": [
       "<div id=\"66112dc1-8f2e-41e0-9e80-1a9b39391b82\" style=\"height: 525px; width: 100%;\" class=\"plotly-graph-div\"></div><script type=\"text/javascript\">require([\"plotly\"], function(Plotly) { window.PLOTLYENV=window.PLOTLYENV || {};window.PLOTLYENV.BASE_URL=\"https://plot.ly\";Plotly.newPlot(\"66112dc1-8f2e-41e0-9e80-1a9b39391b82\", [{\"marker\": {\"showscale\": true, \"colorscale\": \"Portland\", \"reversescale\": false, \"color\": [1, 2, 5, 6, 11, 23, 198, 1, 4, 5, 7, 15, 59, 1258, 2, 5, 6, 10, 21, 160, 1, 4, 5, 7, 15, 55, 1258, 2, 5, 5, 10, 21, 133, 1, 3, 5, 7, 13, 51, 1258, 2, 4, 5, 10, 21, 118, 1, 3, 5, 6, 13, 44, 1115, 2, 4, 5, 9, 20, 105, 1, 3, 5, 6, 12, 40, 679, 2, 4, 5, 8, 17, 90, 1, 3, 5, 6, 11, 36, 432, 2, 4, 5, 8, 16, 84, 1, 3, 5, 6, 11, 33, 316, 1, 4, 5, 7, 16, 74, 1, 3, 5, 6, 11, 27, 248, 1, 4, 5, 7, 16, 65]}, \"y\": [1, 2, 5, 6, 11, 23, 198, 1, 4, 5, 7, 15, 59, 1258, 2, 5, 6, 10, 21, 160, 1, 4, 5, 7, 15, 55, 1258, 2, 5, 5, 10, 21, 133, 1, 3, 5, 7, 13, 51, 1258, 2, 4, 5, 10, 21, 118, 1, 3, 5, 6, 13, 44, 1115, 2, 4, 5, 9, 20, 105, 1, 3, 5, 6, 12, 40, 679, 2, 4, 5, 8, 17, 90, 1, 3, 5, 6, 11, 36, 432, 2, 4, 5, 8, 16, 84, 1, 3, 5, 6, 11, 33, 316, 1, 4, 5, 7, 16, 74, 1, 3, 5, 6, 11, 27, 248, 1, 4, 5, 7, 16, 65], \"width\": 1.5, \"opacity\": 0.6, \"x\": [3330, 2820, 2310, 1800, 1290, 780, 270, 3090, 2580, 2070, 1560, 1050, 540, 30, 2850, 2340, 1830, 1320, 810, 300, 3120, 2610, 2100, 1590, 1080, 570, 60, 2880, 2370, 1860, 1350, 840, 330, 3150, 2640, 2130, 1620, 1110, 600, 90, 2910, 2400, 1890, 1380, 870, 360, 3180, 2670, 2160, 1650, 1140, 630, 120, 2940, 2430, 1920, 1410, 900, 390, 3210, 2700, 2190, 1680, 1170, 660, 150, 2970, 2460, 1950, 1440, 930, 420, 3240, 2730, 2220, 1710, 1200, 690, 180, 3000, 2490, 1980, 1470, 960, 450, 3270, 2760, 2250, 1740, 1230, 720, 210, 3030, 2520, 2010, 1500, 990, 480, 3300, 2790, 2280, 1770, 1260, 750, 240, 3060, 2550, 2040, 1530, 1020, 510], \"type\": \"bar\"}], {\"yaxis\": {\"title\": \"Number of repetitions\", \"ticklen\": 5, \"gridwidth\": 2}, \"title\": \"Distribution of Sub_States\", \"showlegend\": false, \"hovermode\": \"closest\", \"autosize\": true}, {\"linkText\": \"Export to plot.ly\", \"showLink\": true})});</script>"
      ]
     },
     "metadata": {},
     "output_type": "display_data"
    }
   ],
   "source": [
    "best_ones = best_sub_states(ones)"
   ]
  },
  {
   "cell_type": "code",
   "execution_count": 16,
   "metadata": {
    "collapsed": false
   },
   "outputs": [
    {
     "name": "stdout",
     "output_type": "stream",
     "text": [
      "How the Distribution looks like\n",
      "********************************************************************************\n",
      "Counter({30: 1259, 150: 1258, 120: 1258, 90: 1258, 60: 1258, 180: 1254, 210: 46, 360: 1, 330: 1, 300: 1, 270: 1, 240: 1})\n",
      "Visualising\n",
      "********************************************************************************\n"
     ]
    },
    {
     "data": {
      "application/vnd.plotly.v1+json": {
       "data": [
        {
         "marker": {
          "color": [
           1,
           1,
           1,
           1,
           1,
           46,
           1254,
           1258,
           1258,
           1258,
           1258,
           1259
          ],
          "colorscale": "Portland",
          "reversescale": false,
          "showscale": true
         },
         "opacity": 0.6,
         "type": "bar",
         "width": 1.5,
         "x": [
          360,
          330,
          300,
          270,
          240,
          210,
          180,
          150,
          120,
          90,
          60,
          30
         ],
         "y": [
          1,
          1,
          1,
          1,
          1,
          46,
          1254,
          1258,
          1258,
          1258,
          1258,
          1259
         ]
        }
       ],
       "layout": {
        "autosize": true,
        "hovermode": "closest",
        "showlegend": false,
        "title": "Distribution of Sub_States",
        "yaxis": {
         "gridwidth": 2,
         "ticklen": 5,
         "title": "Number of repetitions"
        }
       }
      },
      "text/html": [
       "<div id=\"621b56df-e293-4ef3-afed-4d0609202351\" style=\"height: 525px; width: 100%;\" class=\"plotly-graph-div\"></div><script type=\"text/javascript\">require([\"plotly\"], function(Plotly) { window.PLOTLYENV=window.PLOTLYENV || {};window.PLOTLYENV.BASE_URL=\"https://plot.ly\";Plotly.newPlot(\"621b56df-e293-4ef3-afed-4d0609202351\", [{\"marker\": {\"showscale\": true, \"colorscale\": \"Portland\", \"reversescale\": false, \"color\": [1, 1, 1, 1, 1, 46, 1254, 1258, 1258, 1258, 1258, 1259]}, \"y\": [1, 1, 1, 1, 1, 46, 1254, 1258, 1258, 1258, 1258, 1259], \"width\": 1.5, \"opacity\": 0.6, \"x\": [360, 330, 300, 270, 240, 210, 180, 150, 120, 90, 60, 30], \"type\": \"bar\"}], {\"yaxis\": {\"title\": \"Number of repetitions\", \"ticklen\": 5, \"gridwidth\": 2}, \"title\": \"Distribution of Sub_States\", \"showlegend\": false, \"hovermode\": \"closest\", \"autosize\": true}, {\"linkText\": \"Export to plot.ly\", \"showLink\": true})});</script>"
      ],
      "text/vnd.plotly.v1+html": [
       "<div id=\"621b56df-e293-4ef3-afed-4d0609202351\" style=\"height: 525px; width: 100%;\" class=\"plotly-graph-div\"></div><script type=\"text/javascript\">require([\"plotly\"], function(Plotly) { window.PLOTLYENV=window.PLOTLYENV || {};window.PLOTLYENV.BASE_URL=\"https://plot.ly\";Plotly.newPlot(\"621b56df-e293-4ef3-afed-4d0609202351\", [{\"marker\": {\"showscale\": true, \"colorscale\": \"Portland\", \"reversescale\": false, \"color\": [1, 1, 1, 1, 1, 46, 1254, 1258, 1258, 1258, 1258, 1259]}, \"y\": [1, 1, 1, 1, 1, 46, 1254, 1258, 1258, 1258, 1258, 1259], \"width\": 1.5, \"opacity\": 0.6, \"x\": [360, 330, 300, 270, 240, 210, 180, 150, 120, 90, 60, 30], \"type\": \"bar\"}], {\"yaxis\": {\"title\": \"Number of repetitions\", \"ticklen\": 5, \"gridwidth\": 2}, \"title\": \"Distribution of Sub_States\", \"showlegend\": false, \"hovermode\": \"closest\", \"autosize\": true}, {\"linkText\": \"Export to plot.ly\", \"showLink\": true})});</script>"
      ]
     },
     "metadata": {},
     "output_type": "display_data"
    }
   ],
   "source": [
    "best_zero = best_sub_states(zeros)"
   ]
  },
  {
   "cell_type": "code",
   "execution_count": 17,
   "metadata": {
    "collapsed": false
   },
   "outputs": [],
   "source": [
    "# Step 4, checking hte frequency of state change\n",
    "def checkfreq(labels):\n",
    "    frequency = []\n",
    "    one2one = 0\n",
    "    one2two = 0\n",
    "    two2one = 0\n",
    "    two2two = 0\n",
    "    \n",
    "    for i in range(1,len(labels)):\n",
    "        if labels[i] == 1 and labels[i-1] == 1:\n",
    "            one2one = one2one + 1\n",
    "        if labels[i] == 0 and labels[i-1] == 1:\n",
    "            one2two = one2two + 1\n",
    "        if labels[i] == 0 and labels[i-1] == 0:\n",
    "            two2two = two2two + 1\n",
    "        if labels[i] == 1 and labels[i-1] == 0:\n",
    "            two2one = two2one + 1 \n",
    "    frequency.append(one2one)\n",
    "    frequency.append(one2two)\n",
    "    frequency.append(two2one)\n",
    "    frequency.append(two2two)\n",
    "    return frequency"
   ]
  },
  {
   "cell_type": "code",
   "execution_count": 18,
   "metadata": {
    "collapsed": false
   },
   "outputs": [],
   "source": [
    "Amat =  checkfreq(labels)"
   ]
  },
  {
   "cell_type": "code",
   "execution_count": 19,
   "metadata": {
    "collapsed": true
   },
   "outputs": [],
   "source": [
    "prob1to1 = Amat[0] / (Amat[0] + Amat[1])\n",
    "prob1to0 = Amat[1] / (Amat[0] + Amat[1])\n",
    "prob0to1 = Amat[2] / (Amat[2] + Amat[3])\n",
    "prob0to0 = Amat[3] / (Amat[2] + Amat[3])"
   ]
  },
  {
   "cell_type": "code",
   "execution_count": 20,
   "metadata": {
    "collapsed": false
   },
   "outputs": [
    {
     "name": "stdout",
     "output_type": "stream",
     "text": [
      "0.8522780648191639\n",
      "0.14772193518083607\n",
      "0.16563528637261357\n",
      "0.8343647136273864\n"
     ]
    }
   ],
   "source": [
    "print(prob1to1)\n",
    "print(prob1to0)\n",
    "print(prob0to1)\n",
    "print(prob0to0)"
   ]
  },
  {
   "cell_type": "code",
   "execution_count": 21,
   "metadata": {
    "collapsed": true
   },
   "outputs": [],
   "source": [
    "#end of learning phase"
   ]
  },
  {
   "cell_type": "code",
   "execution_count": 22,
   "metadata": {
    "collapsed": true
   },
   "outputs": [],
   "source": [
    "# We start testing now"
   ]
  },
  {
   "cell_type": "code",
   "execution_count": 23,
   "metadata": {
    "collapsed": false
   },
   "outputs": [],
   "source": [
    "from sklearn.cluster import KMeans, DBSCAN\n",
    "# If DBSCAN returns -1 then it is not part of any cluster and it is an anomaly \n",
    "def checkstep1(data):\n",
    "    anomaly_array = []\n",
    "    step1_output = []\n",
    "    test_labels_kmeans = kmeans.predict(data)\n",
    "    db.fit(test)\n",
    "    test_labels_dbscan = db.labels_\n",
    "    for i in range(len(test_labels_kmeans)):\n",
    "        \n",
    "        if test_labels_dbscan[i] == -1:\n",
    "            anomaly_array.append(-1)\n",
    "            step1_output.append(\"Malfunction\")\n",
    "        else:\n",
    "            anomaly_array.append(test_labels_kmeans[i])\n",
    "            step1_output.append(\"Step 1 Cleared\")\n",
    "            \n",
    "    return anomaly_array, step1_output"
   ]
  },
  {
   "cell_type": "code",
   "execution_count": 24,
   "metadata": {
    "collapsed": false
   },
   "outputs": [],
   "source": [
    "anomaly, s1_output = checkstep1(test)"
   ]
  },
  {
   "cell_type": "code",
   "execution_count": 25,
   "metadata": {
    "collapsed": true
   },
   "outputs": [],
   "source": [
    "def checkstep2(enter_input):\n",
    "    checkstep2_output = []\n",
    "    test_labels_kmeans = kmeans.predict(enter_input)\n",
    "    test_labels_kmeans = list(test_labels_kmeans)\n",
    "    new_sub_states = addtime(test_labels_kmeans)\n",
    "    #print(test_labels_kmeans)\n",
    "    for i in range(len(test_labels_kmeans)):\n",
    "        if test_labels_kmeans[i] == 1:\n",
    "            \n",
    "            if new_sub_states[i] in best_ones:\n",
    "                checkstep2_output.append(\"Step2 Cleared\")\n",
    "                #print(test_labels_kmeans[i])\n",
    "                #print(new_sub_states[i])\n",
    "            else:\n",
    "                checkstep2_output.append(\"Step2_malfunction\")\n",
    "        else:\n",
    "            if new_sub_states[i] in best_zero:\n",
    "                checkstep2_output.append(\"Step2 Cleared\")\n",
    "            else:\n",
    "                checkstep2_output.append(\"Step2_malfunction\")\n",
    "        \n",
    "    return checkstep2_output"
   ]
  },
  {
   "cell_type": "code",
   "execution_count": 26,
   "metadata": {
    "collapsed": false
   },
   "outputs": [],
   "source": [
    "step2 = checkstep2(test)"
   ]
  },
  {
   "cell_type": "code",
   "execution_count": 27,
   "metadata": {
    "collapsed": false
   },
   "outputs": [],
   "source": [
    "def checkstep3(enter_input, tolerance):\n",
    "    test_labels_kmeans = kmeans.predict(enter_input)\n",
    "    test_labels_kmeans = list(test_labels_kmeans)\n",
    "    new_sub_states = addtime(test_labels_kmeans)\n",
    "    info_list = []\n",
    "    info_list.append(np.mean(enter_input))\n",
    "    info_list.append(max(enter_input))\n",
    "    info_list.append(min(enter_input))\n",
    "    info_list.append(np.std(enter_input))\n",
    "    \n",
    "    if np.std(info_list) > np.std(step3)*(1 + tolerance) :\n",
    "        return \"Step 3 problem, Greater\"\n",
    "    elif np.std(info_list) < np.std(step3)* (1 - tolerance):\n",
    "        return \"Step 3 problem, Lower\"\n",
    "    else:\n",
    "        return \"No Problem\""
   ]
  },
  {
   "cell_type": "code",
   "execution_count": 28,
   "metadata": {
    "collapsed": false
   },
   "outputs": [
    {
     "data": {
      "text/plain": [
       "'No Problem'"
      ]
     },
     "execution_count": 28,
     "metadata": {},
     "output_type": "execute_result"
    }
   ],
   "source": [
    "# as we want 2 sigma tolerance\n",
    "checkstep3(test, 0.66)"
   ]
  },
  {
   "cell_type": "code",
   "execution_count": 29,
   "metadata": {
    "collapsed": true
   },
   "outputs": [],
   "source": [
    "def checkstep4(enter_input, tolerance):\n",
    "    \n",
    "    test_labels_kmeans = kmeans.predict(enter_input)\n",
    "    test_labels_kmeans = list(test_labels_kmeans)\n",
    "    Bmat =  checkfreq(test_labels_kmeans)\n",
    "    print(np.std(Bmat))\n",
    "    print(np.std(Amat))\n",
    "    \n",
    "    if np.std(Bmat) > np.std(Amat)*(1 + tolerance) :\n",
    "        return \"Step 4 problem, Greater\"\n",
    "    elif np.std(Bmat) < np.std(Amat)* (1 - tolerance):\n",
    "        return \"Step 4 problem, Lower\"\n",
    "    else:\n",
    "        return \"No Problem\""
   ]
  },
  {
   "cell_type": "code",
   "execution_count": 30,
   "metadata": {
    "collapsed": false
   },
   "outputs": [
    {
     "name": "stdout",
     "output_type": "stream",
     "text": [
      "1271.74073616\n",
      "2788.82505502\n"
     ]
    },
    {
     "data": {
      "text/plain": [
       "'Step 4 problem, Lower'"
      ]
     },
     "execution_count": 30,
     "metadata": {},
     "output_type": "execute_result"
    }
   ],
   "source": [
    "checkstep4(test,0.5)"
   ]
  },
  {
   "cell_type": "code",
   "execution_count": 31,
   "metadata": {
    "collapsed": true
   },
   "outputs": [],
   "source": [
    "full_output = pd.DataFrame(data = [s1_output, step2])"
   ]
  },
  {
   "cell_type": "code",
   "execution_count": 32,
   "metadata": {
    "collapsed": false
   },
   "outputs": [
    {
     "data": {
      "text/html": [
       "<div>\n",
       "<table border=\"1\" class=\"dataframe\">\n",
       "  <thead>\n",
       "    <tr style=\"text-align: right;\">\n",
       "      <th></th>\n",
       "      <th>Step1</th>\n",
       "      <th>Step2</th>\n",
       "    </tr>\n",
       "  </thead>\n",
       "  <tbody>\n",
       "    <tr>\n",
       "      <th>0</th>\n",
       "      <td>Malfunction</td>\n",
       "      <td>Step2 Cleared</td>\n",
       "    </tr>\n",
       "    <tr>\n",
       "      <th>1</th>\n",
       "      <td>Malfunction</td>\n",
       "      <td>Step2 Cleared</td>\n",
       "    </tr>\n",
       "    <tr>\n",
       "      <th>2</th>\n",
       "      <td>Step 1 Cleared</td>\n",
       "      <td>Step2 Cleared</td>\n",
       "    </tr>\n",
       "    <tr>\n",
       "      <th>3</th>\n",
       "      <td>Step 1 Cleared</td>\n",
       "      <td>Step2 Cleared</td>\n",
       "    </tr>\n",
       "    <tr>\n",
       "      <th>4</th>\n",
       "      <td>Step 1 Cleared</td>\n",
       "      <td>Step2 Cleared</td>\n",
       "    </tr>\n",
       "  </tbody>\n",
       "</table>\n",
       "</div>"
      ],
      "text/plain": [
       "            Step1          Step2\n",
       "0     Malfunction  Step2 Cleared\n",
       "1     Malfunction  Step2 Cleared\n",
       "2  Step 1 Cleared  Step2 Cleared\n",
       "3  Step 1 Cleared  Step2 Cleared\n",
       "4  Step 1 Cleared  Step2 Cleared"
      ]
     },
     "execution_count": 32,
     "metadata": {},
     "output_type": "execute_result"
    }
   ],
   "source": [
    "#this is how the output will look like\n",
    "# Step 3 and 4 will just be one line reporting if the whole data passed the step or not\n",
    "full_output = full_output.T\n",
    "full_output.columns = [\"Step1\", \"Step2\"]\n",
    "full_output.head()"
   ]
  }
 ],
 "metadata": {
  "anaconda-cloud": {},
  "kernelspec": {
   "display_name": "Python [conda root]",
   "language": "python",
   "name": "conda-root-py"
  },
  "language_info": {
   "codemirror_mode": {
    "name": "ipython",
    "version": 3
   },
   "file_extension": ".py",
   "mimetype": "text/x-python",
   "name": "python",
   "nbconvert_exporter": "python",
   "pygments_lexer": "ipython3",
   "version": "3.5.2"
  }
 },
 "nbformat": 4,
 "nbformat_minor": 2
}
