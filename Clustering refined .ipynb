{
 "cells": [
  {
   "cell_type": "code",
   "execution_count": 1,
   "metadata": {
    "collapsed": false
   },
   "outputs": [
    {
     "data": {
      "text/html": [
       "<script>requirejs.config({paths: { 'plotly': ['https://cdn.plot.ly/plotly-latest.min']},});if(!window.Plotly) {{require(['plotly'],function(plotly) {window.Plotly=plotly;});}}</script>"
      ],
      "text/vnd.plotly.v1+html": [
       "<script>requirejs.config({paths: { 'plotly': ['https://cdn.plot.ly/plotly-latest.min']},});if(!window.Plotly) {{require(['plotly'],function(plotly) {window.Plotly=plotly;});}}</script>"
      ]
     },
     "metadata": {},
     "output_type": "display_data"
    }
   ],
   "source": [
    "# importing most of the libraries \n",
    "import numpy as np\n",
    "import pandas as pd\n",
    "import collections\n",
    "\n",
    "import matplotlib.pyplot as plt\n",
    "% matplotlib inline\n",
    "\n",
    "import plotly.offline as py\n",
    "py.init_notebook_mode(connected=True)\n",
    "import plotly.graph_objs as go\n",
    "import plotly.tools as tls"
   ]
  },
  {
   "cell_type": "code",
   "execution_count": 2,
   "metadata": {
    "collapsed": false
   },
   "outputs": [],
   "source": [
    "# read in the data\n",
    "power = pd.read_csv(\"power.csv\")\n",
    "#power_factor = pd.read_csv(\"power_factor.csv\")\n",
    "data_for_clustering = pd.DataFrame(data = [power[\"207\"]])"
   ]
  },
  {
   "cell_type": "code",
   "execution_count": 3,
   "metadata": {
    "collapsed": false
   },
   "outputs": [
    {
     "data": {
      "text/plain": [
       "KMeans(algorithm='auto', copy_x=True, init='k-means++', max_iter=300,\n",
       "    n_clusters=2, n_init=10, n_jobs=1, precompute_distances='auto',\n",
       "    random_state=None, tol=0.0001, verbose=0)"
      ]
     },
     "execution_count": 3,
     "metadata": {},
     "output_type": "execute_result"
    }
   ],
   "source": [
    "from sklearn.cluster import KMeans\n",
    "data = np.array(data_for_clustering).T\n",
    "kmeans = KMeans(n_clusters = 2)\n",
    "kmeans.fit(data)"
   ]
  },
  {
   "cell_type": "code",
   "execution_count": 4,
   "metadata": {
    "collapsed": true
   },
   "outputs": [],
   "source": [
    "#we will need this later on\n",
    "labels = kmeans.predict(data)\n",
    "centroids = kmeans.cluster_centers_"
   ]
  },
  {
   "cell_type": "code",
   "execution_count": 5,
   "metadata": {
    "collapsed": false
   },
   "outputs": [
    {
     "data": {
      "text/plain": [
       "array([[ 2394.7431584 ],\n",
       "       [  210.54941943]])"
      ]
     },
     "execution_count": 5,
     "metadata": {},
     "output_type": "execute_result"
    }
   ],
   "source": [
    "# To prove that choosing 2 as n_clusters was correct \n",
    "centroids"
   ]
  },
  {
   "cell_type": "code",
   "execution_count": 6,
   "metadata": {
    "collapsed": true
   },
   "outputs": [],
   "source": [
    "labels = list(labels)"
   ]
  },
  {
   "cell_type": "code",
   "execution_count": 7,
   "metadata": {
    "collapsed": true
   },
   "outputs": [],
   "source": [
    "# Step 2, creating sub states based on the time intervals\n",
    "def addtime(enter):\n",
    "    \n",
    "    copy = enter[:]\n",
    "    num = 0\n",
    "    for i in range(0,len(enter)):\n",
    "        if i == 0:\n",
    "            num += 30\n",
    "        elif enter[i] == enter[i-1]:\n",
    "            num+= 30\n",
    "        else:\n",
    "            num = 30\n",
    "        copy[i] = num\n",
    "    return copy"
   ]
  },
  {
   "cell_type": "code",
   "execution_count": 8,
   "metadata": {
    "collapsed": false
   },
   "outputs": [],
   "source": [
    "sub_states = addtime(labels)"
   ]
  },
  {
   "cell_type": "code",
   "execution_count": 9,
   "metadata": {
    "collapsed": false
   },
   "outputs": [
    {
     "data": {
      "text/html": [
       "<div>\n",
       "<table border=\"1\" class=\"dataframe\">\n",
       "  <thead>\n",
       "    <tr style=\"text-align: right;\">\n",
       "      <th></th>\n",
       "      <th>labels</th>\n",
       "      <th>substates</th>\n",
       "    </tr>\n",
       "  </thead>\n",
       "  <tbody>\n",
       "    <tr>\n",
       "      <th>0</th>\n",
       "      <td>1</td>\n",
       "      <td>30</td>\n",
       "    </tr>\n",
       "    <tr>\n",
       "      <th>1</th>\n",
       "      <td>0</td>\n",
       "      <td>30</td>\n",
       "    </tr>\n",
       "    <tr>\n",
       "      <th>2</th>\n",
       "      <td>0</td>\n",
       "      <td>60</td>\n",
       "    </tr>\n",
       "    <tr>\n",
       "      <th>3</th>\n",
       "      <td>0</td>\n",
       "      <td>90</td>\n",
       "    </tr>\n",
       "    <tr>\n",
       "      <th>4</th>\n",
       "      <td>0</td>\n",
       "      <td>120</td>\n",
       "    </tr>\n",
       "    <tr>\n",
       "      <th>5</th>\n",
       "      <td>0</td>\n",
       "      <td>150</td>\n",
       "    </tr>\n",
       "    <tr>\n",
       "      <th>6</th>\n",
       "      <td>1</td>\n",
       "      <td>30</td>\n",
       "    </tr>\n",
       "    <tr>\n",
       "      <th>7</th>\n",
       "      <td>1</td>\n",
       "      <td>60</td>\n",
       "    </tr>\n",
       "    <tr>\n",
       "      <th>8</th>\n",
       "      <td>1</td>\n",
       "      <td>90</td>\n",
       "    </tr>\n",
       "    <tr>\n",
       "      <th>9</th>\n",
       "      <td>1</td>\n",
       "      <td>120</td>\n",
       "    </tr>\n",
       "    <tr>\n",
       "      <th>10</th>\n",
       "      <td>1</td>\n",
       "      <td>150</td>\n",
       "    </tr>\n",
       "    <tr>\n",
       "      <th>11</th>\n",
       "      <td>1</td>\n",
       "      <td>180</td>\n",
       "    </tr>\n",
       "    <tr>\n",
       "      <th>12</th>\n",
       "      <td>0</td>\n",
       "      <td>30</td>\n",
       "    </tr>\n",
       "    <tr>\n",
       "      <th>13</th>\n",
       "      <td>0</td>\n",
       "      <td>60</td>\n",
       "    </tr>\n",
       "    <tr>\n",
       "      <th>14</th>\n",
       "      <td>0</td>\n",
       "      <td>90</td>\n",
       "    </tr>\n",
       "    <tr>\n",
       "      <th>15</th>\n",
       "      <td>0</td>\n",
       "      <td>120</td>\n",
       "    </tr>\n",
       "    <tr>\n",
       "      <th>16</th>\n",
       "      <td>1</td>\n",
       "      <td>30</td>\n",
       "    </tr>\n",
       "    <tr>\n",
       "      <th>17</th>\n",
       "      <td>1</td>\n",
       "      <td>60</td>\n",
       "    </tr>\n",
       "    <tr>\n",
       "      <th>18</th>\n",
       "      <td>1</td>\n",
       "      <td>90</td>\n",
       "    </tr>\n",
       "    <tr>\n",
       "      <th>19</th>\n",
       "      <td>1</td>\n",
       "      <td>120</td>\n",
       "    </tr>\n",
       "  </tbody>\n",
       "</table>\n",
       "</div>"
      ],
      "text/plain": [
       "    labels  substates\n",
       "0        1         30\n",
       "1        0         30\n",
       "2        0         60\n",
       "3        0         90\n",
       "4        0        120\n",
       "5        0        150\n",
       "6        1         30\n",
       "7        1         60\n",
       "8        1         90\n",
       "9        1        120\n",
       "10       1        150\n",
       "11       1        180\n",
       "12       0         30\n",
       "13       0         60\n",
       "14       0         90\n",
       "15       0        120\n",
       "16       1         30\n",
       "17       1         60\n",
       "18       1         90\n",
       "19       1        120"
      ]
     },
     "execution_count": 9,
     "metadata": {},
     "output_type": "execute_result"
    }
   ],
   "source": [
    "df = pd.DataFrame(data = [labels,sub_states])\n",
    "df = df.T\n",
    "df.columns = [\"labels\", \"substates\"]\n",
    "df.head(20)"
   ]
  },
  {
   "cell_type": "code",
   "execution_count": 10,
   "metadata": {
    "collapsed": false
   },
   "outputs": [],
   "source": [
    "#now lets divide the data\n",
    "ones = df[df['labels'] == 1]\n",
    "zeros = df[df['labels'] == 0]"
   ]
  },
  {
   "cell_type": "code",
   "execution_count": 11,
   "metadata": {
    "collapsed": true
   },
   "outputs": [],
   "source": [
    "# Choosing the best sub states by elimiating one that are not useful\n",
    "def best_sub_states(dat):\n",
    "    \n",
    "    a = dat.substates.values\n",
    "    counttype=collections.Counter(a)\n",
    "    print(\"How the Distribution looks like\")\n",
    "    print(\"**\"*40)\n",
    "    print(counttype)\n",
    "    print(\"Visualising\")\n",
    "    print(\"**\"*40)\n",
    "    keytype = list(counttype.keys())\n",
    "    populationtype = list(counttype.values())\n",
    "\n",
    "    dataa = [go.Bar(\n",
    "                y= populationtype,\n",
    "                x = keytype,\n",
    "                width = 1.5,\n",
    "                marker=dict(\n",
    "                   color = populationtype,\n",
    "                colorscale='Portland',\n",
    "                showscale=True,\n",
    "                reversescale = False\n",
    "                ),\n",
    "                opacity=0.6\n",
    "            )]\n",
    "    \n",
    "    layout= go.Layout(\n",
    "        autosize= True,\n",
    "        title= 'Distribution of Sub_States',\n",
    "        hovermode= 'closest',\n",
    "        yaxis=dict(\n",
    "            title= 'Number of repetitions',\n",
    "            ticklen= 5,\n",
    "            gridwidth= 2\n",
    "        ),\n",
    "        showlegend= False\n",
    "    )\n",
    "    fig = go.Figure(data=dataa, layout=layout)\n",
    "    py.iplot(fig, filename='barplottype')\n",
    "    "
   ]
  },
  {
   "cell_type": "code",
   "execution_count": 12,
   "metadata": {
    "collapsed": false
   },
   "outputs": [
    {
     "name": "stdout",
     "output_type": "stream",
     "text": [
      "How the Distribution looks like\n",
      "********************************************************************************\n",
      "Counter({30: 1755, 60: 1754, 150: 1753, 120: 1753, 90: 1753, 180: 1750, 210: 70, 360: 1, 330: 1, 300: 1, 270: 1, 240: 1})\n",
      "Visualising\n",
      "********************************************************************************\n"
     ]
    },
    {
     "data": {
      "application/vnd.plotly.v1+json": {
       "data": [
        {
         "marker": {
          "color": [
           1,
           1,
           1,
           1,
           1,
           70,
           1750,
           1753,
           1753,
           1753,
           1754,
           1755
          ],
          "colorscale": "Portland",
          "reversescale": false,
          "showscale": true
         },
         "opacity": 0.6,
         "type": "bar",
         "width": 1.5,
         "x": [
          360,
          330,
          300,
          270,
          240,
          210,
          180,
          150,
          120,
          90,
          60,
          30
         ],
         "y": [
          1,
          1,
          1,
          1,
          1,
          70,
          1750,
          1753,
          1753,
          1753,
          1754,
          1755
         ]
        }
       ],
       "layout": {
        "autosize": true,
        "hovermode": "closest",
        "showlegend": false,
        "title": "Distribution of Sub_States",
        "yaxis": {
         "gridwidth": 2,
         "ticklen": 5,
         "title": "Number of repetitions"
        }
       }
      },
      "text/html": [
       "<div id=\"4b9e62ed-6e63-4182-bbb2-3bd824452e03\" style=\"height: 525px; width: 100%;\" class=\"plotly-graph-div\"></div><script type=\"text/javascript\">require([\"plotly\"], function(Plotly) { window.PLOTLYENV=window.PLOTLYENV || {};window.PLOTLYENV.BASE_URL=\"https://plot.ly\";Plotly.newPlot(\"4b9e62ed-6e63-4182-bbb2-3bd824452e03\", [{\"x\": [360, 330, 300, 270, 240, 210, 180, 150, 120, 90, 60, 30], \"marker\": {\"colorscale\": \"Portland\", \"color\": [1, 1, 1, 1, 1, 70, 1750, 1753, 1753, 1753, 1754, 1755], \"showscale\": true, \"reversescale\": false}, \"width\": 1.5, \"opacity\": 0.6, \"type\": \"bar\", \"y\": [1, 1, 1, 1, 1, 70, 1750, 1753, 1753, 1753, 1754, 1755]}], {\"autosize\": true, \"showlegend\": false, \"hovermode\": \"closest\", \"yaxis\": {\"gridwidth\": 2, \"ticklen\": 5, \"title\": \"Number of repetitions\"}, \"title\": \"Distribution of Sub_States\"}, {\"showLink\": true, \"linkText\": \"Export to plot.ly\"})});</script>"
      ],
      "text/vnd.plotly.v1+html": [
       "<div id=\"4b9e62ed-6e63-4182-bbb2-3bd824452e03\" style=\"height: 525px; width: 100%;\" class=\"plotly-graph-div\"></div><script type=\"text/javascript\">require([\"plotly\"], function(Plotly) { window.PLOTLYENV=window.PLOTLYENV || {};window.PLOTLYENV.BASE_URL=\"https://plot.ly\";Plotly.newPlot(\"4b9e62ed-6e63-4182-bbb2-3bd824452e03\", [{\"x\": [360, 330, 300, 270, 240, 210, 180, 150, 120, 90, 60, 30], \"marker\": {\"colorscale\": \"Portland\", \"color\": [1, 1, 1, 1, 1, 70, 1750, 1753, 1753, 1753, 1754, 1755], \"showscale\": true, \"reversescale\": false}, \"width\": 1.5, \"opacity\": 0.6, \"type\": \"bar\", \"y\": [1, 1, 1, 1, 1, 70, 1750, 1753, 1753, 1753, 1754, 1755]}], {\"autosize\": true, \"showlegend\": false, \"hovermode\": \"closest\", \"yaxis\": {\"gridwidth\": 2, \"ticklen\": 5, \"title\": \"Number of repetitions\"}, \"title\": \"Distribution of Sub_States\"}, {\"showLink\": true, \"linkText\": \"Export to plot.ly\"})});</script>"
      ]
     },
     "metadata": {},
     "output_type": "display_data"
    }
   ],
   "source": [
    "best_sub_states(ones)"
   ]
  },
  {
   "cell_type": "code",
   "execution_count": 13,
   "metadata": {
    "collapsed": false
   },
   "outputs": [
    {
     "name": "stdout",
     "output_type": "stream",
     "text": [
      "How the Distribution looks like\n",
      "********************************************************************************\n",
      "Counter({30: 1754, 60: 1754, 90: 1754, 120: 1581, 150: 1002, 180: 642, 210: 468, 240: 378, 270: 303, 300: 254, 330: 211, 360: 188, 390: 167, 420: 148, 450: 135, 480: 115, 510: 104, 540: 96, 570: 88, 600: 81, 630: 70, 660: 66, 690: 57, 720: 54, 750: 47, 780: 42, 810: 38, 840: 37, 870: 37, 900: 32, 930: 29, 960: 27, 990: 27, 1020: 26, 1050: 23, 1080: 23, 1110: 21, 1140: 20, 1170: 18, 1200: 17, 1290: 16, 1230: 16, 1260: 16, 1320: 15, 1350: 15, 1380: 14, 1410: 13, 1440: 12, 1470: 12, 1500: 11, 1560: 10, 1530: 10, 1590: 9, 1620: 9, 1650: 8, 1680: 8, 1800: 7, 1830: 7, 1710: 7, 1740: 7, 1770: 7, 2310: 6, 2070: 6, 2340: 6, 2100: 6, 2370: 6, 1860: 6, 2130: 6, 1890: 6, 2160: 6, 1920: 6, 2190: 6, 1950: 6, 2220: 6, 1980: 6, 2250: 6, 2010: 6, 2280: 6, 2040: 6, 2580: 5, 2610: 5, 2400: 5, 2430: 5, 2460: 5, 2490: 5, 2520: 5, 2550: 5, 2640: 4, 2670: 4, 2700: 4, 2730: 4, 2760: 4, 2790: 4, 2820: 3, 2850: 3, 2880: 3, 2910: 3, 2940: 3, 2970: 3, 3000: 3, 3330: 2, 3090: 2, 3120: 2, 3150: 2, 3180: 2, 3210: 2, 3240: 2, 3270: 2, 3030: 2, 3300: 2, 3060: 2, 3840: 1, 4140: 1, 3600: 1, 4440: 1, 3930: 1, 3360: 1, 4230: 1, 4530: 1, 3630: 1, 4020: 1, 3390: 1, 4320: 1, 4620: 1, 3660: 1, 4110: 1, 3420: 1, 4410: 1, 4710: 1, 3900: 1, 3690: 1, 4200: 1, 4500: 1, 3450: 1, 3990: 1, 3720: 1, 4290: 1, 4590: 1, 3480: 1, 4080: 1, 3750: 1, 4380: 1, 4680: 1, 3870: 1, 3510: 1, 4170: 1, 3780: 1, 4470: 1, 3960: 1, 3540: 1, 4260: 1, 4560: 1, 3810: 1, 4050: 1, 3570: 1, 4350: 1, 4650: 1})\n",
      "Visualising\n",
      "********************************************************************************\n"
     ]
    },
    {
     "data": {
      "application/vnd.plotly.v1+json": {
       "data": [
        {
         "marker": {
          "color": [
           1,
           2,
           3,
           6,
           7,
           1,
           16,
           42,
           303,
           1,
           1,
           2,
           5,
           6,
           10,
           23,
           96,
           1,
           1754,
           1,
           3,
           6,
           1,
           7,
           15,
           38,
           254,
           1,
           1,
           2,
           5,
           6,
           9,
           23,
           1,
           88,
           1754,
           1,
           3,
           1,
           6,
           6,
           15,
           37,
           1,
           211,
           1,
           2,
           4,
           6,
           9,
           1,
           21,
           81,
           1754,
           1,
           1,
           3,
           5,
           6,
           14,
           1,
           37,
           188,
           1,
           1,
           2,
           4,
           6,
           1,
           8,
           20,
           70,
           1581,
           1,
           1,
           3,
           5,
           6,
           13,
           32,
           1,
           167,
           1,
           2,
           4,
           1,
           6,
           8,
           18,
           66,
           1,
           1002,
           1,
           3,
           5,
           6,
           12,
           1,
           29,
           148,
           1,
           2,
           1,
           4,
           6,
           7,
           17,
           1,
           57,
           642,
           1,
           1,
           3,
           5,
           6,
           1,
           12,
           27,
           135,
           1,
           1,
           2,
           4,
           6,
           7,
           16,
           54,
           1,
           468,
           1,
           2,
           5,
           1,
           6,
           11,
           27,
           115,
           1,
           1,
           2,
           4,
           6,
           7,
           16,
           1,
           47,
           378,
           1,
           2,
           1,
           5,
           6,
           10,
           26,
           1,
           104
          ],
          "colorscale": "Portland",
          "reversescale": false,
          "showscale": true
         },
         "opacity": 0.6,
         "type": "bar",
         "width": 1.5,
         "x": [
          3840,
          3330,
          2820,
          2310,
          1800,
          4140,
          1290,
          780,
          270,
          3600,
          4440,
          3090,
          2580,
          2070,
          1560,
          1050,
          540,
          3930,
          30,
          3360,
          2850,
          2340,
          4230,
          1830,
          1320,
          810,
          300,
          4530,
          3630,
          3120,
          2610,
          2100,
          1590,
          1080,
          4020,
          570,
          60,
          3390,
          2880,
          4320,
          2370,
          1860,
          1350,
          840,
          4620,
          330,
          3660,
          3150,
          2640,
          2130,
          1620,
          4110,
          1110,
          600,
          90,
          3420,
          4410,
          2910,
          2400,
          1890,
          1380,
          4710,
          870,
          360,
          3900,
          3690,
          3180,
          2670,
          2160,
          4200,
          1650,
          1140,
          630,
          120,
          4500,
          3450,
          2940,
          2430,
          1920,
          1410,
          900,
          3990,
          390,
          3720,
          3210,
          2700,
          4290,
          2190,
          1680,
          1170,
          660,
          4590,
          150,
          3480,
          2970,
          2460,
          1950,
          1440,
          4080,
          930,
          420,
          3750,
          3240,
          4380,
          2730,
          2220,
          1710,
          1200,
          4680,
          690,
          180,
          3870,
          3510,
          3000,
          2490,
          1980,
          4170,
          1470,
          960,
          450,
          3780,
          4470,
          3270,
          2760,
          2250,
          1740,
          1230,
          720,
          3960,
          210,
          3540,
          3030,
          2520,
          4260,
          2010,
          1500,
          990,
          480,
          4560,
          3810,
          3300,
          2790,
          2280,
          1770,
          1260,
          4050,
          750,
          240,
          3570,
          3060,
          4350,
          2550,
          2040,
          1530,
          1020,
          4650,
          510
         ],
         "y": [
          1,
          2,
          3,
          6,
          7,
          1,
          16,
          42,
          303,
          1,
          1,
          2,
          5,
          6,
          10,
          23,
          96,
          1,
          1754,
          1,
          3,
          6,
          1,
          7,
          15,
          38,
          254,
          1,
          1,
          2,
          5,
          6,
          9,
          23,
          1,
          88,
          1754,
          1,
          3,
          1,
          6,
          6,
          15,
          37,
          1,
          211,
          1,
          2,
          4,
          6,
          9,
          1,
          21,
          81,
          1754,
          1,
          1,
          3,
          5,
          6,
          14,
          1,
          37,
          188,
          1,
          1,
          2,
          4,
          6,
          1,
          8,
          20,
          70,
          1581,
          1,
          1,
          3,
          5,
          6,
          13,
          32,
          1,
          167,
          1,
          2,
          4,
          1,
          6,
          8,
          18,
          66,
          1,
          1002,
          1,
          3,
          5,
          6,
          12,
          1,
          29,
          148,
          1,
          2,
          1,
          4,
          6,
          7,
          17,
          1,
          57,
          642,
          1,
          1,
          3,
          5,
          6,
          1,
          12,
          27,
          135,
          1,
          1,
          2,
          4,
          6,
          7,
          16,
          54,
          1,
          468,
          1,
          2,
          5,
          1,
          6,
          11,
          27,
          115,
          1,
          1,
          2,
          4,
          6,
          7,
          16,
          1,
          47,
          378,
          1,
          2,
          1,
          5,
          6,
          10,
          26,
          1,
          104
         ]
        }
       ],
       "layout": {
        "autosize": true,
        "hovermode": "closest",
        "showlegend": false,
        "title": "Distribution of Sub_States",
        "yaxis": {
         "gridwidth": 2,
         "ticklen": 5,
         "title": "Number of repetitions"
        }
       }
      },
      "text/html": [
       "<div id=\"ce145cb0-d672-4899-915c-14fb417f099f\" style=\"height: 525px; width: 100%;\" class=\"plotly-graph-div\"></div><script type=\"text/javascript\">require([\"plotly\"], function(Plotly) { window.PLOTLYENV=window.PLOTLYENV || {};window.PLOTLYENV.BASE_URL=\"https://plot.ly\";Plotly.newPlot(\"ce145cb0-d672-4899-915c-14fb417f099f\", [{\"x\": [3840, 3330, 2820, 2310, 1800, 4140, 1290, 780, 270, 3600, 4440, 3090, 2580, 2070, 1560, 1050, 540, 3930, 30, 3360, 2850, 2340, 4230, 1830, 1320, 810, 300, 4530, 3630, 3120, 2610, 2100, 1590, 1080, 4020, 570, 60, 3390, 2880, 4320, 2370, 1860, 1350, 840, 4620, 330, 3660, 3150, 2640, 2130, 1620, 4110, 1110, 600, 90, 3420, 4410, 2910, 2400, 1890, 1380, 4710, 870, 360, 3900, 3690, 3180, 2670, 2160, 4200, 1650, 1140, 630, 120, 4500, 3450, 2940, 2430, 1920, 1410, 900, 3990, 390, 3720, 3210, 2700, 4290, 2190, 1680, 1170, 660, 4590, 150, 3480, 2970, 2460, 1950, 1440, 4080, 930, 420, 3750, 3240, 4380, 2730, 2220, 1710, 1200, 4680, 690, 180, 3870, 3510, 3000, 2490, 1980, 4170, 1470, 960, 450, 3780, 4470, 3270, 2760, 2250, 1740, 1230, 720, 3960, 210, 3540, 3030, 2520, 4260, 2010, 1500, 990, 480, 4560, 3810, 3300, 2790, 2280, 1770, 1260, 4050, 750, 240, 3570, 3060, 4350, 2550, 2040, 1530, 1020, 4650, 510], \"marker\": {\"colorscale\": \"Portland\", \"color\": [1, 2, 3, 6, 7, 1, 16, 42, 303, 1, 1, 2, 5, 6, 10, 23, 96, 1, 1754, 1, 3, 6, 1, 7, 15, 38, 254, 1, 1, 2, 5, 6, 9, 23, 1, 88, 1754, 1, 3, 1, 6, 6, 15, 37, 1, 211, 1, 2, 4, 6, 9, 1, 21, 81, 1754, 1, 1, 3, 5, 6, 14, 1, 37, 188, 1, 1, 2, 4, 6, 1, 8, 20, 70, 1581, 1, 1, 3, 5, 6, 13, 32, 1, 167, 1, 2, 4, 1, 6, 8, 18, 66, 1, 1002, 1, 3, 5, 6, 12, 1, 29, 148, 1, 2, 1, 4, 6, 7, 17, 1, 57, 642, 1, 1, 3, 5, 6, 1, 12, 27, 135, 1, 1, 2, 4, 6, 7, 16, 54, 1, 468, 1, 2, 5, 1, 6, 11, 27, 115, 1, 1, 2, 4, 6, 7, 16, 1, 47, 378, 1, 2, 1, 5, 6, 10, 26, 1, 104], \"showscale\": true, \"reversescale\": false}, \"width\": 1.5, \"opacity\": 0.6, \"type\": \"bar\", \"y\": [1, 2, 3, 6, 7, 1, 16, 42, 303, 1, 1, 2, 5, 6, 10, 23, 96, 1, 1754, 1, 3, 6, 1, 7, 15, 38, 254, 1, 1, 2, 5, 6, 9, 23, 1, 88, 1754, 1, 3, 1, 6, 6, 15, 37, 1, 211, 1, 2, 4, 6, 9, 1, 21, 81, 1754, 1, 1, 3, 5, 6, 14, 1, 37, 188, 1, 1, 2, 4, 6, 1, 8, 20, 70, 1581, 1, 1, 3, 5, 6, 13, 32, 1, 167, 1, 2, 4, 1, 6, 8, 18, 66, 1, 1002, 1, 3, 5, 6, 12, 1, 29, 148, 1, 2, 1, 4, 6, 7, 17, 1, 57, 642, 1, 1, 3, 5, 6, 1, 12, 27, 135, 1, 1, 2, 4, 6, 7, 16, 54, 1, 468, 1, 2, 5, 1, 6, 11, 27, 115, 1, 1, 2, 4, 6, 7, 16, 1, 47, 378, 1, 2, 1, 5, 6, 10, 26, 1, 104]}], {\"autosize\": true, \"showlegend\": false, \"hovermode\": \"closest\", \"yaxis\": {\"gridwidth\": 2, \"ticklen\": 5, \"title\": \"Number of repetitions\"}, \"title\": \"Distribution of Sub_States\"}, {\"showLink\": true, \"linkText\": \"Export to plot.ly\"})});</script>"
      ],
      "text/vnd.plotly.v1+html": [
       "<div id=\"ce145cb0-d672-4899-915c-14fb417f099f\" style=\"height: 525px; width: 100%;\" class=\"plotly-graph-div\"></div><script type=\"text/javascript\">require([\"plotly\"], function(Plotly) { window.PLOTLYENV=window.PLOTLYENV || {};window.PLOTLYENV.BASE_URL=\"https://plot.ly\";Plotly.newPlot(\"ce145cb0-d672-4899-915c-14fb417f099f\", [{\"x\": [3840, 3330, 2820, 2310, 1800, 4140, 1290, 780, 270, 3600, 4440, 3090, 2580, 2070, 1560, 1050, 540, 3930, 30, 3360, 2850, 2340, 4230, 1830, 1320, 810, 300, 4530, 3630, 3120, 2610, 2100, 1590, 1080, 4020, 570, 60, 3390, 2880, 4320, 2370, 1860, 1350, 840, 4620, 330, 3660, 3150, 2640, 2130, 1620, 4110, 1110, 600, 90, 3420, 4410, 2910, 2400, 1890, 1380, 4710, 870, 360, 3900, 3690, 3180, 2670, 2160, 4200, 1650, 1140, 630, 120, 4500, 3450, 2940, 2430, 1920, 1410, 900, 3990, 390, 3720, 3210, 2700, 4290, 2190, 1680, 1170, 660, 4590, 150, 3480, 2970, 2460, 1950, 1440, 4080, 930, 420, 3750, 3240, 4380, 2730, 2220, 1710, 1200, 4680, 690, 180, 3870, 3510, 3000, 2490, 1980, 4170, 1470, 960, 450, 3780, 4470, 3270, 2760, 2250, 1740, 1230, 720, 3960, 210, 3540, 3030, 2520, 4260, 2010, 1500, 990, 480, 4560, 3810, 3300, 2790, 2280, 1770, 1260, 4050, 750, 240, 3570, 3060, 4350, 2550, 2040, 1530, 1020, 4650, 510], \"marker\": {\"colorscale\": \"Portland\", \"color\": [1, 2, 3, 6, 7, 1, 16, 42, 303, 1, 1, 2, 5, 6, 10, 23, 96, 1, 1754, 1, 3, 6, 1, 7, 15, 38, 254, 1, 1, 2, 5, 6, 9, 23, 1, 88, 1754, 1, 3, 1, 6, 6, 15, 37, 1, 211, 1, 2, 4, 6, 9, 1, 21, 81, 1754, 1, 1, 3, 5, 6, 14, 1, 37, 188, 1, 1, 2, 4, 6, 1, 8, 20, 70, 1581, 1, 1, 3, 5, 6, 13, 32, 1, 167, 1, 2, 4, 1, 6, 8, 18, 66, 1, 1002, 1, 3, 5, 6, 12, 1, 29, 148, 1, 2, 1, 4, 6, 7, 17, 1, 57, 642, 1, 1, 3, 5, 6, 1, 12, 27, 135, 1, 1, 2, 4, 6, 7, 16, 54, 1, 468, 1, 2, 5, 1, 6, 11, 27, 115, 1, 1, 2, 4, 6, 7, 16, 1, 47, 378, 1, 2, 1, 5, 6, 10, 26, 1, 104], \"showscale\": true, \"reversescale\": false}, \"width\": 1.5, \"opacity\": 0.6, \"type\": \"bar\", \"y\": [1, 2, 3, 6, 7, 1, 16, 42, 303, 1, 1, 2, 5, 6, 10, 23, 96, 1, 1754, 1, 3, 6, 1, 7, 15, 38, 254, 1, 1, 2, 5, 6, 9, 23, 1, 88, 1754, 1, 3, 1, 6, 6, 15, 37, 1, 211, 1, 2, 4, 6, 9, 1, 21, 81, 1754, 1, 1, 3, 5, 6, 14, 1, 37, 188, 1, 1, 2, 4, 6, 1, 8, 20, 70, 1581, 1, 1, 3, 5, 6, 13, 32, 1, 167, 1, 2, 4, 1, 6, 8, 18, 66, 1, 1002, 1, 3, 5, 6, 12, 1, 29, 148, 1, 2, 1, 4, 6, 7, 17, 1, 57, 642, 1, 1, 3, 5, 6, 1, 12, 27, 135, 1, 1, 2, 4, 6, 7, 16, 54, 1, 468, 1, 2, 5, 1, 6, 11, 27, 115, 1, 1, 2, 4, 6, 7, 16, 1, 47, 378, 1, 2, 1, 5, 6, 10, 26, 1, 104]}], {\"autosize\": true, \"showlegend\": false, \"hovermode\": \"closest\", \"yaxis\": {\"gridwidth\": 2, \"ticklen\": 5, \"title\": \"Number of repetitions\"}, \"title\": \"Distribution of Sub_States\"}, {\"showLink\": true, \"linkText\": \"Export to plot.ly\"})});</script>"
      ]
     },
     "metadata": {},
     "output_type": "display_data"
    }
   ],
   "source": [
    "best_sub_states(zeros)"
   ]
  },
  {
   "cell_type": "code",
   "execution_count": 14,
   "metadata": {
    "collapsed": false
   },
   "outputs": [],
   "source": [
    "# Step 4, checking hte frequency of state change\n",
    "def checkfreq(labels):\n",
    "    frequency = []\n",
    "    one2one = 0\n",
    "    one2two = 0\n",
    "    two2one = 0\n",
    "    two2two = 0\n",
    "    \n",
    "    for i in range(1,len(labels)):\n",
    "        if labels[i] == 1 and labels[i-1] == 1:\n",
    "            one2one = one2one + 1\n",
    "        if labels[i] == 0 and labels[i-1] == 1:\n",
    "            one2two = one2two + 1\n",
    "        if labels[i] == 0 and labels[i-1] == 0:\n",
    "            two2two = two2two + 1\n",
    "        if labels[i] == 1 and labels[i-1] == 0:\n",
    "            two2one = two2one + 1 \n",
    "    frequency.append(one2one)\n",
    "    frequency.append(one2two)\n",
    "    frequency.append(two2one)\n",
    "    frequency.append(two2two)\n",
    "    return frequency"
   ]
  },
  {
   "cell_type": "code",
   "execution_count": 15,
   "metadata": {
    "collapsed": false
   },
   "outputs": [],
   "source": [
    "Amat =  checkfreq(labels)"
   ]
  },
  {
   "cell_type": "code",
   "execution_count": 16,
   "metadata": {
    "collapsed": true
   },
   "outputs": [],
   "source": [
    "prob1to1 = Amat[0] / (Amat[0] + Amat[1])\n",
    "prob1to0 = Amat[1] / (Amat[0] + Amat[1])\n",
    "prob0to1 = Amat[2] / (Amat[2] + Amat[3])\n",
    "prob0to0 = Amat[3] / (Amat[2] + Amat[3])"
   ]
  },
  {
   "cell_type": "code",
   "execution_count": 17,
   "metadata": {
    "collapsed": false
   },
   "outputs": [
    {
     "name": "stdout",
     "output_type": "stream",
     "text": [
      "0.8344033232628398\n",
      "0.1655966767371601\n",
      "0.14117836445589182\n",
      "0.8588216355441082\n"
     ]
    }
   ],
   "source": [
    "print(prob1to1)\n",
    "print(prob1to0)\n",
    "print(prob0to1)\n",
    "print(prob0to0)"
   ]
  },
  {
   "cell_type": "code",
   "execution_count": null,
   "metadata": {
    "collapsed": true
   },
   "outputs": [],
   "source": [
    "from sklearn.cluster import KMeans, DBSCAN\n",
    "def checkstep1(data):\n",
    "    "
   ]
  },
  {
   "cell_type": "code",
   "execution_count": null,
   "metadata": {
    "collapsed": true
   },
   "outputs": [],
   "source": []
  },
  {
   "cell_type": "code",
   "execution_count": null,
   "metadata": {
    "collapsed": true
   },
   "outputs": [],
   "source": []
  },
  {
   "cell_type": "code",
   "execution_count": null,
   "metadata": {
    "collapsed": true
   },
   "outputs": [],
   "source": []
  },
  {
   "cell_type": "code",
   "execution_count": null,
   "metadata": {
    "collapsed": true
   },
   "outputs": [],
   "source": []
  },
  {
   "cell_type": "code",
   "execution_count": null,
   "metadata": {
    "collapsed": true
   },
   "outputs": [],
   "source": []
  },
  {
   "cell_type": "code",
   "execution_count": null,
   "metadata": {
    "collapsed": true
   },
   "outputs": [],
   "source": []
  },
  {
   "cell_type": "code",
   "execution_count": null,
   "metadata": {
    "collapsed": true
   },
   "outputs": [],
   "source": []
  },
  {
   "cell_type": "code",
   "execution_count": null,
   "metadata": {
    "collapsed": true
   },
   "outputs": [],
   "source": []
  }
 ],
 "metadata": {
  "anaconda-cloud": {},
  "kernelspec": {
   "display_name": "Python [conda root]",
   "language": "python",
   "name": "conda-root-py"
  },
  "language_info": {
   "codemirror_mode": {
    "name": "ipython",
    "version": 3
   },
   "file_extension": ".py",
   "mimetype": "text/x-python",
   "name": "python",
   "nbconvert_exporter": "python",
   "pygments_lexer": "ipython3",
   "version": "3.5.2"
  }
 },
 "nbformat": 4,
 "nbformat_minor": 2
}
