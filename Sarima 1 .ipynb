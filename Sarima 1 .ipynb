{
 "cells": [
  {
   "cell_type": "code",
   "execution_count": 1,
   "metadata": {
    "collapsed": true
   },
   "outputs": [],
   "source": [
    "import pandas as pd\n",
    "import warnings\n",
    "import numpy as np\n",
    "import itertools\n",
    "\n",
    "import statsmodels.api as sm\n",
    "from statsmodels.tsa.stattools import acf  \n",
    "from statsmodels.tsa.stattools import pacf\n",
    "from statsmodels.tsa.seasonal import seasonal_decompose\n",
    "\n",
    "import matplotlib.pyplot as plt\n",
    "plt.style.use('fivethirtyeight')\n",
    "%matplotlib inline"
   ]
  },
  {
   "cell_type": "code",
   "execution_count": 2,
   "metadata": {
    "collapsed": false
   },
   "outputs": [],
   "source": [
    "power = pd.read_csv(\"power.csv\")"
   ]
  },
  {
   "cell_type": "code",
   "execution_count": 3,
   "metadata": {
    "collapsed": false
   },
   "outputs": [
    {
     "data": {
      "text/html": [
       "<div>\n",
       "<table border=\"1\" class=\"dataframe\">\n",
       "  <thead>\n",
       "    <tr style=\"text-align: right;\">\n",
       "      <th></th>\n",
       "      <th>2016-07-02T00:00:12+05:30</th>\n",
       "      <th>207</th>\n",
       "    </tr>\n",
       "  </thead>\n",
       "  <tbody>\n",
       "    <tr>\n",
       "      <th>0</th>\n",
       "      <td>2016-07-02T00:00:42+05:30</td>\n",
       "      <td>209</td>\n",
       "    </tr>\n",
       "    <tr>\n",
       "      <th>1</th>\n",
       "      <td>2016-07-02T00:01:12+05:30</td>\n",
       "      <td>2235</td>\n",
       "    </tr>\n",
       "    <tr>\n",
       "      <th>2</th>\n",
       "      <td>2016-07-02T00:01:42+05:30</td>\n",
       "      <td>2356</td>\n",
       "    </tr>\n",
       "    <tr>\n",
       "      <th>3</th>\n",
       "      <td>2016-07-02T00:02:12+05:30</td>\n",
       "      <td>2335</td>\n",
       "    </tr>\n",
       "    <tr>\n",
       "      <th>4</th>\n",
       "      <td>2016-07-02T00:02:42+05:30</td>\n",
       "      <td>2319</td>\n",
       "    </tr>\n",
       "  </tbody>\n",
       "</table>\n",
       "</div>"
      ],
      "text/plain": [
       "   2016-07-02T00:00:12+05:30   207\n",
       "0  2016-07-02T00:00:42+05:30   209\n",
       "1  2016-07-02T00:01:12+05:30  2235\n",
       "2  2016-07-02T00:01:42+05:30  2356\n",
       "3  2016-07-02T00:02:12+05:30  2335\n",
       "4  2016-07-02T00:02:42+05:30  2319"
      ]
     },
     "execution_count": 3,
     "metadata": {},
     "output_type": "execute_result"
    }
   ],
   "source": [
    "power.head()"
   ]
  },
  {
   "cell_type": "code",
   "execution_count": 4,
   "metadata": {
    "collapsed": false
   },
   "outputs": [
    {
     "data": {
      "text/plain": [
       "(23017, 2)"
      ]
     },
     "execution_count": 4,
     "metadata": {},
     "output_type": "execute_result"
    }
   ],
   "source": [
    "power.shape"
   ]
  },
  {
   "cell_type": "code",
   "execution_count": 5,
   "metadata": {
    "collapsed": true
   },
   "outputs": [],
   "source": [
    "def returnsample(power):\n",
    "    returnempty = []\n",
    "    for i in range(0,round(power.shape[0]/300)-1):\n",
    "        empty = []\n",
    "        empty = power[i*300+1:i*300+300]\n",
    "        returnempty.append(np.average(empty))\n",
    "        \n",
    "    empty = power[300*(round(power.shape[0]/300)-1):]\n",
    "    returnempty.append(np.average(empty))\n",
    "    \n",
    "    return returnempty"
   ]
  },
  {
   "cell_type": "code",
   "execution_count": 6,
   "metadata": {
    "collapsed": true
   },
   "outputs": [],
   "source": [
    "del power[\"2016-07-02T00:00:12+05:30\"]"
   ]
  },
  {
   "cell_type": "code",
   "execution_count": 7,
   "metadata": {
    "collapsed": false
   },
   "outputs": [],
   "source": [
    "data = returnsample(power)"
   ]
  },
  {
   "cell_type": "code",
   "execution_count": 8,
   "metadata": {
    "collapsed": false
   },
   "outputs": [
    {
     "data": {
      "text/plain": [
       "77"
      ]
     },
     "execution_count": 8,
     "metadata": {},
     "output_type": "execute_result"
    }
   ],
   "source": [
    "len(data)"
   ]
  },
  {
   "cell_type": "code",
   "execution_count": 9,
   "metadata": {
    "collapsed": false
   },
   "outputs": [],
   "source": [
    "train = data[0:round(len(data)*0.6)]"
   ]
  },
  {
   "cell_type": "code",
   "execution_count": 10,
   "metadata": {
    "collapsed": true
   },
   "outputs": [],
   "source": [
    "test = data[round(len(data)*0.6):]"
   ]
  },
  {
   "cell_type": "code",
   "execution_count": 11,
   "metadata": {
    "collapsed": false
   },
   "outputs": [
    {
     "data": {
      "text/plain": [
       "31"
      ]
     },
     "execution_count": 11,
     "metadata": {},
     "output_type": "execute_result"
    }
   ],
   "source": [
    "len(test)"
   ]
  },
  {
   "cell_type": "code",
   "execution_count": 12,
   "metadata": {
    "collapsed": false
   },
   "outputs": [
    {
     "data": {
      "text/plain": [
       "46"
      ]
     },
     "execution_count": 12,
     "metadata": {},
     "output_type": "execute_result"
    }
   ],
   "source": [
    "len(train)"
   ]
  },
  {
   "cell_type": "code",
   "execution_count": 9,
   "metadata": {
    "collapsed": false
   },
   "outputs": [
    {
     "data": {
      "image/png": "[encoded data removed]",
      "text/plain": [
       "<matplotlib.figure.Figure at 0x2c62f844e10>"
      ]
     },
     "metadata": {},
     "output_type": "display_data"
    }
   ],
   "source": [
    "fig = plt.figure(figsize=(12,8))\n",
    "ax1 = fig.add_subplot(211)\n",
    "fig = sm.graphics.tsa.plot_acf(data, lags=25, ax=ax1)\n",
    "ax2 = fig.add_subplot(212)\n",
    "fig = sm.graphics.tsa.plot_pacf(data, lags=25, ax=ax2)"
   ]
  },
  {
   "cell_type": "code",
   "execution_count": 10,
   "metadata": {
    "collapsed": false
   },
   "outputs": [
    {
     "data": {
      "image/png": "[encoded data removed]",
      "text/plain": [
       "<matplotlib.figure.Figure at 0x2c62fbd9ef0>"
      ]
     },
     "metadata": {},
     "output_type": "display_data"
    }
   ],
   "source": [
    "plt.plot(data)\n",
    "plt.show()"
   ]
  },
  {
   "cell_type": "code",
   "execution_count": 20,
   "metadata": {
    "collapsed": false
   },
   "outputs": [],
   "source": [
    "p = d = q = range(0, 2)\n",
    "pdq = list(itertools.product(p, d, q))\n",
    "seasonal_pdq = [(x[0], x[1], x[2], 1) for x in list(itertools.product(p, d, q))]"
   ]
  },
  {
   "cell_type": "code",
   "execution_count": 21,
   "metadata": {
    "collapsed": false
   },
   "outputs": [
    {
     "name": "stdout",
     "output_type": "stream",
     "text": [
      "ARIMA(0, 0, 0)x(0, 0, 1, 1)12 - AIC:1222.7454727494048\n",
      "ARIMA(0, 0, 0)x(0, 1, 1, 1)12 - AIC:1049.2875061942366\n",
      "ARIMA(0, 0, 0)x(1, 0, 0, 1)12 - AIC:1091.351730829052\n",
      "ARIMA(0, 0, 0)x(1, 0, 1, 1)12 - AIC:1063.0607000318462\n",
      "ARIMA(0, 0, 0)x(1, 1, 0, 1)12 - AIC:1078.7744290327462\n",
      "ARIMA(0, 0, 0)x(1, 1, 1, 1)12 - AIC:1041.6464136148727\n",
      "ARIMA(0, 0, 1)x(0, 0, 0, 1)12 - AIC:1222.7454727494048\n",
      "ARIMA(0, 0, 1)x(0, 0, 1, 1)12 - AIC:1172.8908978803088\n",
      "ARIMA(0, 0, 1)x(0, 1, 0, 1)12 - AIC:1049.2875061942366\n",
      "ARIMA(0, 0, 1)x(0, 1, 1, 1)12 - AIC:1052.848080917297\n",
      "ARIMA(0, 0, 1)x(1, 0, 0, 1)12 - AIC:1080.2269749833392\n",
      "ARIMA(0, 0, 1)x(1, 0, 1, 1)12 - AIC:1033.904625791548\n",
      "ARIMA(0, 0, 1)x(1, 1, 0, 1)12 - AIC:1041.6464145852801\n",
      "ARIMA(0, 0, 1)x(1, 1, 1, 1)12 - AIC:1021.5664597366313\n",
      "ARIMA(0, 1, 0)x(0, 0, 1, 1)12 - AIC:1049.2875061942366\n",
      "ARIMA(0, 1, 0)x(0, 1, 1, 1)12 - AIC:1054.78152249079\n",
      "ARIMA(0, 1, 0)x(1, 0, 0, 1)12 - AIC:1078.7744290327462\n",
      "ARIMA(0, 1, 0)x(1, 0, 1, 1)12 - AIC:1041.6464136148727\n",
      "ARIMA(0, 1, 0)x(1, 1, 0, 1)12 - AIC:1110.549189952894\n",
      "ARIMA(0, 1, 0)x(1, 1, 1, 1)12 - AIC:1056.7635143798245\n",
      "ARIMA(0, 1, 1)x(0, 0, 0, 1)12 - AIC:1049.2875061942366\n",
      "ARIMA(0, 1, 1)x(0, 0, 1, 1)12 - AIC:1052.848080917297\n",
      "ARIMA(0, 1, 1)x(0, 1, 0, 1)12 - AIC:1054.7815224908493\n",
      "ARIMA(0, 1, 1)x(0, 1, 1, 1)12 - AIC:1030.850933352669\n",
      "ARIMA(0, 1, 1)x(1, 0, 0, 1)12 - AIC:1041.6464145852801\n",
      "ARIMA(0, 1, 1)x(1, 0, 1, 1)12 - AIC:1021.5664597366313\n",
      "ARIMA(0, 1, 1)x(1, 1, 0, 1)12 - AIC:1056.7635143674604\n",
      "ARIMA(0, 1, 1)x(1, 1, 1, 1)12 - AIC:1024.8967993960605\n",
      "ARIMA(1, 0, 0)x(0, 0, 0, 1)12 - AIC:1091.351730829052\n",
      "ARIMA(1, 0, 0)x(0, 0, 1, 1)12 - AIC:1065.4496729743703\n",
      "ARIMA(1, 0, 0)x(0, 1, 0, 1)12 - AIC:1078.7744290327462\n",
      "ARIMA(1, 0, 0)x(0, 1, 1, 1)12 - AIC:1041.6464135564368\n",
      "ARIMA(1, 0, 0)x(1, 0, 0, 1)12 - AIC:1100.0405791407386\n",
      "ARIMA(1, 0, 0)x(1, 0, 1, 1)12 - AIC:1056.6922776422282\n",
      "ARIMA(1, 0, 0)x(1, 1, 0, 1)12 - AIC:1066.574126116482\n",
      "ARIMA(1, 0, 0)x(1, 1, 1, 1)12 - AIC:1041.128368119348\n",
      "ARIMA(1, 0, 1)x(0, 0, 0, 1)12 - AIC:1063.0607000318462\n",
      "ARIMA(1, 0, 1)x(0, 0, 1, 1)12 - AIC:1033.9049826249707\n",
      "ARIMA(1, 0, 1)x(0, 1, 0, 1)12 - AIC:1041.6464136148727\n",
      "ARIMA(1, 0, 1)x(0, 1, 1, 1)12 - AIC:1021.5664597003935\n",
      "ARIMA(1, 0, 1)x(1, 0, 0, 1)12 - AIC:1061.7730233479838\n",
      "ARIMA(1, 0, 1)x(1, 0, 1, 1)12 - AIC:1061.8864000576725\n",
      "ARIMA(1, 0, 1)x(1, 1, 0, 1)12 - AIC:1041.12836812094\n",
      "ARIMA(1, 0, 1)x(1, 1, 1, 1)12 - AIC:1029.458371693329\n",
      "ARIMA(1, 1, 0)x(0, 0, 0, 1)12 - AIC:1078.7744290327462\n",
      "ARIMA(1, 1, 0)x(0, 0, 1, 1)12 - AIC:1041.6464135564368\n",
      "ARIMA(1, 1, 0)x(0, 1, 0, 1)12 - AIC:1110.549189952894\n",
      "ARIMA(1, 1, 0)x(0, 1, 1, 1)12 - AIC:1056.7635143627306\n",
      "ARIMA(1, 1, 0)x(1, 0, 0, 1)12 - AIC:1066.574126116482\n",
      "ARIMA(1, 1, 0)x(1, 0, 1, 1)12 - AIC:1041.128368119348\n",
      "ARIMA(1, 1, 0)x(1, 1, 0, 1)12 - AIC:1096.8504484192001\n",
      "ARIMA(1, 1, 0)x(1, 1, 1, 1)12 - AIC:1058.7587843020515\n",
      "ARIMA(1, 1, 1)x(0, 0, 0, 1)12 - AIC:1041.6464136148727\n",
      "ARIMA(1, 1, 1)x(0, 0, 1, 1)12 - AIC:1021.5664597003935\n",
      "ARIMA(1, 1, 1)x(0, 1, 0, 1)12 - AIC:1056.7635143798054\n",
      "ARIMA(1, 1, 1)x(0, 1, 1, 1)12 - AIC:1024.8967994125962\n",
      "ARIMA(1, 1, 1)x(1, 0, 0, 1)12 - AIC:1041.12836812094\n",
      "ARIMA(1, 1, 1)x(1, 0, 1, 1)12 - AIC:1029.458371693329\n",
      "ARIMA(1, 1, 1)x(1, 1, 0, 1)12 - AIC:1058.7587842994667\n",
      "ARIMA(1, 1, 1)x(1, 1, 1, 1)12 - AIC:1024.675885109003\n",
      "Best param is:  (1, 0, 1)  Best Seasonal Param is:  (0, 1, 1, 1)  Best Result is:  1021.5664597\n"
     ]
    }
   ],
   "source": [
    "k = 300000\n",
    "newparam = 0,0,0\n",
    "newsparam = 0,0,0\n",
    "warnings.filterwarnings(\"ignore\")\n",
    "for param in pdq:\n",
    "    for param_seasonal in seasonal_pdq:\n",
    "     \n",
    "        try:\n",
    "            mod = sm.tsa.statespace.SARIMAX(data,order=param,\n",
    "                                            seasonal_order=param_seasonal,enforce_stationarity=False,\n",
    "                                            enforce_invertibility=False)\n",
    "\n",
    "            results = mod.fit()\n",
    "\n",
    "            print('ARIMA{}x{}12 - AIC:{}'.format(param, param_seasonal, results.aic))\n",
    "            #selecting the best result\n",
    "            if results.aic < k:\n",
    "                k = results.aic\n",
    "                newparam = param\n",
    "                newsparam = param_seasonal\n",
    "        except:\n",
    "            continue\n",
    "print(\"Best param is: \",newparam,\" Best Seasonal Param is: \", newsparam, \" Best Result is: \",k)"
   ]
  },
  {
   "cell_type": "code",
   "execution_count": 12,
   "metadata": {
    "collapsed": false
   },
   "outputs": [
    {
     "name": "stdout",
     "output_type": "stream",
     "text": [
      "==============================================================================\n",
      "                 coef    std err          z      P>|z|      [0.025      0.975]\n",
      "------------------------------------------------------------------------------\n",
      "ar.L1         -1.3822      0.381     -3.631      0.000      -2.128      -0.636\n",
      "ar.L2         -0.6842      0.439     -1.559      0.119      -1.544       0.176\n",
      "ar.L3         -0.2113      0.255     -0.828      0.408      -0.711       0.289\n",
      "ma.L1         -0.0035      2.321     -0.002      0.999      -4.552       4.545\n",
      "ma.L2         -0.9977      0.211     -4.728      0.000      -1.411      -0.584\n",
      "ar.S.L1       -0.1134      0.356     -0.319      0.750      -0.811       0.584\n",
      "ar.S.L2       -0.1115      0.387     -0.288      0.773      -0.871       0.648\n",
      "ar.S.L3       -0.4697      0.250     -1.879      0.060      -0.960       0.020\n",
      "sigma2      9.754e+04   2.32e-05   4.21e+09      0.000    9.75e+04    9.75e+04\n",
      "==============================================================================\n"
     ]
    },
    {
     "name": "stderr",
     "output_type": "stream",
     "text": [
      "C:\\Users\\sharan\\Anaconda3\\lib\\site-packages\\statsmodels\\base\\model.py:471: ConvergenceWarning: Maximum Likelihood optimization failed to converge. Check mle_retvals\n",
      "  \"Check mle_retvals\", ConvergenceWarning)\n"
     ]
    }
   ],
   "source": [
    "mod = sm.tsa.statespace.SARIMAX(data,\n",
    "                                order=(3, 1, 2),\n",
    "                                seasonal_order=(3, 3, 0, 1),\n",
    "                                enforce_stationarity=False,\n",
    "                                enforce_invertibility=False)\n",
    "\n",
    "results = mod.fit()\n",
    "\n",
    "print(results.summary().tables[1])"
   ]
  },
  {
   "cell_type": "code",
   "execution_count": 39,
   "metadata": {
    "collapsed": false
   },
   "outputs": [],
   "source": [
    "pred = results.get_prediction(dynamic=False)\n",
    "pred_ci = pred.conf_int()"
   ]
  },
  {
   "cell_type": "code",
   "execution_count": 42,
   "metadata": {
    "collapsed": false
   },
   "outputs": [
    {
     "data": {
      "text/html": [
       "<div>\n",
       "<table border=\"1\" class=\"dataframe\">\n",
       "  <thead>\n",
       "    <tr style=\"text-align: right;\">\n",
       "      <th></th>\n",
       "      <th>lower y</th>\n",
       "      <th>upper y</th>\n",
       "    </tr>\n",
       "  </thead>\n",
       "  <tbody>\n",
       "    <tr>\n",
       "      <th>0</th>\n",
       "      <td>-4382.612703</td>\n",
       "      <td>4382.612703</td>\n",
       "    </tr>\n",
       "    <tr>\n",
       "      <th>1</th>\n",
       "      <td>-1369.853591</td>\n",
       "      <td>6370.721003</td>\n",
       "    </tr>\n",
       "    <tr>\n",
       "      <th>2</th>\n",
       "      <td>-2476.905450</td>\n",
       "      <td>3607.981295</td>\n",
       "    </tr>\n",
       "    <tr>\n",
       "      <th>3</th>\n",
       "      <td>-983.964882</td>\n",
       "      <td>5260.884645</td>\n",
       "    </tr>\n",
       "    <tr>\n",
       "      <th>4</th>\n",
       "      <td>-1978.096795</td>\n",
       "      <td>4454.539758</td>\n",
       "    </tr>\n",
       "  </tbody>\n",
       "</table>\n",
       "</div>"
      ],
      "text/plain": [
       "       lower y      upper y\n",
       "0 -4382.612703  4382.612703\n",
       "1 -1369.853591  6370.721003\n",
       "2 -2476.905450  3607.981295\n",
       "3  -983.964882  5260.884645\n",
       "4 -1978.096795  4454.539758"
      ]
     },
     "execution_count": 42,
     "metadata": {},
     "output_type": "execute_result"
    }
   ],
   "source": [
    "pred_ci.head()"
   ]
  },
  {
   "cell_type": "code",
   "execution_count": 13,
   "metadata": {
    "collapsed": true
   },
   "outputs": [],
   "source": [
    "import tensorflow as tf"
   ]
  },
  {
   "cell_type": "code",
   "execution_count": 15,
   "metadata": {
    "collapsed": false
   },
   "outputs": [],
   "source": [
    "energy = pd.read_csv(\"energy.csv\")"
   ]
  },
  {
   "cell_type": "code",
   "execution_count": 16,
   "metadata": {
    "collapsed": false
   },
   "outputs": [],
   "source": [
    "del energy[\"2016-07-02T00:00:12+05:30\"]"
   ]
  },
  {
   "cell_type": "code",
   "execution_count": 17,
   "metadata": {
    "collapsed": true
   },
   "outputs": [],
   "source": [
    "energydata = returnsample(energy)"
   ]
  },
  {
   "cell_type": "code",
   "execution_count": 30,
   "metadata": {
    "collapsed": true
   },
   "outputs": [],
   "source": [
    "# PlaceHolder\n",
    "y = tf.placeholder(shape=[], dtype=tf.float32, name = \"y\")\n",
    "x = tf.placeholder(shape=[], dtype=tf.float32, name = \"y\")\n",
    "\n",
    "#Variable\n",
    "A = tf.Variable(1,dtype=tf.float32)\n",
    "\n",
    "#output\n",
    "output = tf.multiply(x,A)\n",
    "\n",
    "#using L2 loss\n",
    "loss = loss = tf.reduce_mean(tf.square(y - output))\n",
    "sess = tf.Session()"
   ]
  },
  {
   "cell_type": "code",
   "execution_count": 33,
   "metadata": {
    "collapsed": false
   },
   "outputs": [],
   "source": [
    "# Declare optimizer\n",
    "alpha = 0.001\n",
    "my_opt = tf.train.AdamOptimizer(alpha)\n",
    "train_step = my_opt.minimize(loss)\n",
    "\n",
    "# Initialize variables\n",
    "init = tf.global_variables_initializer()\n",
    "sess.run(init)"
   ]
  },
  {
   "cell_type": "code",
   "execution_count": 37,
   "metadata": {
    "collapsed": false
   },
   "outputs": [
    {
     "name": "stdout",
     "output_type": "stream",
     "text": [
      "1.08942\n",
      "1.09059\n",
      "1.09169\n",
      "1.09274\n",
      "1.09375\n",
      "1.0947\n",
      "1.09562\n",
      "1.0965\n",
      "1.09736\n",
      "1.09817\n",
      "1.09895\n",
      "1.09971\n",
      "1.10046\n",
      "1.10121\n",
      "1.10195\n",
      "1.10268\n",
      "1.10344\n",
      "1.10419\n",
      "1.10493\n",
      "1.10565\n",
      "1.10635\n",
      "1.10705\n",
      "1.10777\n",
      "1.10852\n",
      "1.10925\n",
      "1.11\n",
      "1.11076\n",
      "1.11154\n",
      "1.1123\n",
      "1.11305\n",
      "1.1138\n",
      "1.11458\n",
      "1.1154\n",
      "1.11625\n",
      "1.1171\n",
      "1.11797\n",
      "1.11887\n",
      "1.11977\n",
      "1.12067\n",
      "1.12156\n",
      "1.12245\n",
      "1.12337\n",
      "1.12434\n",
      "1.12531\n",
      "1.12629\n",
      "1.12731\n",
      "1.12836\n",
      "1.12941\n",
      "1.13044\n",
      "1.13146\n",
      "1.1325\n",
      "1.13357\n",
      "1.13467\n",
      "1.13577\n",
      "1.13689\n",
      "1.13805\n",
      "1.13923\n",
      "1.14039\n",
      "1.14154\n",
      "1.14269\n",
      "1.14388\n",
      "1.14512\n",
      "1.14636\n",
      "1.1476\n",
      "1.14887\n",
      "1.15015\n",
      "1.15142\n",
      "1.15265\n",
      "1.15385\n",
      "1.15507\n",
      "1.15633\n",
      "1.15762\n",
      "1.15892\n",
      "1.16023\n",
      "1.16156\n",
      "1.1629\n"
     ]
    }
   ],
   "source": [
    "aval = []\n",
    "for i in range(len(energydata)):\n",
    "    x_input = data[i]\n",
    "    y_input = energydata[i]\n",
    "    sess.run(train_step, feed_dict={x :x_input , y: y_input})\n",
    "    print(sess.run(A))\n",
    "    aval.append(sess.run(A))"
   ]
  },
  {
   "cell_type": "code",
   "execution_count": 43,
   "metadata": {
    "collapsed": true
   },
   "outputs": [],
   "source": [
    "# aval has the values of the physical model and pred_ci has the SARIMA "
   ]
  },
  {
   "cell_type": "code",
   "execution_count": null,
   "metadata": {
    "collapsed": true
   },
   "outputs": [],
   "source": []
  }
 ],
 "metadata": {
  "anaconda-cloud": {},
  "kernelspec": {
   "display_name": "Python [conda root]",
   "language": "python",
   "name": "conda-root-py"
  },
  "language_info": {
   "codemirror_mode": {
    "name": "ipython",
    "version": 3
   },
   "file_extension": ".py",
   "mimetype": "text/x-python",
   "name": "python",
   "nbconvert_exporter": "python",
   "pygments_lexer": "ipython3",
   "version": "3.5.2"
  }
 },
 "nbformat": 4,
 "nbformat_minor": 2
}
