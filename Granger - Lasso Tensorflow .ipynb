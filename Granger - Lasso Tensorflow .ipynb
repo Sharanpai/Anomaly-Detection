{
 "cells": [
  {
   "cell_type": "code",
   "execution_count": 1,
   "metadata": {
    "collapsed": false
   },
   "outputs": [
    {
     "name": "stdout",
     "output_type": "stream",
     "text": [
      "pandas: 0.18.1\n",
      "numpy: 1.13.1\n",
      "statsmodels: 0.8.0.dev0+302c2ec\n",
      "tensorflow: 1.2.0\n",
      "matplotlib: 2.0.0\n",
      "scipy: 0.18.1\n"
     ]
    }
   ],
   "source": [
    "import pandas as pd\n",
    "import numpy as np\n",
    "import statsmodels as stats\n",
    "import tensorflow as tf\n",
    "import matplotlib\n",
    "import matplotlib.pyplot as plt\n",
    "import scipy \n",
    "from statsmodels.tsa.stattools  import   grangercausalitytests\n",
    "\n",
    "print('pandas: %s' % pd.__version__)\n",
    "print('numpy: %s' % np.__version__)\n",
    "print('statsmodels: %s' % stats.__version__)\n",
    "print('tensorflow: %s' % tf.__version__)\n",
    "print('matplotlib: %s' % matplotlib.__version__)\n",
    "print('scipy: %s' % scipy.__version__)"
   ]
  },
  {
   "cell_type": "code",
   "execution_count": 2,
   "metadata": {
    "collapsed": false
   },
   "outputs": [],
   "source": [
    "# input the data\n",
    "amb_temp = pd.read_csv(\"amb_temp.csv\")\n",
    "comp_temp = pd.read_csv(\"comp_temp.csv\")\n",
    "mcu_temp = pd.read_csv(\"mcu_temp.csv\")\n",
    "current = pd.read_csv(\"current.csv\")\n",
    "door = pd.read_csv(\"door.csv\")\n",
    "energy = pd.read_csv(\"energy.csv\")\n",
    "power = pd.read_csv(\"power.csv\")\n",
    "power_factor = pd.read_csv(\"power_factor.csv\")\n",
    "voltage = pd.read_csv(\"voltage.csv\")\n",
    "zcontrol = pd.read_csv(\"zcontrol.csv\")\n",
    "\n",
    "#mearging the data and a bit cleaning.\n",
    "data = pd.concat([amb_temp, comp_temp, mcu_temp ,current ,door,energy ,power ,power_factor ,voltage ,zcontrol], axis = 1)\n",
    "data.columns = [\"date\",'amb_temp', \"date\",'comp_temp', \"date\",'mcu_temp' ,\"date\",'current' ,\"date\",'door',\"date\",'energy' ,\"date\",'power' ,\"date\",'power_factor' ,\"date\",'voltage' ,\"date\",'zcontrol']\n",
    "data = data[['amb_temp','comp_temp','mcu_temp' ,'current' ,'door','energy' ,'power' ,'power_factor' ,'voltage' ,'zcontrol']]\n",
    "#data.fillna(data.mean, inplace=True)\n",
    "doorarray = np.array(data[\"door\"].values)\n",
    "currentarray = np.array(data[\"current\"].values)\n",
    "amb_temparray = np.array(data[\"amb_temp\"].values)\n",
    "comp_temparray = np.array(data[\"comp_temp\"].values)\n",
    "mcu_temparray = np.array(data[\"mcu_temp\"].values)\n",
    "energyarray = np.array(data[\"energy\"].values)\n",
    "powerarray = np.array(data[\"power\"].values)\n",
    "power_factorarray = np.array(data[\"power_factor\"].values)\n",
    "voltagearray = np.array(data[\"voltage\"].values)\n",
    "zcontrolarray = np.array(data[\"zcontrol\"].values)"
   ]
  },
  {
   "cell_type": "code",
   "execution_count": 3,
   "metadata": {
    "collapsed": false
   },
   "outputs": [],
   "source": [
    "xcurrent = tf.placeholder(shape=[], dtype=tf.float32, name = \"xcurrent\")\n",
    "xprev = tf.placeholder(shape=[], dtype=tf.float32, name = \"xprev\")\n",
    "\n",
    "# make results reproducible\n",
    "seed = 13\n",
    "np.random.seed(seed)\n",
    "tf.set_random_seed(seed)\n",
    "\n",
    "# Create variables for Granger-Lasso\n",
    "A = tf.Variable(1,dtype=tf.float32)\n",
    "\n",
    "#Output is xcurrent = A*xprev\n",
    "model_output = tf.multiply(xprev, A)"
   ]
  },
  {
   "cell_type": "code",
   "execution_count": 4,
   "metadata": {
    "collapsed": false
   },
   "outputs": [],
   "source": [
    "loss = tf.square(tf.abs(tf.subtract(xcurrent,tf.multiply(xprev,model_output))))"
   ]
  },
  {
   "cell_type": "code",
   "execution_count": 18,
   "metadata": {
    "collapsed": false
   },
   "outputs": [],
   "source": [
    "alpha = 0.0001\n",
    "my_opt = tf.train.GradientDescentOptimizer(alpha)\n",
    "train_step = my_opt.minimize(loss)"
   ]
  },
  {
   "cell_type": "code",
   "execution_count": 19,
   "metadata": {
    "collapsed": false
   },
   "outputs": [],
   "source": [
    "sess = tf.Session()\n",
    "init = tf.global_variables_initializer()\n",
    "sess.run(init)"
   ]
  },
  {
   "cell_type": "code",
   "execution_count": 20,
   "metadata": {
    "collapsed": false
   },
   "outputs": [
    {
     "name": "stdout",
     "output_type": "stream",
     "text": [
      "xcurrent is  1  xprev is  1  A is  1.0\n",
      "xcurrent is  1  xprev is  1  A is  1.0\n",
      "xcurrent is  1  xprev is  1  A is  1.0\n",
      "xcurrent is  1  xprev is  1  A is  1.0\n",
      "xcurrent is  1  xprev is  1  A is  1.0\n"
     ]
    }
   ],
   "source": [
    "refdoor = []\n",
    "for i in range(100):\n",
    "    sess.run(train_step, feed_dict={xcurrent: doorarray[i+1], xprev:doorarray[i]}) \n",
    "    Adoor = sess.run(A)\n",
    "    refdoor.append(Adoor)\n",
    "    assign_op = A.assign(1)\n",
    "    sess.run(assign_op)\n",
    "    if i%20 == 0:\n",
    "        print(\"xcurrent is \", doorarray[i+1],\" xprev is \",doorarray[i],\" A is \",Adoor)"
   ]
  },
  {
   "cell_type": "code",
   "execution_count": 21,
   "metadata": {
    "collapsed": false
   },
   "outputs": [
    {
     "name": "stdout",
     "output_type": "stream",
     "text": [
      "xcurrent is  10.20899963  xprev is  0.874000013  A is  1.00144\n",
      "xcurrent is  0.870000005  xprev is  0.866999984  A is  1.00002\n",
      "xcurrent is  0.875  xprev is  0.874000013  A is  1.00002\n",
      "xcurrent is  0.875  xprev is  0.874000013  A is  1.00002\n",
      "xcurrent is  0.870000005  xprev is  0.876999974  A is  1.00002\n"
     ]
    }
   ],
   "source": [
    "refcurrent = []\n",
    "for i in range(100):\n",
    "    sess.run(train_step, feed_dict={xcurrent: currentarray[i+1], xprev: currentarray[i]}) \n",
    "    Acurrent = sess.run(A)\n",
    "    refcurrent.append(Acurrent)\n",
    "    assign_op = A.assign(1)\n",
    "    sess.run(assign_op)\n",
    "    if i%20 == 0:\n",
    "        print(\"xcurrent is \", currentarray[i+1],\" xprev is \",currentarray[i],\" A is \",Acurrent)"
   ]
  },
  {
   "cell_type": "code",
   "execution_count": 22,
   "metadata": {
    "collapsed": false
   },
   "outputs": [
    {
     "name": "stdout",
     "output_type": "stream",
     "text": [
      "xcurrent is  2235.0  xprev is  209.0  A is  -362080.0\n",
      "xcurrent is  207.0  xprev is  207.0  A is  -365432.0\n",
      "xcurrent is  209.0  xprev is  209.0  A is  -379779.0\n",
      "xcurrent is  210.0  xprev is  209.0  A is  -379770.0\n",
      "xcurrent is  208.0  xprev is  210.0  A is  -387126.0\n"
     ]
    }
   ],
   "source": [
    "refpower = []\n",
    "for i in range(100):\n",
    "    sess.run(train_step, feed_dict={xcurrent: powerarray[i+1], xprev: powerarray[i]}) \n",
    "    Apower = sess.run(A)\n",
    "    refpower.append(Apower)\n",
    "    assign_op = A.assign(1)\n",
    "    sess.run(assign_op)\n",
    "    if i%20 == 0:\n",
    "        print(\"xcurrent is \", powerarray[i+1],\" xprev is \",powerarray[i],\" A is \",Apower)"
   ]
  },
  {
   "cell_type": "code",
   "execution_count": 23,
   "metadata": {
    "collapsed": false
   },
   "outputs": [
    {
     "name": "stdout",
     "output_type": "stream",
     "text": [
      "xcurrent is  0.889999986  xprev is  0.970000029  A is  0.99999\n",
      "xcurrent is  0.970000029  xprev is  0.970000029  A is  1.00001\n",
      "xcurrent is  0.970000029  xprev is  0.970000029  A is  1.00001\n",
      "xcurrent is  0.970000029  xprev is  0.970000029  A is  1.00001\n",
      "xcurrent is  0.970000029  xprev is  0.970000029  A is  1.00001\n"
     ]
    }
   ],
   "source": [
    "refpower_factor = []\n",
    "for i in range(100):\n",
    "    sess.run(train_step, feed_dict={xcurrent: power_factorarray[i+1], xprev: power_factorarray[i]}) \n",
    "    Apower_factor = sess.run(A)\n",
    "    refpower_factor.append(Apower_factor)\n",
    "    assign_op = A.assign(1)\n",
    "    sess.run(assign_op)\n",
    "    if i%20 == 0:\n",
    "        print(\"xcurrent is \", power_factorarray[i+1],\" xprev is \",power_factorarray[i],\" A is \",Apower_factor)"
   ]
  },
  {
   "cell_type": "code",
   "execution_count": 24,
   "metadata": {
    "collapsed": true
   },
   "outputs": [],
   "source": [
    "#sess = tf.Session()\n",
    "#init = tf.global_variables_initializer()\n",
    "#sess.run(init)"
   ]
  },
  {
   "cell_type": "code",
   "execution_count": 25,
   "metadata": {
    "collapsed": false
   },
   "outputs": [
    {
     "name": "stdout",
     "output_type": "stream",
     "text": [
      "xcurrent is  132556.0  xprev is  132556.0  A is  -6.17482e+16\n",
      "xcurrent is  132748.0  xprev is  132724.0  A is  -6.20618e+16\n",
      "xcurrent is  132940.0  xprev is  132916.0  A is  -6.24217e+16\n",
      "xcurrent is  133132.0  xprev is  133108.0  A is  -6.27832e+16\n",
      "xcurrent is  133300.0  xprev is  133300.0  A is  -6.31462e+16\n"
     ]
    }
   ],
   "source": [
    "refenergy = []\n",
    "for i in range(100):\n",
    "    sess.run(train_step, feed_dict={xcurrent: energyarray[i+1], xprev: energyarray[i]}) \n",
    "    Aenergy = sess.run(A)\n",
    "    refenergy.append(Aenergy)\n",
    "    assign_op = A.assign(1)\n",
    "    sess.run(assign_op)\n",
    "    if i%20 == 0:\n",
    "        print(\"xcurrent is \", energyarray[i+1],\" xprev is \", energyarray[i],\" A is \", Aenergy)  "
   ]
  },
  {
   "cell_type": "code",
   "execution_count": 26,
   "metadata": {
    "collapsed": false
   },
   "outputs": [
    {
     "name": "stdout",
     "output_type": "stream",
     "text": [
      "xcurrent is  244.5  xprev is  248.3999939  A is  -758423.0\n",
      "xcurrent is  247.8000031  xprev is  248.0  A is  -753499.0\n",
      "xcurrent is  248.1999969  xprev is  248.3000031  A is  -757154.0\n",
      "xcurrent is  249.0  xprev is  248.6000061  A is  -760818.0\n",
      "xcurrent is  249.0  xprev is  248.8999939  A is  -764504.0\n"
     ]
    }
   ],
   "source": [
    "refvoltage = []\n",
    "for i in range(100):\n",
    "    sess.run(train_step, feed_dict={xcurrent: voltagearray[i+1], xprev: voltagearray[i]}) \n",
    "    Avoltage = sess.run(A)\n",
    "    refvoltage.append(Avoltage)\n",
    "    assign_op = A.assign(1)\n",
    "    sess.run(assign_op)\n",
    "    if i%20 == 0:\n",
    "        print(\"xcurrent is \", voltagearray[i+1],\" xprev is \", voltagearray[i],\" A is \", Avoltage)"
   ]
  },
  {
   "cell_type": "code",
   "execution_count": 27,
   "metadata": {
    "collapsed": false
   },
   "outputs": [
    {
     "name": "stdout",
     "output_type": "stream",
     "text": [
      "xcurrent is  27.937  xprev is  27.937  A is  -116.468\n",
      "xcurrent is  28.0  xprev is  28.0  A is  -117.541\n",
      "xcurrent is  28.187  xprev is  28.187  A is  -120.769\n",
      "xcurrent is  28.25  xprev is  28.25  A is  -121.872\n",
      "xcurrent is  28.5  xprev is  28.5  A is  -126.32\n"
     ]
    }
   ],
   "source": [
    "refamb_temp = []\n",
    "for i in range(100):\n",
    "    sess.run(train_step, feed_dict={xcurrent: amb_temparray[i+1], xprev: amb_temparray[i]}) \n",
    "    Aamb_temp = sess.run(A)\n",
    "    refamb_temp.append(Aamb_temp)\n",
    "    assign_op = A.assign(1)\n",
    "    sess.run(assign_op)\n",
    "    if i%20 == 0:\n",
    "        print(\"xcurrent is \", amb_temparray[i+1],\" xprev is \", amb_temparray[i],\" A is \", Aamb_temp) "
   ]
  },
  {
   "cell_type": "code",
   "execution_count": 28,
   "metadata": {
    "collapsed": false
   },
   "outputs": [
    {
     "name": "stdout",
     "output_type": "stream",
     "text": [
      "xcurrent is  24.312  xprev is  24.562  A is  -68.8588\n",
      "xcurrent is  24.687  xprev is  25.062  A is  -74.8017\n",
      "xcurrent is  24.687  xprev is  25.875  A is  -85.3446\n",
      "xcurrent is  25.437  xprev is  27.062  A is  -102.542\n",
      "xcurrent is  26.625  xprev is  29.25  A is  -140.842\n"
     ]
    }
   ],
   "source": [
    "refcomp_temp = []\n",
    "for i in range(100):\n",
    "    sess.run(train_step, feed_dict={xcurrent: comp_temparray[i+1], xprev: comp_temparray[i]}) \n",
    "    Acomp_temp = sess.run(A)\n",
    "    refcomp_temp.append(Acomp_temp)\n",
    "    assign_op = A.assign(1)\n",
    "    sess.run(assign_op)\n",
    "    if i%20 == 0:\n",
    "        print(\"xcurrent is \", comp_temparray[i+1],\" xprev is \", comp_temparray[i],\" A is \", Acomp_temp)   "
   ]
  },
  {
   "cell_type": "code",
   "execution_count": 29,
   "metadata": {
    "collapsed": false
   },
   "outputs": [
    {
     "name": "stdout",
     "output_type": "stream",
     "text": [
      "xcurrent is  9.312  xprev is  9.187  A is  -0.267516\n",
      "xcurrent is  9.25  xprev is  9.062  A is  -0.196812\n",
      "xcurrent is  9.125  xprev is  8.937  A is  -0.13008\n",
      "xcurrent is  9.062  xprev is  8.812  A is  -0.0652112\n",
      "xcurrent is  8.875  xprev is  8.625  A is  0.0252504\n"
     ]
    }
   ],
   "source": [
    "refmcu_temp = []\n",
    "for i in range(100):\n",
    "    sess.run(train_step, feed_dict={xcurrent: mcu_temparray[i+1], xprev: mcu_temparray[i]}) \n",
    "    Amcu_temp = sess.run(A)\n",
    "    refmcu_temp.append(Amcu_temp)\n",
    "    assign_op = A.assign(1)\n",
    "    sess.run(assign_op)\n",
    "    if i%20 == 0:\n",
    "        print(\"xcurrent is \", mcu_temparray[i+1],\" xprev is \", mcu_temparray[i],\" A is \", Amcu_temp)"
   ]
  },
  {
   "cell_type": "code",
   "execution_count": null,
   "metadata": {
    "collapsed": true
   },
   "outputs": [],
   "source": []
  },
  {
   "cell_type": "code",
   "execution_count": 22,
   "metadata": {
    "collapsed": false
   },
   "outputs": [
    {
     "name": "stderr",
     "output_type": "stream",
     "text": [
      "C:\\Users\\sharan\\Anaconda3\\lib\\site-packages\\numpy\\lib\\function_base.py:4269: RuntimeWarning: Invalid value encountered in percentile\n",
      "  interpolation=interpolation)\n"
     ]
    },
    {
     "data": {
      "text/html": [
       "<div>\n",
       "<table border=\"1\" class=\"dataframe\">\n",
       "  <thead>\n",
       "    <tr style=\"text-align: right;\">\n",
       "      <th></th>\n",
       "      <th>amb_temp</th>\n",
       "      <th>comp_temp</th>\n",
       "      <th>mcu_temp</th>\n",
       "      <th>current</th>\n",
       "      <th>door</th>\n",
       "      <th>energy</th>\n",
       "      <th>power</th>\n",
       "      <th>power_factor</th>\n",
       "      <th>voltage</th>\n",
       "      <th>zcontrol</th>\n",
       "    </tr>\n",
       "  </thead>\n",
       "  <tbody>\n",
       "    <tr>\n",
       "      <th>count</th>\n",
       "      <td>23020.000000</td>\n",
       "      <td>23020.000000</td>\n",
       "      <td>23020.000000</td>\n",
       "      <td>23017.000000</td>\n",
       "      <td>23020.000000</td>\n",
       "      <td>22694.000000</td>\n",
       "      <td>23017.000000</td>\n",
       "      <td>23017.000000</td>\n",
       "      <td>23017.000000</td>\n",
       "      <td>23020.0</td>\n",
       "    </tr>\n",
       "    <tr>\n",
       "      <th>mean</th>\n",
       "      <td>29.888196</td>\n",
       "      <td>31.885758</td>\n",
       "      <td>9.059751</td>\n",
       "      <td>6.261266</td>\n",
       "      <td>0.909861</td>\n",
       "      <td>262060.419847</td>\n",
       "      <td>1389.522483</td>\n",
       "      <td>0.933945</td>\n",
       "      <td>246.338398</td>\n",
       "      <td>1.0</td>\n",
       "    </tr>\n",
       "    <tr>\n",
       "      <th>std</th>\n",
       "      <td>2.930325</td>\n",
       "      <td>4.706552</td>\n",
       "      <td>0.740041</td>\n",
       "      <td>4.976801</td>\n",
       "      <td>0.286387</td>\n",
       "      <td>77652.080031</td>\n",
       "      <td>1090.411178</td>\n",
       "      <td>0.034697</td>\n",
       "      <td>5.024132</td>\n",
       "      <td>0.0</td>\n",
       "    </tr>\n",
       "    <tr>\n",
       "      <th>min</th>\n",
       "      <td>23.812000</td>\n",
       "      <td>19.687000</td>\n",
       "      <td>7.625000</td>\n",
       "      <td>0.819000</td>\n",
       "      <td>0.000000</td>\n",
       "      <td>132556.000000</td>\n",
       "      <td>187.000000</td>\n",
       "      <td>0.840000</td>\n",
       "      <td>232.699997</td>\n",
       "      <td>1.0</td>\n",
       "    </tr>\n",
       "    <tr>\n",
       "      <th>25%</th>\n",
       "      <td>27.750000</td>\n",
       "      <td>28.062000</td>\n",
       "      <td>8.562000</td>\n",
       "      <td>NaN</td>\n",
       "      <td>1.000000</td>\n",
       "      <td>NaN</td>\n",
       "      <td>NaN</td>\n",
       "      <td>NaN</td>\n",
       "      <td>NaN</td>\n",
       "      <td>1.0</td>\n",
       "    </tr>\n",
       "    <tr>\n",
       "      <th>50%</th>\n",
       "      <td>29.437000</td>\n",
       "      <td>32.000000</td>\n",
       "      <td>8.937000</td>\n",
       "      <td>NaN</td>\n",
       "      <td>1.000000</td>\n",
       "      <td>NaN</td>\n",
       "      <td>NaN</td>\n",
       "      <td>NaN</td>\n",
       "      <td>NaN</td>\n",
       "      <td>1.0</td>\n",
       "    </tr>\n",
       "    <tr>\n",
       "      <th>75%</th>\n",
       "      <td>31.687000</td>\n",
       "      <td>35.375000</td>\n",
       "      <td>9.312000</td>\n",
       "      <td>NaN</td>\n",
       "      <td>1.000000</td>\n",
       "      <td>NaN</td>\n",
       "      <td>NaN</td>\n",
       "      <td>NaN</td>\n",
       "      <td>NaN</td>\n",
       "      <td>1.0</td>\n",
       "    </tr>\n",
       "    <tr>\n",
       "      <th>max</th>\n",
       "      <td>37.750000</td>\n",
       "      <td>44.062000</td>\n",
       "      <td>14.375000</td>\n",
       "      <td>19.261000</td>\n",
       "      <td>1.000000</td>\n",
       "      <td>399124.000000</td>\n",
       "      <td>2792.000000</td>\n",
       "      <td>0.980000</td>\n",
       "      <td>260.299988</td>\n",
       "      <td>1.0</td>\n",
       "    </tr>\n",
       "  </tbody>\n",
       "</table>\n",
       "</div>"
      ],
      "text/plain": [
       "           amb_temp     comp_temp      mcu_temp       current          door  \\\n",
       "count  23020.000000  23020.000000  23020.000000  23017.000000  23020.000000   \n",
       "mean      29.888196     31.885758      9.059751      6.261266      0.909861   \n",
       "std        2.930325      4.706552      0.740041      4.976801      0.286387   \n",
       "min       23.812000     19.687000      7.625000      0.819000      0.000000   \n",
       "25%       27.750000     28.062000      8.562000           NaN      1.000000   \n",
       "50%       29.437000     32.000000      8.937000           NaN      1.000000   \n",
       "75%       31.687000     35.375000      9.312000           NaN      1.000000   \n",
       "max       37.750000     44.062000     14.375000     19.261000      1.000000   \n",
       "\n",
       "              energy         power  power_factor       voltage  zcontrol  \n",
       "count   22694.000000  23017.000000  23017.000000  23017.000000   23020.0  \n",
       "mean   262060.419847   1389.522483      0.933945    246.338398       1.0  \n",
       "std     77652.080031   1090.411178      0.034697      5.024132       0.0  \n",
       "min    132556.000000    187.000000      0.840000    232.699997       1.0  \n",
       "25%              NaN           NaN           NaN           NaN       1.0  \n",
       "50%              NaN           NaN           NaN           NaN       1.0  \n",
       "75%              NaN           NaN           NaN           NaN       1.0  \n",
       "max    399124.000000   2792.000000      0.980000    260.299988       1.0  "
      ]
     },
     "execution_count": 22,
     "metadata": {},
     "output_type": "execute_result"
    }
   ],
   "source": [
    "data.describe()"
   ]
  },
  {
   "cell_type": "code",
   "execution_count": 23,
   "metadata": {
    "collapsed": false
   },
   "outputs": [
    {
     "data": {
      "text/plain": [
       "array([1], dtype=int64)"
      ]
     },
     "execution_count": 23,
     "metadata": {},
     "output_type": "execute_result"
    }
   ],
   "source": [
    "# I have not used zcontrol because there is only one value in it, hence making it pointless.\n",
    "data.zcontrol.unique()"
   ]
  },
  {
   "cell_type": "code",
   "execution_count": 32,
   "metadata": {
    "collapsed": false
   },
   "outputs": [],
   "source": [
    "matrix = np.matrix([refdoor, refcurrent, refpower, refpower_factor, refamb_temp, refcomp_temp, refmcu_temp, refenergy, refvoltage])"
   ]
  },
  {
   "cell_type": "code",
   "execution_count": null,
   "metadata": {
    "collapsed": true
   },
   "outputs": [],
   "source": [
    "referancedata = pd.DataFrame"
   ]
  }
 ],
 "metadata": {
  "anaconda-cloud": {},
  "kernelspec": {
   "display_name": "Python [conda root]",
   "language": "python",
   "name": "conda-root-py"
  },
  "language_info": {
   "codemirror_mode": {
    "name": "ipython",
    "version": 3
   },
   "file_extension": ".py",
   "mimetype": "text/x-python",
   "name": "python",
   "nbconvert_exporter": "python",
   "pygments_lexer": "ipython3",
   "version": "3.5.2"
  }
 },
 "nbformat": 4,
 "nbformat_minor": 2
}
