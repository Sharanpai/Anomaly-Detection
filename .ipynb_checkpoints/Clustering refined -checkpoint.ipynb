{
 "cells": [
  {
   "cell_type": "code",
   "execution_count": 1,
   "metadata": {
    "collapsed": false
   },
   "outputs": [
    {
     "data": {
      "text/html": [
       "<script>requirejs.config({paths: { 'plotly': ['https://cdn.plot.ly/plotly-latest.min']},});if(!window.Plotly) {{require(['plotly'],function(plotly) {window.Plotly=plotly;});}}</script>"
      ],
      "text/vnd.plotly.v1+html": [
       "<script>requirejs.config({paths: { 'plotly': ['https://cdn.plot.ly/plotly-latest.min']},});if(!window.Plotly) {{require(['plotly'],function(plotly) {window.Plotly=plotly;});}}</script>"
      ]
     },
     "metadata": {},
     "output_type": "display_data"
    }
   ],
   "source": [
    "# importing most of the libraries \n",
    "import numpy as np\n",
    "import pandas as pd\n",
    "import collections\n",
    "\n",
    "import matplotlib\n",
    "% matplotlib inline\n",
    "\n",
    "from matplotlib import cm\n",
    "import matplotlib.pyplot as plt\n",
    "\n",
    "import plotly.offline as py\n",
    "py.init_notebook_mode(connected=True)\n",
    "import plotly.graph_objs as go\n",
    "import plotly.tools as tls\n",
    "\n",
    "from collections import Counter\n",
    "\n",
    "from sklearn.cluster import KMeans, DBSCAN"
   ]
  },
  {
   "cell_type": "markdown",
   "metadata": {},
   "source": [
    "# Preprocess Data"
   ]
  },
  {
   "cell_type": "code",
   "execution_count": 2,
   "metadata": {
    "collapsed": false
   },
   "outputs": [],
   "source": [
    "power_path = \"../../../data/testing/power.csv\" # \"power.csv\"\n",
    "df_in = pd.read_csv(power_path, index_col=[0], parse_dates=True, names=[\"dt\", \"power\"])\n",
    "\n",
    "pf_path = \"../../../data/testing/power_factor.csv\"\n",
    "df_in[\"pf\"] = pd.read_csv(pf_path, index_col=[0], parse_dates=True, names=[\"dt\", \"pf\"])"
   ]
  },
  {
   "cell_type": "code",
   "execution_count": 3,
   "metadata": {
    "collapsed": false
   },
   "outputs": [
    {
     "data": {
      "text/html": [
       "<div>\n",
       "<table border=\"1\" class=\"dataframe\">\n",
       "  <thead>\n",
       "    <tr style=\"text-align: right;\">\n",
       "      <th></th>\n",
       "      <th>power</th>\n",
       "      <th>pf</th>\n",
       "      <th>theta</th>\n",
       "      <th>active</th>\n",
       "      <th>reactive</th>\n",
       "    </tr>\n",
       "    <tr>\n",
       "      <th>dt</th>\n",
       "      <th></th>\n",
       "      <th></th>\n",
       "      <th></th>\n",
       "      <th></th>\n",
       "      <th></th>\n",
       "    </tr>\n",
       "  </thead>\n",
       "  <tbody>\n",
       "    <tr>\n",
       "      <th>2016-07-01 18:30:12</th>\n",
       "      <td>207</td>\n",
       "      <td>0.97</td>\n",
       "      <td>0.245565</td>\n",
       "      <td>200.790006</td>\n",
       "      <td>50.322694</td>\n",
       "    </tr>\n",
       "    <tr>\n",
       "      <th>2016-07-01 18:30:42</th>\n",
       "      <td>209</td>\n",
       "      <td>0.97</td>\n",
       "      <td>0.245565</td>\n",
       "      <td>202.730006</td>\n",
       "      <td>50.808903</td>\n",
       "    </tr>\n",
       "    <tr>\n",
       "      <th>2016-07-01 18:31:12</th>\n",
       "      <td>2235</td>\n",
       "      <td>0.89</td>\n",
       "      <td>0.473451</td>\n",
       "      <td>1989.149969</td>\n",
       "      <td>1019.071834</td>\n",
       "    </tr>\n",
       "    <tr>\n",
       "      <th>2016-07-01 18:31:42</th>\n",
       "      <td>2356</td>\n",
       "      <td>0.90</td>\n",
       "      <td>0.451027</td>\n",
       "      <td>2120.399943</td>\n",
       "      <td>1026.956708</td>\n",
       "    </tr>\n",
       "    <tr>\n",
       "      <th>2016-07-01 18:32:12</th>\n",
       "      <td>2335</td>\n",
       "      <td>0.90</td>\n",
       "      <td>0.451027</td>\n",
       "      <td>2101.499944</td>\n",
       "      <td>1017.803019</td>\n",
       "    </tr>\n",
       "  </tbody>\n",
       "</table>\n",
       "</div>"
      ],
      "text/plain": [
       "                     power    pf     theta       active     reactive\n",
       "dt                                                                  \n",
       "2016-07-01 18:30:12    207  0.97  0.245565   200.790006    50.322694\n",
       "2016-07-01 18:30:42    209  0.97  0.245565   202.730006    50.808903\n",
       "2016-07-01 18:31:12   2235  0.89  0.473451  1989.149969  1019.071834\n",
       "2016-07-01 18:31:42   2356  0.90  0.451027  2120.399943  1026.956708\n",
       "2016-07-01 18:32:12   2335  0.90  0.451027  2101.499944  1017.803019"
      ]
     },
     "execution_count": 3,
     "metadata": {},
     "output_type": "execute_result"
    }
   ],
   "source": [
    "df_in[\"theta\"] = np.arccos(df_in[\"pf\"])\n",
    "df_in[\"active\"] = np.cos(df_in[\"theta\"]) * df_in[\"power\"]\n",
    "df_in[\"reactive\"] = np.sin(df_in[\"theta\"]) * df_in[\"power\"]\n",
    "\n",
    "df_in.head()"
   ]
  },
  {
   "cell_type": "code",
   "execution_count": 4,
   "metadata": {
    "collapsed": true
   },
   "outputs": [],
   "source": [
    "df_rs = df_in.resample('1T').mean().dropna()"
   ]
  },
  {
   "cell_type": "code",
   "execution_count": 5,
   "metadata": {
    "collapsed": false
   },
   "outputs": [
    {
     "data": {
      "image/png": "[encoded data removed]",
      "text/plain": [
       "<matplotlib.figure.Figure at 0x104e40090>"
      ]
     },
     "metadata": {},
     "output_type": "display_data"
    }
   ],
   "source": [
    "df_rs.plot(kind='scatter', x='active', y='pf')\n",
    "\n",
    "plt.xlabel('Active Power')\n",
    "plt.ylabel('Power Factor')\n",
    "\n",
    "plt.tight_layout()\n",
    "plt.savefig('../../../figures/raw/clusters.pdf')"
   ]
  },
  {
   "cell_type": "markdown",
   "metadata": {},
   "source": [
    "# Cluster States of Appliance"
   ]
  },
  {
   "cell_type": "code",
   "execution_count": 6,
   "metadata": {
    "collapsed": true
   },
   "outputs": [],
   "source": [
    "bindx = int(0.7 * df_in.shape[0])"
   ]
  },
  {
   "cell_type": "code",
   "execution_count": 7,
   "metadata": {
    "collapsed": false
   },
   "outputs": [],
   "source": [
    "df_train = df_rs.ix[:bindx]"
   ]
  },
  {
   "cell_type": "code",
   "execution_count": 8,
   "metadata": {
    "collapsed": false
   },
   "outputs": [
    {
     "data": {
      "text/plain": [
       "DBSCAN(algorithm='auto', eps=50, leaf_size=30, metric='euclidean',\n",
       "    min_samples=10, n_jobs=1, p=None)"
      ]
     },
     "execution_count": 8,
     "metadata": {},
     "output_type": "execute_result"
    }
   ],
   "source": [
    "db = DBSCAN(eps=50, min_samples=10)\n",
    "db.fit(df_train)"
   ]
  },
  {
   "cell_type": "code",
   "execution_count": 9,
   "metadata": {
    "collapsed": false
   },
   "outputs": [],
   "source": [
    "labels = db.labels_\n",
    "\n",
    "# Number of clusters in labels, ignoring noise if present.\n",
    "n_clusters_ = len(set(labels)) - (1 if -1 in labels else 0)"
   ]
  },
  {
   "cell_type": "code",
   "execution_count": 10,
   "metadata": {
    "collapsed": false
   },
   "outputs": [],
   "source": [
    "df_rs[\"labels\"] = labels"
   ]
  },
  {
   "cell_type": "code",
   "execution_count": 11,
   "metadata": {
    "collapsed": false
   },
   "outputs": [],
   "source": [
    "df_t1 = df_rs[df_rs[\"labels\"] != -1]"
   ]
  },
  {
   "cell_type": "code",
   "execution_count": 12,
   "metadata": {
    "collapsed": false
   },
   "outputs": [
    {
     "data": {
      "text/plain": [
       "<matplotlib.text.Text at 0x10aa17d50>"
      ]
     },
     "execution_count": 12,
     "metadata": {},
     "output_type": "execute_result"
    },
    {
     "data": {
      "image/png": "[encoded data removed]",
      "text/plain": [
       "<matplotlib.figure.Figure at 0x10a6da610>"
      ]
     },
     "metadata": {},
     "output_type": "display_data"
    }
   ],
   "source": [
    "df_t1.plot(kind='scatter', x='active', y='pf', c='labels', colormap='flag', s=80)\n",
    "\n",
    "plt.xlabel('Active Power')\n",
    "plt.ylabel('Power Factor')"
   ]
  },
  {
   "cell_type": "code",
   "execution_count": 13,
   "metadata": {
    "collapsed": false
   },
   "outputs": [
    {
     "data": {
      "text/html": [
       "<div>\n",
       "<table border=\"1\" class=\"dataframe\">\n",
       "  <thead>\n",
       "    <tr style=\"text-align: right;\">\n",
       "      <th></th>\n",
       "      <th>power</th>\n",
       "      <th>pf</th>\n",
       "      <th>theta</th>\n",
       "      <th>active</th>\n",
       "      <th>reactive</th>\n",
       "      <th>labels</th>\n",
       "    </tr>\n",
       "    <tr>\n",
       "      <th>dt</th>\n",
       "      <th></th>\n",
       "      <th></th>\n",
       "      <th></th>\n",
       "      <th></th>\n",
       "      <th></th>\n",
       "      <th></th>\n",
       "    </tr>\n",
       "  </thead>\n",
       "  <tbody>\n",
       "    <tr>\n",
       "      <th>2016-07-01 18:30:00</th>\n",
       "      <td>208.0</td>\n",
       "      <td>0.970</td>\n",
       "      <td>0.245565</td>\n",
       "      <td>201.760006</td>\n",
       "      <td>50.565798</td>\n",
       "      <td>0</td>\n",
       "    </tr>\n",
       "    <tr>\n",
       "      <th>2016-07-01 18:31:00</th>\n",
       "      <td>2295.5</td>\n",
       "      <td>0.895</td>\n",
       "      <td>0.462239</td>\n",
       "      <td>2054.774956</td>\n",
       "      <td>1023.014271</td>\n",
       "      <td>1</td>\n",
       "    </tr>\n",
       "    <tr>\n",
       "      <th>2016-07-01 18:32:00</th>\n",
       "      <td>2327.0</td>\n",
       "      <td>0.900</td>\n",
       "      <td>0.451027</td>\n",
       "      <td>2094.299944</td>\n",
       "      <td>1014.315899</td>\n",
       "      <td>1</td>\n",
       "    </tr>\n",
       "    <tr>\n",
       "      <th>2016-07-01 18:33:00</th>\n",
       "      <td>1260.0</td>\n",
       "      <td>0.935</td>\n",
       "      <td>0.348296</td>\n",
       "      <td>1141.244975</td>\n",
       "      <td>529.268067</td>\n",
       "      <td>2</td>\n",
       "    </tr>\n",
       "    <tr>\n",
       "      <th>2016-07-01 18:34:00</th>\n",
       "      <td>207.0</td>\n",
       "      <td>0.970</td>\n",
       "      <td>0.245565</td>\n",
       "      <td>200.790006</td>\n",
       "      <td>50.322694</td>\n",
       "      <td>0</td>\n",
       "    </tr>\n",
       "  </tbody>\n",
       "</table>\n",
       "</div>"
      ],
      "text/plain": [
       "                      power     pf     theta       active     reactive  labels\n",
       "dt                                                                            \n",
       "2016-07-01 18:30:00   208.0  0.970  0.245565   201.760006    50.565798       0\n",
       "2016-07-01 18:31:00  2295.5  0.895  0.462239  2054.774956  1023.014271       1\n",
       "2016-07-01 18:32:00  2327.0  0.900  0.451027  2094.299944  1014.315899       1\n",
       "2016-07-01 18:33:00  1260.0  0.935  0.348296  1141.244975   529.268067       2\n",
       "2016-07-01 18:34:00   207.0  0.970  0.245565   200.790006    50.322694       0"
      ]
     },
     "execution_count": 13,
     "metadata": {},
     "output_type": "execute_result"
    }
   ],
   "source": [
    "df_rs.head()"
   ]
  },
  {
   "cell_type": "code",
   "execution_count": 14,
   "metadata": {
    "collapsed": false
   },
   "outputs": [
    {
     "data": {
      "text/html": [
       "<div>\n",
       "<table border=\"1\" class=\"dataframe\">\n",
       "  <thead>\n",
       "    <tr style=\"text-align: right;\">\n",
       "      <th></th>\n",
       "      <th>power</th>\n",
       "      <th>pf</th>\n",
       "      <th>theta</th>\n",
       "      <th>active</th>\n",
       "      <th>reactive</th>\n",
       "    </tr>\n",
       "    <tr>\n",
       "      <th>labels</th>\n",
       "      <th></th>\n",
       "      <th></th>\n",
       "      <th></th>\n",
       "      <th></th>\n",
       "      <th></th>\n",
       "    </tr>\n",
       "  </thead>\n",
       "  <tbody>\n",
       "    <tr>\n",
       "      <th>-1</th>\n",
       "      <td>1504.372093</td>\n",
       "      <td>0.916279</td>\n",
       "      <td>0.401807</td>\n",
       "      <td>1356.702677</td>\n",
       "      <td>642.110567</td>\n",
       "    </tr>\n",
       "    <tr>\n",
       "      <th>0</th>\n",
       "      <td>208.474025</td>\n",
       "      <td>0.968262</td>\n",
       "      <td>0.252165</td>\n",
       "      <td>201.843441</td>\n",
       "      <td>52.060874</td>\n",
       "    </tr>\n",
       "    <tr>\n",
       "      <th>1</th>\n",
       "      <td>2400.298718</td>\n",
       "      <td>0.905555</td>\n",
       "      <td>0.435992</td>\n",
       "      <td>2173.688448</td>\n",
       "      <td>1012.475427</td>\n",
       "    </tr>\n",
       "    <tr>\n",
       "      <th>2</th>\n",
       "      <td>1292.750000</td>\n",
       "      <td>0.934454</td>\n",
       "      <td>0.349923</td>\n",
       "      <td>1171.618451</td>\n",
       "      <td>539.194363</td>\n",
       "    </tr>\n",
       "  </tbody>\n",
       "</table>\n",
       "</div>"
      ],
      "text/plain": [
       "              power        pf     theta       active     reactive\n",
       "labels                                                           \n",
       "-1      1504.372093  0.916279  0.401807  1356.702677   642.110567\n",
       " 0       208.474025  0.968262  0.252165   201.843441    52.060874\n",
       " 1      2400.298718  0.905555  0.435992  2173.688448  1012.475427\n",
       " 2      1292.750000  0.934454  0.349923  1171.618451   539.194363"
      ]
     },
     "execution_count": 14,
     "metadata": {},
     "output_type": "execute_result"
    }
   ],
   "source": [
    "df_rs.groupby(\"labels\").mean()"
   ]
  },
  {
   "cell_type": "markdown",
   "metadata": {},
   "source": [
    "# Learn Substates"
   ]
  },
  {
   "cell_type": "code",
   "execution_count": 15,
   "metadata": {
    "collapsed": false
   },
   "outputs": [
    {
     "data": {
      "text/plain": [
       "dt\n",
       "2016-07-01 18:30:00    0\n",
       "2016-07-01 18:31:00    1\n",
       "2016-07-01 18:32:00    1\n",
       "2016-07-01 18:33:00    2\n",
       "2016-07-01 18:34:00    0\n",
       "Name: labels, dtype: int64"
      ]
     },
     "execution_count": 15,
     "metadata": {},
     "output_type": "execute_result"
    }
   ],
   "source": [
    "df_rs[\"labels\"].head()"
   ]
  },
  {
   "cell_type": "code",
   "execution_count": 16,
   "metadata": {
    "collapsed": true
   },
   "outputs": [],
   "source": [
    "# Step 2, creating sub states based on the time intervals\n",
    "def addtime(enter):\n",
    "    num = 0\n",
    "    count = 0\n",
    "    prev_label = -2\n",
    "\n",
    "    df_out = pd.DataFrame()\n",
    "    for i in range(df_rs[\"labels\"].shape[0]):\n",
    "        if i == 0:\n",
    "            num += 1\n",
    "        elif df_rs.ix[i, \"labels\"] == df_rs.ix[i-1, \"labels\"]:\n",
    "            num+= 1\n",
    "        else:\n",
    "            df_out.loc[count, \"label\"] = df_rs.ix[i-1, \"labels\"]\n",
    "            df_out.loc[count, \"count\"] = num\n",
    "            num = 1\n",
    "            count += 1\n",
    "            \n",
    "    return df_out"
   ]
  },
  {
   "cell_type": "code",
   "execution_count": 17,
   "metadata": {
    "collapsed": false
   },
   "outputs": [],
   "source": [
    "sub_states = addtime(df_rs[\"labels\"])"
   ]
  },
  {
   "cell_type": "code",
   "execution_count": 18,
   "metadata": {
    "collapsed": false
   },
   "outputs": [
    {
     "data": {
      "text/html": [
       "<div>\n",
       "<table border=\"1\" class=\"dataframe\">\n",
       "  <thead>\n",
       "    <tr style=\"text-align: right;\">\n",
       "      <th></th>\n",
       "      <th>label</th>\n",
       "      <th>count</th>\n",
       "    </tr>\n",
       "  </thead>\n",
       "  <tbody>\n",
       "    <tr>\n",
       "      <th>0</th>\n",
       "      <td>0.0</td>\n",
       "      <td>1.0</td>\n",
       "    </tr>\n",
       "    <tr>\n",
       "      <th>1</th>\n",
       "      <td>1.0</td>\n",
       "      <td>2.0</td>\n",
       "    </tr>\n",
       "    <tr>\n",
       "      <th>2</th>\n",
       "      <td>2.0</td>\n",
       "      <td>1.0</td>\n",
       "    </tr>\n",
       "    <tr>\n",
       "      <th>3</th>\n",
       "      <td>0.0</td>\n",
       "      <td>2.0</td>\n",
       "    </tr>\n",
       "    <tr>\n",
       "      <th>4</th>\n",
       "      <td>2.0</td>\n",
       "      <td>1.0</td>\n",
       "    </tr>\n",
       "  </tbody>\n",
       "</table>\n",
       "</div>"
      ],
      "text/plain": [
       "   label  count\n",
       "0    0.0    1.0\n",
       "1    1.0    2.0\n",
       "2    2.0    1.0\n",
       "3    0.0    2.0\n",
       "4    2.0    1.0"
      ]
     },
     "execution_count": 18,
     "metadata": {},
     "output_type": "execute_result"
    }
   ],
   "source": [
    "sub_states.head()"
   ]
  },
  {
   "cell_type": "code",
   "execution_count": 19,
   "metadata": {
    "collapsed": false
   },
   "outputs": [
    {
     "data": {
      "text/plain": [
       "<matplotlib.axes._subplots.AxesSubplot at 0x10b061e10>"
      ]
     },
     "execution_count": 19,
     "metadata": {},
     "output_type": "execute_result"
    },
    {
     "data": {
      "image/png": "[encoded data removed]",
      "text/plain": [
       "<matplotlib.figure.Figure at 0x10b061390>"
      ]
     },
     "metadata": {},
     "output_type": "display_data"
    }
   ],
   "source": [
    "# Standby State\n",
    "sub_states[sub_states[\"label\"] == 0][\"count\"].hist()"
   ]
  },
  {
   "cell_type": "code",
   "execution_count": 20,
   "metadata": {
    "collapsed": false
   },
   "outputs": [
    {
     "data": {
      "text/plain": [
       "<matplotlib.axes._subplots.AxesSubplot at 0x10b107b50>"
      ]
     },
     "execution_count": 20,
     "metadata": {},
     "output_type": "execute_result"
    },
    {
     "data": {
      "image/png": "[encoded data removed]",
      "text/plain": [
       "<matplotlib.figure.Figure at 0x10b1592d0>"
      ]
     },
     "metadata": {},
     "output_type": "display_data"
    }
   ],
   "source": [
    "# Compressor Off State\n",
    "sub_states[sub_states[\"label\"] == 1][\"count\"].hist()"
   ]
  },
  {
   "cell_type": "code",
   "execution_count": 21,
   "metadata": {
    "collapsed": false
   },
   "outputs": [
    {
     "data": {
      "text/plain": [
       "<matplotlib.axes._subplots.AxesSubplot at 0x10b107d10>"
      ]
     },
     "execution_count": 21,
     "metadata": {},
     "output_type": "execute_result"
    },
    {
     "data": {
      "image/png": "[encoded data removed]",
      "text/plain": [
       "<matplotlib.figure.Figure at 0x10a90b610>"
      ]
     },
     "metadata": {},
     "output_type": "display_data"
    }
   ],
   "source": [
    "# Compressor On State\n",
    "sub_states[sub_states[\"label\"] == 2][\"count\"].hist()"
   ]
  },
  {
   "cell_type": "markdown",
   "metadata": {},
   "source": [
    "# Learn Periodicity"
   ]
  },
  {
   "cell_type": "code",
   "execution_count": 22,
   "metadata": {
    "collapsed": false
   },
   "outputs": [],
   "source": [
    "df_labels = df_rs[\"labels\"].reset_index(drop=True)"
   ]
  },
  {
   "cell_type": "code",
   "execution_count": 23,
   "metadata": {
    "collapsed": false
   },
   "outputs": [],
   "source": [
    "periodicity = dict()"
   ]
  },
  {
   "cell_type": "code",
   "execution_count": 26,
   "metadata": {
    "collapsed": false
   },
   "outputs": [],
   "source": [
    "labels = df_rs[\"labels\"].unique()\n",
    "df_s3 = pd.DataFrame(index=labels, columns=[\"mean\", \"std\", \"min\", \"max\"])\n",
    "for label in labels:\n",
    "    periodicity[label] = np.ediff1d(df_labels[df_labels==label].index.values) - 1\n",
    "    df_s3.loc[label, \"mean\"] = np.mean(periodicity[label])\n",
    "    df_s3.loc[label, \"std\"] = np.std(periodicity[label])\n",
    "    df_s3.loc[label, \"min\"] = min(periodicity[label])\n",
    "    df_s3.loc[label, \"max\"] = max(periodicity[label])"
   ]
  },
  {
   "cell_type": "code",
   "execution_count": 27,
   "metadata": {
    "collapsed": false
   },
   "outputs": [
    {
     "data": {
      "text/plain": [
       "{-1: array([213,  29, 205, 189, 239, 336, 118,   2,  24,  18, 111, 187,   6,\n",
       "          8, 156, 144,  41,   5, 244, 219, 103, 225,  35, 200, 418, 167,\n",
       "        152, 237, 109,  19,  48,  23, 230,  66, 217,   2, 173,   9,  32,\n",
       "          8,  81, 161,  41,  28, 314, 212,  41,  80,  90, 134, 439, 268,\n",
       "        193,   7,  15,  77, 372, 313, 153, 118, 194,  39, 224, 604,  23,\n",
       "          0,  74,   4,  10,   4,   4,  22,  34, 195, 195,  46,  13, 167,\n",
       "         93,  16, 144, 602, 178, 309,  20]),\n",
       " 0: array([3, 0, 3, ..., 0, 0, 2]),\n",
       " 1: array([0, 4, 4, ..., 0, 3, 0]),\n",
       " 2: array([2, 1, 2, ..., 2, 1, 2])}"
      ]
     },
     "execution_count": 27,
     "metadata": {},
     "output_type": "execute_result"
    }
   ],
   "source": [
    "periodicity"
   ]
  },
  {
   "cell_type": "code",
   "execution_count": 28,
   "metadata": {
    "collapsed": false
   },
   "outputs": [
    {
     "data": {
      "text/html": [
       "<div>\n",
       "<table border=\"1\" class=\"dataframe\">\n",
       "  <thead>\n",
       "    <tr style=\"text-align: right;\">\n",
       "      <th></th>\n",
       "      <th>mean</th>\n",
       "      <th>std</th>\n",
       "      <th>min</th>\n",
       "      <th>max</th>\n",
       "    </tr>\n",
       "  </thead>\n",
       "  <tbody>\n",
       "    <tr>\n",
       "      <th>0</th>\n",
       "      <td>1.61198</td>\n",
       "      <td>3.31627</td>\n",
       "      <td>0</td>\n",
       "      <td>79</td>\n",
       "    </tr>\n",
       "    <tr>\n",
       "      <th>1</th>\n",
       "      <td>1.16946</td>\n",
       "      <td>1.70051</td>\n",
       "      <td>0</td>\n",
       "      <td>14</td>\n",
       "    </tr>\n",
       "    <tr>\n",
       "      <th>2</th>\n",
       "      <td>5.70076</td>\n",
       "      <td>9.22435</td>\n",
       "      <td>1</td>\n",
       "      <td>105</td>\n",
       "    </tr>\n",
       "    <tr>\n",
       "      <th>-1</th>\n",
       "      <td>133.153</td>\n",
       "      <td>129.269</td>\n",
       "      <td>0</td>\n",
       "      <td>604</td>\n",
       "    </tr>\n",
       "  </tbody>\n",
       "</table>\n",
       "</div>"
      ],
      "text/plain": [
       "       mean      std min  max\n",
       " 0  1.61198  3.31627   0   79\n",
       " 1  1.16946  1.70051   0   14\n",
       " 2  5.70076  9.22435   1  105\n",
       "-1  133.153  129.269   0  604"
      ]
     },
     "execution_count": 28,
     "metadata": {},
     "output_type": "execute_result"
    }
   ],
   "source": [
    "df_s3"
   ]
  },
  {
   "cell_type": "markdown",
   "metadata": {
    "collapsed": true
   },
   "source": [
    "# Learn Transition Matrix"
   ]
  },
  {
   "cell_type": "code",
   "execution_count": 30,
   "metadata": {
    "collapsed": false
   },
   "outputs": [
    {
     "name": "stdout",
     "output_type": "stream",
     "text": [
      "4\n"
     ]
    }
   ],
   "source": [
    "n_labels_ = len(labels)\n",
    "print n_labels_"
   ]
  },
  {
   "cell_type": "code",
   "execution_count": 54,
   "metadata": {
    "collapsed": false
   },
   "outputs": [
    {
     "data": {
      "text/plain": [
       "array([[ 0.,  0.,  0.,  0.],\n",
       "       [ 0.,  0.,  0.,  0.],\n",
       "       [ 0.,  0.,  0.,  0.],\n",
       "       [ 0.,  0.,  0.,  0.]])"
      ]
     },
     "execution_count": 54,
     "metadata": {},
     "output_type": "execute_result"
    }
   ],
   "source": [
    "tm = np.zeros((n_labels_, n_labels_), dtype=float)\n",
    "tm"
   ]
  },
  {
   "cell_type": "code",
   "execution_count": 56,
   "metadata": {
    "collapsed": false
   },
   "outputs": [],
   "source": [
    "l_vals = df_rs[\"labels\"].values\n",
    "\n",
    "trans_count = Counter(zip(l_vals, l_vals[1:]))\n",
    "trans_count"
   ]
  },
  {
   "cell_type": "code",
   "execution_count": 57,
   "metadata": {
    "collapsed": false
   },
   "outputs": [],
   "source": [
    "for (x,y), c in .iteritems():\n",
    "    tm[x-1,y-1] = c"
   ]
  },
  {
   "cell_type": "code",
   "execution_count": 59,
   "metadata": {
    "collapsed": false
   },
   "outputs": [],
   "source": [
    "for i in range(n_labels_):\n",
    "    tm[i,:] = tm[i,:] / np.sum(tm[i, :])"
   ]
  },
  {
   "cell_type": "code",
   "execution_count": 60,
   "metadata": {
    "collapsed": false
   },
   "outputs": [
    {
     "data": {
      "text/plain": [
       "array([[ 0.66980776,  0.15981907,  0.00904636,  0.1613268 ],\n",
       "       [ 0.50116822,  0.        ,  0.00233645,  0.49649533],\n",
       "       [ 0.40697674,  0.02325581,  0.01162791,  0.55813953],\n",
       "       [ 0.19491718,  0.19559791,  0.00748809,  0.60199682]])"
      ]
     },
     "execution_count": 60,
     "metadata": {},
     "output_type": "execute_result"
    }
   ],
   "source": [
    "tm"
   ]
  },
  {
   "cell_type": "code",
   "execution_count": null,
   "metadata": {
    "collapsed": false
   },
   "outputs": [],
   "source": [
    "#now lets divide the data\n",
    "ones = df[df['labels'] == 1]\n",
    "zeros = df[df['labels'] == 0]"
   ]
  },
  {
   "cell_type": "code",
   "execution_count": null,
   "metadata": {
    "collapsed": true
   },
   "outputs": [],
   "source": [
    "# Choosing the best sub states by elimiating one that are not useful\n",
    "def best_sub_states(dat):\n",
    "    \n",
    "    a = dat.substates.values\n",
    "    counttype=collections.Counter(a)\n",
    "    print(\"How the Distribution looks like\")\n",
    "    print(\"**\"*40)\n",
    "    print(counttype)\n",
    "    print(\"Visualising\")\n",
    "    print(\"**\"*40)\n",
    "    keytype = list(counttype.keys())\n",
    "    populationtype = list(counttype.values())\n",
    "\n",
    "    dataa = [go.Bar(\n",
    "                y= populationtype,\n",
    "                x = keytype,\n",
    "                width = 1.5,\n",
    "                marker=dict(\n",
    "                   color = populationtype,\n",
    "                colorscale='Portland',\n",
    "                showscale=True,\n",
    "                reversescale = False\n",
    "                ),\n",
    "                opacity=0.6\n",
    "            )]\n",
    "    \n",
    "    layout= go.Layout(\n",
    "        autosize= True,\n",
    "        title= 'Distribution of Sub_States',\n",
    "        hovermode= 'closest',\n",
    "        yaxis=dict(\n",
    "            title= 'Number of repetitions',\n",
    "            ticklen= 5,\n",
    "            gridwidth= 2\n",
    "        ),\n",
    "        showlegend= False\n",
    "    )\n",
    "    fig = go.Figure(data=dataa, layout=layout)\n",
    "    py.iplot(fig, filename='barplottype')\n",
    "    \n",
    "    best_sub = []\n",
    "    for i in range(len(populationtype)):\n",
    "        if populationtype[i] > 20:\n",
    "            best_sub.append(keytype[i])\n",
    "    \n",
    "    return best_sub"
   ]
  },
  {
   "cell_type": "code",
   "execution_count": null,
   "metadata": {
    "collapsed": false
   },
   "outputs": [],
   "source": [
    "best_ones = best_sub_states(ones)"
   ]
  },
  {
   "cell_type": "code",
   "execution_count": null,
   "metadata": {
    "collapsed": false
   },
   "outputs": [],
   "source": [
    "best_zero = best_sub_states(zeros)"
   ]
  },
  {
   "cell_type": "code",
   "execution_count": null,
   "metadata": {
    "collapsed": false
   },
   "outputs": [],
   "source": [
    "# Step 4, checking hte frequency of state change\n",
    "def checkfreq(labels):\n",
    "    frequency = []\n",
    "    one2one = 0\n",
    "    one2two = 0\n",
    "    two2one = 0\n",
    "    two2two = 0\n",
    "    \n",
    "    for i in range(1,len(labels)):\n",
    "        if labels[i] == 1 and labels[i-1] == 1:\n",
    "            one2one = one2one + 1\n",
    "        if labels[i] == 0 and labels[i-1] == 1:\n",
    "            one2two = one2two + 1\n",
    "        if labels[i] == 0 and labels[i-1] == 0:\n",
    "            two2two = two2two + 1\n",
    "        if labels[i] == 1 and labels[i-1] == 0:\n",
    "            two2one = two2one + 1 \n",
    "    frequency.append(one2one)\n",
    "    frequency.append(one2two)\n",
    "    frequency.append(two2one)\n",
    "    frequency.append(two2two)\n",
    "    return frequency"
   ]
  },
  {
   "cell_type": "code",
   "execution_count": null,
   "metadata": {
    "collapsed": false
   },
   "outputs": [],
   "source": [
    "Amat =  checkfreq(labels)"
   ]
  },
  {
   "cell_type": "code",
   "execution_count": null,
   "metadata": {
    "collapsed": true
   },
   "outputs": [],
   "source": [
    "prob1to1 = Amat[0] / (Amat[0] + Amat[1])\n",
    "prob1to0 = Amat[1] / (Amat[0] + Amat[1])\n",
    "prob0to1 = Amat[2] / (Amat[2] + Amat[3])\n",
    "prob0to0 = Amat[3] / (Amat[2] + Amat[3])"
   ]
  },
  {
   "cell_type": "code",
   "execution_count": null,
   "metadata": {
    "collapsed": false
   },
   "outputs": [],
   "source": [
    "print(prob1to1)\n",
    "print(prob1to0)\n",
    "print(prob0to1)\n",
    "print(prob0to0)"
   ]
  },
  {
   "cell_type": "code",
   "execution_count": null,
   "metadata": {
    "collapsed": true
   },
   "outputs": [],
   "source": [
    "#end of learning phase"
   ]
  },
  {
   "cell_type": "code",
   "execution_count": null,
   "metadata": {
    "collapsed": true
   },
   "outputs": [],
   "source": [
    "# We start testing now"
   ]
  },
  {
   "cell_type": "code",
   "execution_count": null,
   "metadata": {
    "collapsed": false
   },
   "outputs": [],
   "source": [
    "from sklearn.cluster import KMeans, DBSCAN\n",
    "# If DBSCAN returns -1 then it is not part of any cluster and it is an anomaly \n",
    "def checkstep1(data):\n",
    "    anomaly_array = []\n",
    "    step1_output = []\n",
    "    test_labels_kmeans = kmeans.predict(data)\n",
    "    db.fit(test)\n",
    "    test_labels_dbscan = db.labels_\n",
    "    for i in range(len(test_labels_kmeans)):\n",
    "        \n",
    "        if test_labels_dbscan[i] == -1:\n",
    "            anomaly_array.append(-1)\n",
    "            step1_output.append(\"Malfunction\")\n",
    "        else:\n",
    "            anomaly_array.append(test_labels_kmeans[i])\n",
    "            step1_output.append(\"Step 1 Cleared\")\n",
    "            \n",
    "    return anomaly_array, step1_output"
   ]
  },
  {
   "cell_type": "code",
   "execution_count": null,
   "metadata": {
    "collapsed": false
   },
   "outputs": [],
   "source": [
    "anomaly, s1_output = checkstep1(test)"
   ]
  },
  {
   "cell_type": "code",
   "execution_count": null,
   "metadata": {
    "collapsed": true
   },
   "outputs": [],
   "source": [
    "def checkstep2(enter_input):\n",
    "    checkstep2_output = []\n",
    "    test_labels_kmeans = kmeans.predict(enter_input)\n",
    "    test_labels_kmeans = list(test_labels_kmeans)\n",
    "    new_sub_states = addtime(test_labels_kmeans)\n",
    "    #print(test_labels_kmeans)\n",
    "    for i in range(len(test_labels_kmeans)):\n",
    "        if test_labels_kmeans[i] == 1:\n",
    "            \n",
    "            if new_sub_states[i] in best_ones:\n",
    "                checkstep2_output.append(\"Step2 Cleared\")\n",
    "                #print(test_labels_kmeans[i])\n",
    "                #print(new_sub_states[i])\n",
    "            else:\n",
    "                checkstep2_output.append(\"Step2_malfunction\")\n",
    "        else:\n",
    "            if new_sub_states[i] in best_zero:\n",
    "                checkstep2_output.append(\"Step2 Cleared\")\n",
    "            else:\n",
    "                checkstep2_output.append(\"Step2_malfunction\")\n",
    "        \n",
    "    return checkstep2_output"
   ]
  },
  {
   "cell_type": "code",
   "execution_count": null,
   "metadata": {
    "collapsed": false
   },
   "outputs": [],
   "source": [
    "step2 = checkstep2(test)"
   ]
  },
  {
   "cell_type": "code",
   "execution_count": null,
   "metadata": {
    "collapsed": false
   },
   "outputs": [],
   "source": [
    "def checkstep3(enter_input, tolerance):\n",
    "    test_labels_kmeans = kmeans.predict(enter_input)\n",
    "    test_labels_kmeans = list(test_labels_kmeans)\n",
    "    new_sub_states = addtime(test_labels_kmeans)\n",
    "    info_list = []\n",
    "    info_list.append(np.mean(enter_input))\n",
    "    info_list.append(max(enter_input))\n",
    "    info_list.append(min(enter_input))\n",
    "    info_list.append(np.std(enter_input))\n",
    "    \n",
    "    if np.std(info_list) > np.std(step3)*(1 + tolerance) :\n",
    "        return \"Step 3 problem, Greater\"\n",
    "    elif np.std(info_list) < np.std(step3)* (1 - tolerance):\n",
    "        return \"Step 3 problem, Lower\"\n",
    "    else:\n",
    "        return \"No Problem\""
   ]
  },
  {
   "cell_type": "code",
   "execution_count": null,
   "metadata": {
    "collapsed": false
   },
   "outputs": [],
   "source": [
    "# as we want 2 sigma tolerance\n",
    "checkstep3(test, 0.66)"
   ]
  },
  {
   "cell_type": "code",
   "execution_count": null,
   "metadata": {
    "collapsed": true
   },
   "outputs": [],
   "source": [
    "def checkstep4(enter_input, tolerance):\n",
    "    \n",
    "    test_labels_kmeans = kmeans.predict(enter_input)\n",
    "    test_labels_kmeans = list(test_labels_kmeans)\n",
    "    Bmat =  checkfreq(test_labels_kmeans)\n",
    "    print(np.std(Bmat))\n",
    "    print(np.std(Amat))\n",
    "    \n",
    "    if np.std(Bmat) > np.std(Amat)*(1 + tolerance) :\n",
    "        return \"Step 4 problem, Greater\"\n",
    "    elif np.std(Bmat) < np.std(Amat)* (1 - tolerance):\n",
    "        return \"Step 4 problem, Lower\"\n",
    "    else:\n",
    "        return \"No Problem\""
   ]
  },
  {
   "cell_type": "code",
   "execution_count": null,
   "metadata": {
    "collapsed": false
   },
   "outputs": [],
   "source": [
    "checkstep4(test,0.5)"
   ]
  },
  {
   "cell_type": "code",
   "execution_count": null,
   "metadata": {
    "collapsed": true
   },
   "outputs": [],
   "source": [
    "full_output = pd.DataFrame(data = [s1_output, step2])"
   ]
  },
  {
   "cell_type": "code",
   "execution_count": null,
   "metadata": {
    "collapsed": false
   },
   "outputs": [],
   "source": [
    "#this is how the output will look like\n",
    "# Step 3 and 4 will just be one line reporting if the whole data passed the step or not\n",
    "full_output = full_output.T\n",
    "full_output.columns = [\"Step1\", \"Step2\"]\n",
    "full_output.head()"
   ]
  }
 ],
 "metadata": {
  "anaconda-cloud": {},
  "kernelspec": {
   "display_name": "Python 2",
   "language": "python",
   "name": "python2"
  },
  "language_info": {
   "codemirror_mode": {
    "name": "ipython",
    "version": 2
   },
   "file_extension": ".py",
   "mimetype": "text/x-python",
   "name": "python",
   "nbconvert_exporter": "python",
   "pygments_lexer": "ipython2",
   "version": "2.7.10"
  }
 },
 "nbformat": 4,
 "nbformat_minor": 2
}
