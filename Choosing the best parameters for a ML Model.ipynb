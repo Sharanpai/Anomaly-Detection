{
 "cells": [
  {
   "cell_type": "markdown",
   "metadata": {},
   "source": [
    "# First we import everything we want"
   ]
  },
  {
   "cell_type": "code",
   "execution_count": 1,
   "metadata": {
    "collapsed": true
   },
   "outputs": [],
   "source": [
    "import numpy as np\n",
    "import pandas as pd\n",
    "from sklearn.svm import SVC\n",
    "from sklearn.neighbors import KNeighborsClassifier\n",
    "from sklearn import datasets\n",
    "from sklearn.cross_validation import train_test_split"
   ]
  },
  {
   "cell_type": "markdown",
   "metadata": {},
   "source": [
    "For ease of explanation lets use the breast cancer dataset from sklearn "
   ]
  },
  {
   "cell_type": "code",
   "execution_count": 2,
   "metadata": {
    "collapsed": true
   },
   "outputs": [],
   "source": [
    "cancer = datasets.load_breast_cancer()"
   ]
  },
  {
   "cell_type": "markdown",
   "metadata": {},
   "source": [
    "The dataset represents a classic classification problem "
   ]
  },
  {
   "cell_type": "markdown",
   "metadata": {},
   "source": [
    "### First lets use the KNN Classifier to show which parameters to choose best\n",
    "### it is the naive way to do it, but gives a clear idea to what is happening "
   ]
  },
  {
   "cell_type": "code",
   "execution_count": 4,
   "metadata": {
    "collapsed": false
   },
   "outputs": [],
   "source": [
    "X_train, X_test, y_train, y_test = train_test_split(cancer.data, cancer.target, test_size=0.4, random_state=0)"
   ]
  },
  {
   "cell_type": "code",
   "execution_count": 5,
   "metadata": {
    "collapsed": false
   },
   "outputs": [
    {
     "name": "stdout",
     "output_type": "stream",
     "text": [
      "Best score:  0.964912280702\n",
      "Best parameters: neighbor:  10\n"
     ]
    }
   ],
   "source": [
    "## let's use the KNN classifier \n",
    "\n",
    "best_score = 0\n",
    "best_parameter = 0\n",
    "\n",
    "for neigh in [1, 2, 3, 4, 5, 10,15]:\n",
    "    # for each parameter, train a KNN\n",
    "        knn = KNeighborsClassifier(n_neighbors=neigh)\n",
    "        knn.fit(X_train, y_train)\n",
    "    # evaluate the KNN on the test set\n",
    "        score = knn.score(X_test, y_test)\n",
    "        \n",
    "    # if we got a better score, store the score and parameter\n",
    "        if score > best_score:\n",
    "            best_score = score\n",
    "            best_parameter = neigh\n",
    "\n",
    "        \n",
    "        \n",
    "print(\"Best score: \" , best_score)\n",
    "print(\"Best parameters: neighbor: \" , best_parameter)"
   ]
  },
  {
   "cell_type": "markdown",
   "metadata": {},
   "source": [
    "### now lets try the SVC classifier  "
   ]
  },
  {
   "cell_type": "code",
   "execution_count": 6,
   "metadata": {
    "collapsed": false
   },
   "outputs": [
    {
     "name": "stdout",
     "output_type": "stream",
     "text": [
      "Best score:  0.94298245614\n",
      "Best parameters: C:  1 gamma:  0.001\n"
     ]
    }
   ],
   "source": [
    "## first we use the SVC classifier \n",
    "\n",
    "best_score = 0\n",
    "best_C = 0\n",
    "best_gamma = 0\n",
    "\n",
    "for gamma in [0.001, 0.01, 0.1, 1, 10, 100]:\n",
    "    for C in [0.001, 0.01, 0.1, 1, 10, 100]:\n",
    "    # for each combination of parameters, train an SVC\n",
    "        svm = SVC(gamma=gamma, C=C)\n",
    "        svm.fit(X_train, y_train)\n",
    "    # evaluate the SVC on the test set\n",
    "        score = svm.score(X_test, y_test)\n",
    "        \n",
    "    # if we got a better score, store the score and parameters\n",
    "        if score > best_score:\n",
    "            best_score = score\n",
    "            best_C =  C\n",
    "            best_gamma = gamma\n",
    "\n",
    "        \n",
    "        \n",
    "print(\"Best score: \" ,best_score)\n",
    "print(\"Best parameters: C: \" ,best_C ,\"gamma: \", best_gamma) "
   ]
  },
  {
   "cell_type": "code",
   "execution_count": null,
   "metadata": {
    "collapsed": true
   },
   "outputs": [],
   "source": []
  }
 ],
 "metadata": {
  "kernelspec": {
   "display_name": "Python [conda root]",
   "language": "python",
   "name": "conda-root-py"
  },
  "language_info": {
   "codemirror_mode": {
    "name": "ipython",
    "version": 3
   },
   "file_extension": ".py",
   "mimetype": "text/x-python",
   "name": "python",
   "nbconvert_exporter": "python",
   "pygments_lexer": "ipython3",
   "version": "3.5.2"
  }
 },
 "nbformat": 4,
 "nbformat_minor": 1
}
